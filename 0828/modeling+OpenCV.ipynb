{
  "nbformat": 4,
  "nbformat_minor": 0,
  "metadata": {
    "colab": {
      "provenance": [],
      "collapsed_sections": []
    },
    "kernelspec": {
      "name": "python3",
      "display_name": "Python 3"
    },
    "language_info": {
      "name": "python"
    },
    "accelerator": "GPU",
    "gpuClass": "standard"
  },
  "cells": [
    {
      "cell_type": "code",
      "execution_count": 1,
      "metadata": {
        "colab": {
          "base_uri": "https://localhost:8080/"
        },
        "id": "vTtmARJLyIyO",
        "outputId": "fc590cb3-f485-48cc-c8f0-d024b81945e9"
      },
      "outputs": [
        {
          "output_type": "stream",
          "name": "stdout",
          "text": [
            "Mounted at /content/drive\n"
          ]
        }
      ],
      "source": [
        "from google.colab import drive\n",
        "drive.mount('/content/drive')"
      ]
    },
    {
      "cell_type": "code",
      "source": [
        "import csv\n",
        "import numpy as np\n",
        "import tensorflow as tf\n",
        "from tensorflow.keras.preprocessing.image import ImageDataGenerator\n",
        "from google.colab import files"
      ],
      "metadata": {
        "id": "KkSHBnQ2zhH0"
      },
      "execution_count": 2,
      "outputs": []
    },
    {
      "cell_type": "markdown",
      "source": [
        "data 갖고오기"
      ],
      "metadata": {
        "id": "q5JZBnQL0b39"
      }
    },
    {
      "cell_type": "code",
      "source": [
        "def get_data(dir_path=\"/content/drive/MyDrive/SOOKTAT/딥러닝/프로젝트/train\"):\n",
        "    labels = ['Closed', 'Open']\n",
        "    IMG_SIZE = 290\n",
        "    data = []\n",
        "    for label in labels:\n",
        "        path = os.path.join(dir_path, label)\n",
        "        class_num = labels.index(label)\n",
        "        print(class_num)\n",
        "        for img in os.listdir(path): # closed 폴더 안에 _1.jpg, open 폴더 안에 1.jpg \n",
        "            try:\n",
        "                img_array = cv2.imread(os.path.join(path, img), cv2.IMREAD_COLOR) #/content/drive/MyDrive/2기 딥러닝 프로젝트/train/Closed/_0.jpg\n",
        "                resized_array = cv2.resize(img_array, (34, 26))\n",
        "                data.append([resized_array, class_num])\n",
        "            except Exception as e:\n",
        "                print(e)\n",
        "    return data"
      ],
      "metadata": {
        "id": "8wGc6rvfz2xX"
      },
      "execution_count": 3,
      "outputs": []
    },
    {
      "cell_type": "code",
      "source": [
        "import os\n",
        "import cv2\n",
        "\n",
        "data_train = get_data()"
      ],
      "metadata": {
        "colab": {
          "base_uri": "https://localhost:8080/"
        },
        "id": "-cFUPJkS0C-n",
        "outputId": "bc643706-486e-4f2f-8086-f5faf0ed5be4"
      },
      "execution_count": null,
      "outputs": [
        {
          "output_type": "stream",
          "name": "stdout",
          "text": [
            "0\n",
            "1\n"
          ]
        }
      ]
    },
    {
      "cell_type": "code",
      "source": [
        "X = []\n",
        "y = []\n",
        "for feature, label in data_train:\n",
        "    X.append(feature)\n",
        "    y.append(label)"
      ],
      "metadata": {
        "id": "kRLUS7AQ0P18"
      },
      "execution_count": null,
      "outputs": []
    },
    {
      "cell_type": "code",
      "source": [
        "import numpy as np\n",
        "X = np.array(X)\n",
        "y = np.array(y)"
      ],
      "metadata": {
        "id": "bOpRAaZe0Tnp"
      },
      "execution_count": null,
      "outputs": []
    },
    {
      "cell_type": "code",
      "source": [
        "from sklearn.preprocessing import LabelBinarizer\n",
        "label_bin = LabelBinarizer()\n",
        "y = label_bin.fit_transform(y)"
      ],
      "metadata": {
        "id": "d-DWJoKb0TzN"
      },
      "execution_count": null,
      "outputs": []
    },
    {
      "cell_type": "code",
      "source": [
        "X.shape"
      ],
      "metadata": {
        "colab": {
          "base_uri": "https://localhost:8080/"
        },
        "id": "MK6Kz40X7d7I",
        "outputId": "7a8dbafb-6fe3-48d5-8d16-a8a0b1b16c64"
      },
      "execution_count": null,
      "outputs": [
        {
          "output_type": "execute_result",
          "data": {
            "text/plain": [
              "(1452, 26, 34, 3)"
            ]
          },
          "metadata": {},
          "execution_count": 8
        }
      ]
    },
    {
      "cell_type": "code",
      "source": [
        "X = X.reshape(1452, 26, 34,3)"
      ],
      "metadata": {
        "id": "VwrJU8abT86j"
      },
      "execution_count": null,
      "outputs": []
    },
    {
      "cell_type": "code",
      "source": [
        "from sklearn.model_selection import train_test_split\n",
        "seed = 42\n",
        "test_size = 0.30\n",
        "X_train, X_test, y_train, y_test = train_test_split(X, y, random_state=seed, test_size=test_size)"
      ],
      "metadata": {
        "id": "_1lmgbGH0XzI"
      },
      "execution_count": null,
      "outputs": []
    },
    {
      "cell_type": "markdown",
      "source": [
        "train"
      ],
      "metadata": {
        "id": "9t_qxHnx0mMV"
      }
    },
    {
      "cell_type": "code",
      "source": [
        "import numpy as np\n",
        "import matplotlib.pyplot as plt\n",
        "import torch\n",
        "import torch.nn as nn\n",
        "from torchvision.transforms import transforms\n",
        "import torch.optim as optim"
      ],
      "metadata": {
        "id": "ekNgQRR50Z_5"
      },
      "execution_count": null,
      "outputs": []
    },
    {
      "cell_type": "code",
      "source": [
        "train_transform = transforms.Compose([\n",
        "    transforms.ToTensor(),\n",
        "    transforms.RandomRotation(10),\n",
        "    transforms.RandomHorizontalFlip(),\n",
        "])"
      ],
      "metadata": {
        "id": "FywmiVWl0qGw"
      },
      "execution_count": null,
      "outputs": []
    },
    {
      "cell_type": "code",
      "source": [
        "from torch.utils.data import Dataset\n",
        "import torch\n",
        "\n",
        "\n",
        "class eyes_dataset(Dataset):\n",
        "    def __init__(self, x_file_paths, y_file_path, transform=None):\n",
        "        self.x_files = x_file_paths\n",
        "        self.y_files = y_file_path\n",
        "        self.transform = transform\n",
        "\n",
        "    def __getitem__(self, idx):\n",
        "        x = self.x_files[idx]\n",
        "        x = torch.from_numpy(x).float()\n",
        "\n",
        "        y = self.y_files[idx]\n",
        "        y = torch.from_numpy(y).float()\n",
        "\n",
        "        return x, y\n",
        "\n",
        "    def __len__(self):\n",
        "        return len(self.x_files)"
      ],
      "metadata": {
        "id": "hgduo0VS43R_"
      },
      "execution_count": null,
      "outputs": []
    },
    {
      "cell_type": "code",
      "source": [
        "train_dataset = eyes_dataset(X_train, y_train)"
      ],
      "metadata": {
        "id": "9ICyapaL46EM"
      },
      "execution_count": null,
      "outputs": []
    },
    {
      "cell_type": "code",
      "source": [
        "type(y_train)"
      ],
      "metadata": {
        "colab": {
          "base_uri": "https://localhost:8080/"
        },
        "id": "G3wxKwBYXzyi",
        "outputId": "34fecc4a-67b5-4216-e6d5-6948241c10ce"
      },
      "execution_count": null,
      "outputs": [
        {
          "output_type": "execute_result",
          "data": {
            "text/plain": [
              "numpy.ndarray"
            ]
          },
          "metadata": {},
          "execution_count": 16
        }
      ]
    },
    {
      "cell_type": "markdown",
      "source": [
        "/ model"
      ],
      "metadata": {
        "id": "o5MIXkdO5bBy"
      }
    },
    {
      "cell_type": "code",
      "source": [
        "import torch.nn as nn\n",
        "import torch.nn.functional as F\n",
        "from torchsummary import summary\n",
        "\n",
        "class Net(nn.Module):\n",
        "    def __init__(self):\n",
        "        super(Net, self).__init__()\n",
        "\n",
        "        self.conv1 = nn.Conv2d(3, 32, kernel_size=3, stride=1, padding=1)\n",
        "        self.conv2 = nn.Conv2d(32, 64, kernel_size=3, stride=1, padding=1)\n",
        "        self.conv3 = nn.Conv2d(64, 128, kernel_size=3, stride=1, padding=1)\n",
        "        self.fc1 = nn.Linear(1536, 512)\n",
        "        self.fc2 = nn.Linear(512, 1)\n",
        "\n",
        "    def forward(self, x):\n",
        "        x = F.max_pool2d(F.relu(self.conv1(x)),2)\n",
        "        x = F.max_pool2d(F.relu(self.conv2(x)), 2)\n",
        "        x = F.max_pool2d(F.relu(self.conv3(x)), 2)\n",
        "        x = x.reshape(-1, 1536)\n",
        "        x = F.relu(self.fc1(x))\n",
        "        x = self.fc2(x)\n",
        "\n",
        "        return x"
      ],
      "metadata": {
        "id": "KMzrROw75cSZ"
      },
      "execution_count": null,
      "outputs": []
    },
    {
      "cell_type": "code",
      "source": [
        "PATH = '/content/drive/MyDrive/SOOKTAT/딥러닝/프로젝트/train.pth'\n",
        "\n",
        "from torch.utils.data import DataLoader\n",
        "\n",
        "train_dataloader = DataLoader(train_dataset, batch_size=8, shuffle=True, num_workers=4)"
      ],
      "metadata": {
        "colab": {
          "base_uri": "https://localhost:8080/"
        },
        "id": "ud0CbWC88-n-",
        "outputId": "6ddd1e72-44d2-4422-871e-88b2c61a2656"
      },
      "execution_count": null,
      "outputs": [
        {
          "output_type": "stream",
          "name": "stderr",
          "text": [
            "/usr/local/lib/python3.7/dist-packages/torch/utils/data/dataloader.py:566: UserWarning: This DataLoader will create 4 worker processes in total. Our suggested max number of worker in current system is 2, which is smaller than what this DataLoader is going to create. Please be aware that excessive worker creation might get DataLoader running slow or even freeze, lower the worker number to avoid potential slowness/freeze if necessary.\n",
            "  cpuset_checked))\n"
          ]
        }
      ]
    },
    {
      "cell_type": "code",
      "source": [
        "model = Net()\n",
        "model.to('cuda')\n",
        "\n",
        "#os.environ[\"CUDA_VISIBLE_DEVICES\"]\n",
        "\n",
        "criterion = nn.BCEWithLogitsLoss()\n",
        "optimizer = optim.Adam(model.parameters(), lr=0.0001)\n",
        "\n",
        "epochs = 50"
      ],
      "metadata": {
        "id": "fMoCLpBR5uIo"
      },
      "execution_count": null,
      "outputs": []
    },
    {
      "cell_type": "code",
      "source": [
        "def accuracy(y_pred, y_test):\n",
        "    y_pred_tag = torch.round(torch.sigmoid(y_pred))\n",
        "\n",
        "    correct_results_sum = (y_pred_tag == y_test).sum().float()\n",
        "    acc = correct_results_sum / y_test.shape[0]\n",
        "    acc = torch.round(acc * 100)\n",
        "\n",
        "    return acc"
      ],
      "metadata": {
        "id": "DNpyJJPQHP8K"
      },
      "execution_count": null,
      "outputs": []
    },
    {
      "cell_type": "code",
      "source": [
        "for epoch in range(epochs):\n",
        "    running_loss = 0.0\n",
        "    running_acc = 0.0\n",
        "\n",
        "    model.train()\n",
        "\n",
        "    for i, data in enumerate(train_dataloader, 0):\n",
        "        input_1, labels = data[0].to('cuda'), data[1].to('cuda')\n",
        "\n",
        "        input = input_1.transpose(1, 3).transpose(2, 3)\n",
        "\n",
        "        optimizer.zero_grad()\n",
        "\n",
        "        outputs = model(input)\n",
        "\n",
        "        loss = criterion(outputs, labels)\n",
        "        loss.backward()\n",
        "        optimizer.step()\n",
        "\n",
        "        running_loss += loss.item()\n",
        "        running_acc += accuracy(outputs, labels)\n",
        "\n",
        "        if i % 80 == 79:\n",
        "            print('epoch: [%d/%d] train_loss: %.5f train_acc: %.5f' % (\n",
        "                epoch + 1, epochs, running_loss / 80, running_acc / 80))\n",
        "            running_loss = 0.0\n",
        "\n",
        "print(\"learning finish\")\n",
        "torch.save(model.state_dict(), PATH)"
      ],
      "metadata": {
        "colab": {
          "base_uri": "https://localhost:8080/"
        },
        "id": "BviscRU454C3",
        "outputId": "46a77e2d-de80-48cf-e625-c1aacf18f06e"
      },
      "execution_count": null,
      "outputs": [
        {
          "output_type": "stream",
          "name": "stdout",
          "text": [
            "epoch: [1/50] train_loss: 0.45319 train_acc: 81.53750\n",
            "epoch: [2/50] train_loss: 0.12438 train_acc: 95.63750\n",
            "epoch: [3/50] train_loss: 0.07462 train_acc: 96.81250\n",
            "epoch: [4/50] train_loss: 0.05189 train_acc: 97.87500\n",
            "epoch: [5/50] train_loss: 0.04258 train_acc: 98.65000\n",
            "epoch: [6/50] train_loss: 0.02430 train_acc: 99.25000\n",
            "epoch: [7/50] train_loss: 0.02656 train_acc: 99.07500\n",
            "epoch: [8/50] train_loss: 0.01948 train_acc: 99.40000\n",
            "epoch: [9/50] train_loss: 0.01721 train_acc: 99.70000\n",
            "epoch: [10/50] train_loss: 0.00790 train_acc: 99.70000\n",
            "epoch: [11/50] train_loss: 0.00209 train_acc: 100.00000\n",
            "epoch: [12/50] train_loss: 0.00174 train_acc: 100.00000\n",
            "epoch: [13/50] train_loss: 0.00127 train_acc: 100.00000\n",
            "epoch: [14/50] train_loss: 0.00090 train_acc: 100.00000\n",
            "epoch: [15/50] train_loss: 0.00085 train_acc: 100.00000\n",
            "epoch: [16/50] train_loss: 0.00076 train_acc: 100.00000\n",
            "epoch: [17/50] train_loss: 0.00049 train_acc: 100.00000\n",
            "epoch: [18/50] train_loss: 0.00059 train_acc: 100.00000\n",
            "epoch: [19/50] train_loss: 0.00055 train_acc: 100.00000\n",
            "epoch: [20/50] train_loss: 0.00039 train_acc: 100.00000\n",
            "epoch: [21/50] train_loss: 0.00031 train_acc: 100.00000\n",
            "epoch: [22/50] train_loss: 0.00033 train_acc: 100.00000\n",
            "epoch: [23/50] train_loss: 0.00030 train_acc: 100.00000\n",
            "epoch: [24/50] train_loss: 0.00020 train_acc: 100.00000\n",
            "epoch: [25/50] train_loss: 0.01867 train_acc: 99.40000\n",
            "epoch: [26/50] train_loss: 0.07705 train_acc: 97.72500\n",
            "epoch: [27/50] train_loss: 0.03311 train_acc: 99.08750\n",
            "epoch: [28/50] train_loss: 0.01357 train_acc: 99.70000\n",
            "epoch: [29/50] train_loss: 0.00239 train_acc: 100.00000\n",
            "epoch: [30/50] train_loss: 0.00118 train_acc: 100.00000\n",
            "epoch: [31/50] train_loss: 0.00080 train_acc: 100.00000\n",
            "epoch: [32/50] train_loss: 0.00069 train_acc: 100.00000\n",
            "epoch: [33/50] train_loss: 0.00053 train_acc: 100.00000\n",
            "epoch: [34/50] train_loss: 0.00031 train_acc: 100.00000\n",
            "epoch: [35/50] train_loss: 0.00027 train_acc: 100.00000\n",
            "epoch: [36/50] train_loss: 0.00032 train_acc: 100.00000\n",
            "epoch: [37/50] train_loss: 0.00022 train_acc: 100.00000\n",
            "epoch: [38/50] train_loss: 0.00018 train_acc: 100.00000\n",
            "epoch: [39/50] train_loss: 0.00022 train_acc: 100.00000\n",
            "epoch: [40/50] train_loss: 0.00016 train_acc: 100.00000\n",
            "epoch: [41/50] train_loss: 0.00013 train_acc: 100.00000\n",
            "epoch: [42/50] train_loss: 0.00016 train_acc: 100.00000\n",
            "epoch: [43/50] train_loss: 0.00010 train_acc: 100.00000\n",
            "epoch: [44/50] train_loss: 0.00010 train_acc: 100.00000\n",
            "epoch: [45/50] train_loss: 0.00007 train_acc: 100.00000\n",
            "epoch: [46/50] train_loss: 0.00008 train_acc: 100.00000\n",
            "epoch: [47/50] train_loss: 0.00009 train_acc: 100.00000\n",
            "epoch: [48/50] train_loss: 0.00007 train_acc: 100.00000\n",
            "epoch: [49/50] train_loss: 0.00005 train_acc: 100.00000\n",
            "epoch: [50/50] train_loss: 0.00007 train_acc: 100.00000\n",
            "learning finish\n"
          ]
        }
      ]
    },
    {
      "cell_type": "markdown",
      "source": [
        "test"
      ],
      "metadata": {
        "id": "xtbE37gq-HKc"
      }
    },
    {
      "cell_type": "code",
      "source": [
        "test_transform = transforms.Compose([\n",
        "    transforms.ToTensor()\n",
        "])\n",
        "\n",
        "test_dataset = eyes_dataset(X_test, y_test, transform=test_transform)\n",
        "\n",
        "test_dataloader = DataLoader(test_dataset, batch_size=1, shuffle=False, num_workers=4)\n",
        "\n",
        "model = Net()\n",
        "model.to('cuda')\n",
        "model.load_state_dict(torch.load(PATH))\n",
        "model.eval()\n",
        "\n",
        "count = 0"
      ],
      "metadata": {
        "id": "shF4cQ5U99c2"
      },
      "execution_count": null,
      "outputs": []
    },
    {
      "cell_type": "code",
      "source": [
        "with torch.no_grad():\n",
        "    total_acc = 0.0\n",
        "    acc = 0.0\n",
        "    for i, test_data in enumerate(test_dataloader, 0):\n",
        "        data, labels = test_data[0].to('cuda'), test_data[1].to('cuda')\n",
        "\n",
        "        data = data.transpose(1, 3).transpose(2, 3)\n",
        "\n",
        "        outputs = model(data)\n",
        "\n",
        "        acc = accuracy(outputs, labels)\n",
        "        total_acc += acc\n",
        "\n",
        "        count = i\n",
        "\n",
        "    print('avarage acc: %.5f' % (total_acc/count),'%')\n",
        "\n",
        "print('test finish!')"
      ],
      "metadata": {
        "id": "QoXHtmQf-BWZ",
        "colab": {
          "base_uri": "https://localhost:8080/"
        },
        "outputId": "0634e067-449a-4e3e-ed01-e04a46e6da54"
      },
      "execution_count": null,
      "outputs": [
        {
          "output_type": "stream",
          "name": "stdout",
          "text": [
            "avarage acc: 98.85057 %\n",
            "test finish!\n"
          ]
        }
      ]
    },
    {
      "cell_type": "markdown",
      "source": [
        "open cv"
      ],
      "metadata": {
        "id": "UnKD9Lx7nWv8"
      }
    },
    {
      "cell_type": "code",
      "source": [
        "import cv2\n",
        "import dlib\n",
        "import numpy as np\n",
        "import torch\n",
        "from imutils import face_utils\n",
        "import os\n",
        "from keras.models import load_model\n",
        "#from pygame import mixer\n",
        "import time"
      ],
      "metadata": {
        "id": "Bvjzk3hW-DUe"
      },
      "execution_count": 2,
      "outputs": []
    },
    {
      "cell_type": "code",
      "source": [
        "!wget   http://dlib.net/files/shape_predictor_68_face_landmarks.dat.bz2 # DOWNLOAD LINK\n",
        "\n",
        "!bunzip2 /content/shape_predictor_68_face_landmarks.dat.bz2\n",
        "\n",
        "datFile =  \"/content/shape_predictor_68_face_landmarks.dat\""
      ],
      "metadata": {
        "colab": {
          "base_uri": "https://localhost:8080/"
        },
        "id": "SFXVYGh0nqX3",
        "outputId": "23e45711-3ed5-4553-be06-97c09c252ee8"
      },
      "execution_count": 3,
      "outputs": [
        {
          "output_type": "stream",
          "name": "stdout",
          "text": [
            "--2022-09-05 07:10:10--  http://dlib.net/files/shape_predictor_68_face_landmarks.dat.bz2\n",
            "Resolving dlib.net (dlib.net)... 107.180.26.78\n",
            "Connecting to dlib.net (dlib.net)|107.180.26.78|:80... connected.\n",
            "HTTP request sent, awaiting response... 200 OK\n",
            "Length: 64040097 (61M)\n",
            "Saving to: ‘shape_predictor_68_face_landmarks.dat.bz2’\n",
            "\n",
            "shape_predictor_68_ 100%[===================>]  61.07M  12.5MB/s    in 6.9s    \n",
            "\n",
            "2022-09-05 07:10:17 (8.81 MB/s) - ‘shape_predictor_68_face_landmarks.dat.bz2’ saved [64040097/64040097]\n",
            "\n"
          ]
        }
      ]
    },
    {
      "cell_type": "code",
      "source": [
        "IMG_SIZE = (34,26)\n",
        "PATH = '/content/drive/MyDrive/SOOKTAT/딥러닝/프로젝트/train.pth'\n",
        "\n",
        "detector = dlib.get_frontal_face_detector()\n",
        "predictor = dlib.shape_predictor(datFile)"
      ],
      "metadata": {
        "id": "IoTQSYiYnfNB"
      },
      "execution_count": 5,
      "outputs": []
    },
    {
      "cell_type": "code",
      "source": [
        "from IPython.display import display, Javascript\n",
        "from google.colab.output import eval_js\n",
        "from base64 import b64decode\n",
        "\n",
        "def take_photo(filename='result.jpg', quality=0.8):\n",
        "  js = Javascript('''\n",
        "    async function takePhoto(quality) {\n",
        "      const div = document.createElement('div');\n",
        "      const capture = document.createElement('button');\n",
        "      capture.textContent = 'Capture';\n",
        "      div.appendChild(capture);\n",
        "\n",
        "      const video = document.createElement('video');\n",
        "      video.style.display = 'block';\n",
        "      const stream = await navigator.mediaDevices.getUserMedia({video: true});\n",
        "\n",
        "      document.body.appendChild(div);\n",
        "      div.appendChild(video);\n",
        "      video.srcObject = stream;\n",
        "      await video.play();\n",
        "\n",
        "      // Resize the output to fit the video element.\n",
        "      google.colab.output.setIframeHeight(document.documentElement.scrollHeight, true);\n",
        "\n",
        "      // Wait for Capture to be clicked.\n",
        "      await new Promise((resolve) => capture.onclick = resolve);\n",
        "\n",
        "      const canvas = document.createElement('canvas');\n",
        "      canvas.width = video.videoWidth;\n",
        "      canvas.height = video.videoHeight;\n",
        "      canvas.getContext('2d').drawImage(video, 0, 0);\n",
        "      stream.getVideoTracks()[0].stop();\n",
        "      div.remove();\n",
        "      return canvas.toDataURL('image/jpeg', quality);\n",
        "    }\n",
        "    ''')\n",
        "  display(js)\n",
        "  data = eval_js('takePhoto({})'.format(quality))\n",
        "  binary = b64decode(data.split(',')[1])\n",
        "  with open(filename, 'wb') as f:\n",
        "    f.write(binary)\n",
        "  return filename"
      ],
      "metadata": {
        "id": "kLIjbtlAE0Y_"
      },
      "execution_count": 6,
      "outputs": []
    },
    {
      "cell_type": "code",
      "source": [
        "from IPython.display import Image\n",
        "try:\n",
        "  filename = take_photo()\n",
        "  print('Saved to {}'.format(filename))\n",
        "  \n",
        "  # Show the image which was just taken.\n",
        "  display(Image(filename))\n",
        "except Exception as err:\n",
        "  # Errors will be thrown if the user does not have a webcam or if they do not\n",
        "  # grant the page permission to access it.\n",
        "  print(str(err))"
      ],
      "metadata": {
        "colab": {
          "base_uri": "https://localhost:8080/",
          "height": 515
        },
        "id": "9qJfGT3bE3pn",
        "outputId": "9203833a-7a30-440c-c4fe-303c70aa0f7a"
      },
      "execution_count": 7,
      "outputs": [
        {
          "output_type": "display_data",
          "data": {
            "text/plain": [
              "<IPython.core.display.Javascript object>"
            ],
            "application/javascript": [
              "\n",
              "    async function takePhoto(quality) {\n",
              "      const div = document.createElement('div');\n",
              "      const capture = document.createElement('button');\n",
              "      capture.textContent = 'Capture';\n",
              "      div.appendChild(capture);\n",
              "\n",
              "      const video = document.createElement('video');\n",
              "      video.style.display = 'block';\n",
              "      const stream = await navigator.mediaDevices.getUserMedia({video: true});\n",
              "\n",
              "      document.body.appendChild(div);\n",
              "      div.appendChild(video);\n",
              "      video.srcObject = stream;\n",
              "      await video.play();\n",
              "\n",
              "      // Resize the output to fit the video element.\n",
              "      google.colab.output.setIframeHeight(document.documentElement.scrollHeight, true);\n",
              "\n",
              "      // Wait for Capture to be clicked.\n",
              "      await new Promise((resolve) => capture.onclick = resolve);\n",
              "\n",
              "      const canvas = document.createElement('canvas');\n",
              "      canvas.width = video.videoWidth;\n",
              "      canvas.height = video.videoHeight;\n",
              "      canvas.getContext('2d').drawImage(video, 0, 0);\n",
              "      stream.getVideoTracks()[0].stop();\n",
              "      div.remove();\n",
              "      return canvas.toDataURL('image/jpeg', quality);\n",
              "    }\n",
              "    "
            ]
          },
          "metadata": {}
        },
        {
          "output_type": "stream",
          "name": "stdout",
          "text": [
            "Saved to result.jpg\n"
          ]
        },
        {
          "output_type": "display_data",
          "data": {
            "image/jpeg": "[encoded data removed]",
            "text/plain": [
              "<IPython.core.display.Image object>"
            ]
          },
          "metadata": {}
        }
      ]
    },
    {
      "cell_type": "code",
      "source": [
        "from scipy.spatial import distance\n",
        "\n",
        "def calculate_EAR(eye):\n",
        "#눈에 랜드마크 좌표를 찍어서 EAR값을 예측\n",
        "\tA = distance.euclidean(eye[1],eye[5]) \n",
        "\tB = distance.euclidean(eye[2],eye[4])\n",
        "\tC = distance.euclidean(eye[0],eye[3])\n",
        "\t\n",
        "\tear = (A+B) / (2.0 * C)\n",
        "\treturn ear"
      ],
      "metadata": {
        "id": "yKi7od9ucFje"
      },
      "execution_count": 8,
      "outputs": []
    },
    {
      "cell_type": "code",
      "source": [
        "hog_face_detector = dlib.get_frontal_face_detector()\n",
        "dlib_facelandmark = dlib.shape_predictor(\"shape_predictor_68_face_landmarks.dat\")\n",
        "\n",
        "gray = cv2.imread('/content/result.jpg')\n",
        "frame = cv2.imread('/content/result.jpg')\n",
        "\n",
        "faces = hog_face_detector(gray)\n",
        "for face in faces:\n",
        "  face_landmarks = dlib_facelandmark(gray, face)\n",
        "  leftEye = []\n",
        "  rightEye = []\n",
        "\n",
        "  for n in range(36,42):\n",
        "    x = face_landmarks.part(n).x\n",
        "    y = face_landmarks.part(n).y\n",
        "    leftEye.append((x,y))\n",
        "    next_point = n+1\n",
        "    if n == 41:\n",
        "         next_point = 36\n",
        "    x2 = face_landmarks.part(next_point).x\n",
        "    y2 = face_landmarks.part(next_point).y\n",
        "    cv2.line(frame,(x,y),(x2,y2),(0,255,0),1)\n",
        "\n",
        "  for n in range(42,48): # 왼쪽 눈 감지\n",
        "    x = face_landmarks.part(n).x\n",
        "    y = face_landmarks.part(n).y\n",
        "    rightEye.append((x,y))\n",
        "    next_point = n+1\n",
        "    if n == 47:\n",
        "      next_point = 42\n",
        "    x2 = face_landmarks.part(next_point).x\n",
        "    y2 = face_landmarks.part(next_point).y\n",
        "    cv2.line(frame,(x,y),(x2,y2),(0,255,0),1)\n",
        "\n",
        "  left_ear = calculate_EAR(leftEye)\n",
        "  right_ear = calculate_EAR(rightEye)\n",
        "\n",
        "  EAR = (left_ear+right_ear)/2\n",
        "  EAR = round(EAR,2)\n",
        "  print(EAR)\n",
        "\n",
        "  if EAR < 0.3:\n",
        "    print('Closed')\n",
        "  else:\n",
        "    print('Open')"
      ],
      "metadata": {
        "colab": {
          "base_uri": "https://localhost:8080/"
        },
        "id": "LpNiV79ec7TL",
        "outputId": "1f728dd3-cc01-4e9f-8782-2badf705c35c"
      },
      "execution_count": 9,
      "outputs": [
        {
          "output_type": "stream",
          "name": "stdout",
          "text": [
            "0.4\n",
            "Open\n"
          ]
        }
      ]
    },
    {
      "cell_type": "code",
      "source": [
        "import cv2\n",
        "\n",
        "# haarcascade 불러오기\n",
        "face_cascade = cv2.CascadeClassifier(cv2.data.haarcascades + 'haarcascade_frontalface_default.xml')\n",
        "eye_cascade = cv2.CascadeClassifier(cv2.data.haarcascades + 'haarcascade_eye.xml')\n",
        "\n",
        "# 이미지 불러오기\n",
        "img = cv2.imread('sample.png')\n",
        "gray = cv2.cvtColor(img, cv2.COLOR_BGR2GRAY)\n",
        "\n",
        "# 얼굴 찾기\n",
        "faces = face_cascade.detectMultiScale(gray, 1.3, 5)\n",
        "for (x, y, w, h) in faces:\n",
        "    cv2.rectangle(img, (x, y), (x + w, y + h), (255, 0, 0), 2)\n",
        "\n",
        "    # 눈 찾기\n",
        "    roi_color = img[y:y + h, x:x + w]\n",
        "    roi_gray = gray[y:y + h, x:x + w]\n",
        "    eyes = eye_cascade.detectMultiScale(roi_gray)\n",
        "    for (ex, ey, ew, eh) in eyes:\n",
        "        cv2.rectangle(roi_color, (ex, ey), (ex+ew, ey+eh), (0, 255, 0), 2)\n",
        "\n",
        "# 영상 출력\n",
        "cv2.imshow('image', img)\n",
        "\n",
        "key = cv2.waitKey(0)\n",
        "cv2.destroyAllWindows()"
      ],
      "metadata": {
        "id": "E6c-apJOVN88"
      },
      "execution_count": null,
      "outputs": []
    },
    {
      "cell_type": "code",
      "source": [],
      "metadata": {
        "id": "VvKft88wUGhk"
      },
      "execution_count": null,
      "outputs": []
    },
    {
      "cell_type": "code",
      "source": [
        "result = PIL.Image.open('/content/result.jpg')\n",
        "area = (220, 80, 730, 600) # 이건 눈 크기에 맞게\n",
        "crop_img = result.crop(area)"
      ],
      "metadata": {
        "id": "2KSeyubZTVeC"
      },
      "execution_count": null,
      "outputs": []
    },
    {
      "cell_type": "code",
      "source": [
        "from google.colab.patches import cv2_imshow"
      ],
      "metadata": {
        "id": "WYl7OqCAE6Ai"
      },
      "execution_count": null,
      "outputs": []
    },
    {
      "cell_type": "code",
      "source": [
        "!curl -o logo.png https://colab.research.google.com/img/colab_favicon_256px.png\n",
        "import cv2\n",
        "img = cv2.imread('logo.png', cv2.IMREAD_UNCHANGED)\n",
        "cv2_imshow(img)"
      ],
      "metadata": {
        "colab": {
          "base_uri": "https://localhost:8080/",
          "height": 332
        },
        "id": "H1RIAXWQFLxE",
        "outputId": "5b4fded4-e7d7-4b73-b102-5236747d646e"
      },
      "execution_count": null,
      "outputs": [
        {
          "output_type": "stream",
          "name": "stdout",
          "text": [
            "  % Total    % Received % Xferd  Average Speed   Time    Time     Time  Current\n",
            "                                 Dload  Upload   Total   Spent    Left  Speed\n",
            "100  4534  100  4534    0     0   4419      0  0:00:01  0:00:01 --:--:--  4419\n"
          ]
        },
        {
          "output_type": "display_data",
          "data": {
            "text/plain": [
              "<PIL.Image.Image image mode=RGBA size=260x260 at 0x7FC97006B390>"
            ],
            "image/png": "[encoded data removed]"
          },
          "metadata": {}
        }
      ]
    }
  ]
}