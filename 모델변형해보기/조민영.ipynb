{
  "nbformat": 4,
  "nbformat_minor": 0,
  "metadata": {
    "colab": {
      "provenance": [],
      "collapsed_sections": [],
      "authorship_tag": "ABX9TyMPUukFcBy9Xyvv9r6QzdXv",
      "include_colab_link": true
    },
    "kernelspec": {
      "name": "python3",
      "display_name": "Python 3"
    },
    "language_info": {
      "name": "python"
    }
  },
  "cells": [
    {
      "cell_type": "markdown",
      "metadata": {
        "id": "view-in-github",
        "colab_type": "text"
      },
      "source": [
        "<a href=\"https://colab.research.google.com/github/mynxdy/D.D.D/blob/main/%EB%AA%A8%EB%8D%B8%EB%B3%80%ED%98%95%ED%95%B4%EB%B3%B4%EA%B8%B0/%EC%A1%B0%EB%AF%BC%EC%98%81.ipynb\" target=\"_parent\"><img src=\"https://colab.research.google.com/assets/colab-badge.svg\" alt=\"Open In Colab\"/></a>"
      ]
    },
    {
      "cell_type": "code",
      "execution_count": null,
      "metadata": {
        "id": "atZ9DYnrwH6n"
      },
      "outputs": [],
      "source": [
        "import torch.nn as nn\n",
        "import torch.nn.functional as F"
      ]
    },
    {
      "cell_type": "code",
      "source": [
        "## 1.Linear 1개의 층만 사용\n",
        "class Net(nn.Module):\n",
        "    def __init__(self):\n",
        "        super(Net, self).__init__()\n",
        "        \n",
        "        self.conv1 = nn.Conv2d(3, 32, kernel_size=3, stride=1, padding=1)\n",
        "        self.conv2 = nn.Conv2d(32, 64, kernel_size=3, stride=1, padding=1)\n",
        "        self.conv3 = nn.Conv2d(64, 128, kernel_size=3, stride=1, padding=1)\n",
        "\n",
        "        ## 1.Linear 1개의 층만 사용 → conv 층을 거쳐서 나온 feature가 총 1536개\n",
        "        self.fc1 = nn.Linear(1536, 1)\n",
        "\n",
        "    def forward(self, x):\n",
        "        x = F.max_pool2d(F.elu(self.conv1(x)),2)\n",
        "        x = F.max_pool2d(F.elu(self.conv2(x)), 2)\n",
        "        x = F.max_pool2d(F.elu(self.conv3(x)), 2)\n",
        "        x = x.reshape(-1, 1536)\n",
        "        x = F.relu(self.fc1(x))\n",
        "        x = self.fc2(x)\n",
        "\n",
        "        return x"
      ],
      "metadata": {
        "id": "ss5ccXwrwO2-"
      },
      "execution_count": null,
      "outputs": []
    },
    {
      "cell_type": "code",
      "source": [
        "## 2. 활성화 함수 사용 X\n",
        "class Net(nn.Module):\n",
        "    def __init__(self):\n",
        "        super(Net, self).__init__()\n",
        "        \n",
        "        self.conv1 = nn.Conv2d(3, 32, kernel_size=3, stride=1, padding=1)\n",
        "        self.conv2 = nn.Conv2d(32, 64, kernel_size=3, stride=1, padding=1)\n",
        "        self.conv3 = nn.Conv2d(64, 128, kernel_size=3, stride=1, padding=1)\n",
        "\n",
        "        self.fc1 = nn.Linear(1536, 512)\n",
        "        self.fc2 = nn.Linear(512, 1)\n",
        "\n",
        "    def forward(self, x):\n",
        "        ## 2. 활성화 함수 사용 X\n",
        "        x = F.max_pool2d(self.conv1(x),2)\n",
        "        x = F.max_pool2d(self.conv2(x),2)\n",
        "        x = F.max_pool2d(self.conv3(x),2)\n",
        "\n",
        "        x = x.reshape(-1, 1536)\n",
        "\n",
        "        x = self.fc1(x)\n",
        "        x = self.fc2(x)\n",
        "\n",
        "        return x"
      ],
      "metadata": {
        "id": "ilXgEfUSwWbC"
      },
      "execution_count": null,
      "outputs": []
    },
    {
      "cell_type": "code",
      "source": [
        "## 3. Conv2d에서 층을 한 개 더 쌓았을 때\n",
        "class Net(nn.Module):\n",
        "    def __init__(self):\n",
        "        super(Net, self).__init__()\n",
        "        \n",
        "        ## 3. Conv2d에서 층을 한 개 더 쌓았을 때\n",
        "        self.conv4 = nn.Conv2d(3, 16, kernel_size=3, stride=1, padding=1) \n",
        "        self.conv1 = nn.Conv2d(16, 32, kernel_size=3, stride=1, padding=1) \n",
        "        self.conv2 = nn.Conv2d(32, 64, kernel_size=3, stride=1, padding=1)\n",
        "        self.conv3 = nn.Conv2d(64, 128, kernel_size=3, stride=1, padding=1)\n",
        "        \n",
        "        self.fc1 = nn.Linear(256, 128)   \n",
        "        self.fc2 = nn.Linear(128, 1)\n",
        "\n",
        "    def forward(self, x):\n",
        "        x = F.max_pool2d(self.conv4(x),2)\n",
        "        x = F.max_pool2d(self.conv1(x),2)\n",
        "        x = F.max_pool2d(self.conv2(x),2)\n",
        "        x = F.max_pool2d(self.conv3(x),2)\n",
        "\n",
        "        x = x.reshape(-1, 256)\n",
        "\n",
        "        x = F.relu(self.fc1(x))\n",
        "        x = self.fc2(x)\n",
        "\n",
        "        return x"
      ],
      "metadata": {
        "id": "bogiO16JwWTC"
      },
      "execution_count": null,
      "outputs": []
    }
  ]
}