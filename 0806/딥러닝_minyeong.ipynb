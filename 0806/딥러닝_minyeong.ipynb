{
  "nbformat": 4,
  "nbformat_minor": 0,
  "metadata": {
    "colab": {
      "name": "딥러닝.ipynb",
      "provenance": [],
      "collapsed_sections": [
        "YoCHH3i7ZdcZ",
        "78XkRj68EZi2",
        "uvZbZvfDJHKi",
        "CkwiaJrtBkMz",
        "nZzntQA7LEEL",
        "LHwJILwE8_Uv"
      ],
      "mount_file_id": "1raWsY_EXsjNJCtTp5c_L-PzWYZxFXo2-",
      "authorship_tag": "ABX9TyPa1GVcJe1km9y+gM+eQy8K",
      "include_colab_link": true
    },
    "kernelspec": {
      "name": "python3",
      "display_name": "Python 3"
    },
    "language_info": {
      "name": "python"
    },
    "accelerator": "GPU",
    "gpuClass": "standard"
  },
  "cells": [
    {
      "cell_type": "markdown",
      "metadata": {
        "id": "view-in-github",
        "colab_type": "text"
      },
      "source": [
        "<a href=\"https://colab.research.google.com/github/mynxdy/D.D.D/blob/main/0806/%EB%94%A5%EB%9F%AC%EB%8B%9D_minyeong.ipynb\" target=\"_parent\"><img src=\"https://colab.research.google.com/assets/colab-badge.svg\" alt=\"Open In Colab\"/></a>"
      ]
    },
    {
      "cell_type": "markdown",
      "source": [
        "### **Drowsiness Driving Detection 운전자 졸음 방지**\n",
        "\n",
        "dataset\n",
        "https://www.kaggle.com/datasets/dheerajperumandla/drowsiness-dataset\n",
        "\n",
        "tistory\n",
        "https://ys-cs17.tistory.com/24"
      ],
      "metadata": {
        "id": "hWVNMy2fZKkN"
      }
    },
    {
      "cell_type": "markdown",
      "source": [
        "### 0806\n",
        "\n",
        "\n",
        "\n",
        "> test 돌려보기\n",
        "\n"
      ],
      "metadata": {
        "id": "uyg7nMavQnYL"
      }
    },
    {
      "cell_type": "code",
      "source": [
        "import os\n",
        "import cv2"
      ],
      "metadata": {
        "id": "GGxxE0-MGcNg"
      },
      "execution_count": null,
      "outputs": []
    },
    {
      "cell_type": "code",
      "source": [
        "def get_data(dir_path=\"/content/drive/MyDrive/22-1 숙탯2기딥러닝/train\"):\n",
        "    labels = ['Closed', 'Open']\n",
        "    IMG_SIZE = 145\n",
        "    data = []\n",
        "    for label in labels:\n",
        "        path = os.path.join(dir_path, label)\n",
        "        class_num = labels.index(label)\n",
        "        print(class_num)\n",
        "        for img in os.listdir(path):\n",
        "            try:\n",
        "                img_array = cv2.imread(os.path.join(path, img), cv2.IMREAD_COLOR)       ### 변경1\n",
        "                resized_array = cv2.resize(img_array, (34, 26))                         ### 변경2\n",
        "                data.append([resized_array, class_num])\n",
        "            except Exception as e:\n",
        "                print(e)\n",
        "    return data"
      ],
      "metadata": {
        "id": "h1He3IepGcK0"
      },
      "execution_count": null,
      "outputs": []
    },
    {
      "cell_type": "code",
      "source": [
        "data_train = get_data()"
      ],
      "metadata": {
        "colab": {
          "base_uri": "https://localhost:8080/"
        },
        "id": "nfnjK8u8GcHs",
        "outputId": "89956bf6-5b5e-44c5-86d6-50f7a171f96d"
      },
      "execution_count": null,
      "outputs": [
        {
          "output_type": "stream",
          "name": "stdout",
          "text": [
            "0\n",
            "1\n"
          ]
        }
      ]
    },
    {
      "cell_type": "code",
      "source": [
        "X = []\n",
        "y = []\n",
        "for feature, label in data_train:\n",
        "    X.append(feature)\n",
        "    y.append(label)"
      ],
      "metadata": {
        "id": "FxMJaaP4GcE7"
      },
      "execution_count": null,
      "outputs": []
    },
    {
      "cell_type": "code",
      "source": [
        "import numpy as np\n",
        "X = np.array(X)\n",
        "y = np.array(y)"
      ],
      "metadata": {
        "id": "IpVgQnhrGcCp"
      },
      "execution_count": null,
      "outputs": []
    },
    {
      "cell_type": "code",
      "source": [
        "from sklearn.preprocessing import LabelBinarizer\n",
        "label_bin = LabelBinarizer()\n",
        "y = label_bin.fit_transform(y)"
      ],
      "metadata": {
        "id": "_o_cl70OGcAK"
      },
      "execution_count": null,
      "outputs": []
    },
    {
      "cell_type": "code",
      "source": [
        "X.shape"
      ],
      "metadata": {
        "colab": {
          "base_uri": "https://localhost:8080/"
        },
        "id": "CMmIkuh1Gb9o",
        "outputId": "02165c4a-3e4d-45be-f5ea-94272864be0f"
      },
      "execution_count": null,
      "outputs": [
        {
          "output_type": "execute_result",
          "data": {
            "text/plain": [
              "(1452, 26, 34, 3)"
            ]
          },
          "metadata": {},
          "execution_count": 7
        }
      ]
    },
    {
      "cell_type": "code",
      "source": [
        "from sklearn.model_selection import train_test_split\n",
        "seed = 42\n",
        "test_size = 0.30\n",
        "X_train, X_test, y_train, y_test = train_test_split(X, y, random_state=seed, test_size=test_size)"
      ],
      "metadata": {
        "id": "MuUrlKTDG2Ks"
      },
      "execution_count": null,
      "outputs": []
    },
    {
      "cell_type": "markdown",
      "source": [
        "train"
      ],
      "metadata": {
        "id": "i9pQf7YqG7ii"
      }
    },
    {
      "cell_type": "code",
      "source": [
        "import numpy as np\n",
        "import matplotlib.pyplot as plt\n",
        "import torch\n",
        "import torch.nn as nn\n",
        "from torchvision.transforms import transforms\n",
        "import torch.optim as optim"
      ],
      "metadata": {
        "id": "hKXmOI6nG2IH"
      },
      "execution_count": null,
      "outputs": []
    },
    {
      "cell_type": "code",
      "source": [
        "train_transform = transforms.Compose([\n",
        "    transforms.ToTensor(),\n",
        "    transforms.RandomRotation(10),\n",
        "    transforms.RandomHorizontalFlip(),\n",
        "])"
      ],
      "metadata": {
        "id": "Et2QztOnHBRu"
      },
      "execution_count": null,
      "outputs": []
    },
    {
      "cell_type": "code",
      "source": [
        "from torch.utils.data import Dataset\n",
        "import torch\n",
        "\n",
        "\n",
        "class eyes_dataset(Dataset):\n",
        "    def __init__(self, x_file_paths, y_file_path, transform=None):\n",
        "        self.x_files = x_file_paths\n",
        "        self.y_files = y_file_path\n",
        "        self.transform = transform\n",
        "\n",
        "    def __getitem__(self, idx):\n",
        "        x = self.x_files[idx]\n",
        "        x = torch.from_numpy(x).float()   ##tensor로 변환하는거 아닌가..?\n",
        "\n",
        "        y = self.y_files[idx]\n",
        "        y = torch.from_numpy(y).float()\n",
        "\n",
        "        return x, y\n",
        "\n",
        "    def __len__(self):\n",
        "        return len(self.x_files)"
      ],
      "metadata": {
        "id": "6YROuVROHBPK"
      },
      "execution_count": null,
      "outputs": []
    },
    {
      "cell_type": "code",
      "source": [
        "train_dataset = eyes_dataset(X_train, y_train, transform=train_transform)    ###변경4"
      ],
      "metadata": {
        "id": "OtpT87_ZHBMm"
      },
      "execution_count": null,
      "outputs": []
    },
    {
      "cell_type": "code",
      "source": [
        "type(y_train)    ##흠.. 넘파이 배열로 해야 작동이 됩니다. 텐서로 변환하면 넘파이로 변경하라는 오류가 나옵니다."
      ],
      "metadata": {
        "colab": {
          "base_uri": "https://localhost:8080/"
        },
        "id": "vDaHM78jHBJ_",
        "outputId": "38a661a4-ea9f-402f-bfd6-2934dae114ee"
      },
      "execution_count": null,
      "outputs": [
        {
          "output_type": "execute_result",
          "data": {
            "text/plain": [
              "numpy.ndarray"
            ]
          },
          "metadata": {},
          "execution_count": 13
        }
      ]
    },
    {
      "cell_type": "code",
      "source": [
        "# X_train = torch.tensor(X_train)\n",
        "# print(X_train.shape)\n",
        "\n",
        "# y_train = torch.tensor(y_train)\n",
        "# y_train.shape\n",
        "\n",
        "# train_dataset = eyes_dataset(X_train, y_train, transform=train_transform)"
      ],
      "metadata": {
        "id": "aR8ajr7qHBHh"
      },
      "execution_count": null,
      "outputs": []
    },
    {
      "cell_type": "markdown",
      "source": [
        "model"
      ],
      "metadata": {
        "id": "a6y4NjPfHTn1"
      }
    },
    {
      "cell_type": "code",
      "source": [
        "import torch.nn as nn\n",
        "import torch.nn.functional as F\n",
        "from torchsummary import summary\n",
        "\n",
        "class Net(nn.Module):\n",
        "    def __init__(self):\n",
        "        super(Net, self).__init__()\n",
        "\n",
        "        self.conv1 = nn.Conv2d(3, 32, kernel_size=3, stride=1, padding=1)    ###input size 변경\n",
        "        self.conv2 = nn.Conv2d(32, 64, kernel_size=3, stride=1, padding=1)\n",
        "        self.conv3 = nn.Conv2d(64, 128, kernel_size=3, stride=1, padding=1)\n",
        "        self.fc1 = nn.Linear(1536, 512)\n",
        "        self.fc2 = nn.Linear(512, 1)\n",
        "\n",
        "    def forward(self, x):\n",
        "        x = F.max_pool2d(F.relu(self.conv1(x)),2)\n",
        "        x = F.max_pool2d(F.relu(self.conv2(x)), 2)\n",
        "        x = F.max_pool2d(F.relu(self.conv3(x)), 2)\n",
        "        x = x.reshape(-1, 1536)\n",
        "        x = F.relu(self.fc1(x))\n",
        "        x = self.fc2(x)\n",
        "\n",
        "\n",
        "        return x"
      ],
      "metadata": {
        "id": "ja4nJmmMHBE9"
      },
      "execution_count": null,
      "outputs": []
    },
    {
      "cell_type": "code",
      "source": [
        "PATH = '/content/drive/MyDrive/22-1 숙탯2기딥러닝/trained.pth'\n",
        "\n",
        "from torch.utils.data import DataLoader\n",
        "\n",
        "train_dataloader = DataLoader(train_dataset, batch_size=8, shuffle=True, num_workers=0)\n",
        "\n",
        "model = Net()\n",
        "model.to('cuda')\n",
        "\n",
        "criterion = nn.BCEWithLogitsLoss()\n",
        "optimizer = optim.Adam(model.parameters(), lr=0.0001)\n",
        "\n",
        "epochs = 50"
      ],
      "metadata": {
        "id": "4OqetM_LG2Fe"
      },
      "execution_count": null,
      "outputs": []
    },
    {
      "cell_type": "code",
      "source": [
        "def accuracy(y_pred, y_test):\n",
        "    y_pred_tag = torch.round(torch.sigmoid(y_pred))\n",
        "\n",
        "    correct_results_sum = (y_pred_tag == y_test).sum().float()\n",
        "    acc = correct_results_sum / y_test.shape[0]\n",
        "    acc = torch.round(acc * 100)\n",
        "\n",
        "    return acc"
      ],
      "metadata": {
        "id": "IvYwIYHEHd20"
      },
      "execution_count": null,
      "outputs": []
    },
    {
      "cell_type": "code",
      "source": [
        "for epoch in range(epochs):\n",
        "    running_loss = 0.0\n",
        "    running_acc = 0.0\n",
        "\n",
        "    model.train()\n",
        "\n",
        "    for i, data in enumerate(train_dataloader, 0):\n",
        "        input_1, labels = data[0].to('cuda'), data[1].to('cuda')\n",
        "\n",
        "        input = input_1.transpose(1, 3).transpose(2, 3)\n",
        "\n",
        "        optimizer.zero_grad()\n",
        "\n",
        "        outputs = model(input)\n",
        "\n",
        "        loss = criterion(outputs, labels)\n",
        "        loss.backward()\n",
        "        optimizer.step()\n",
        "\n",
        "        running_loss += loss.item()\n",
        "        running_acc += accuracy(outputs, labels)\n",
        "\n",
        "        if i % 80 == 79:\n",
        "            print('epoch: [%d/%d] train_loss: %.5f train_acc: %.5f' % (\n",
        "                epoch + 1, epochs, running_loss / 80, running_acc / 80))\n",
        "            running_loss = 0.0\n",
        "\n",
        "print(\"learning finish\")\n",
        "torch.save(model.state_dict(), PATH)"
      ],
      "metadata": {
        "colab": {
          "base_uri": "https://localhost:8080/"
        },
        "id": "FCA1t_WgG2C0",
        "outputId": "eb0c3939-3662-4d57-83f5-5136808de0e1"
      },
      "execution_count": null,
      "outputs": [
        {
          "output_type": "stream",
          "name": "stdout",
          "text": [
            "epoch: [1/50] train_loss: 0.43378 train_acc: 82.28750\n",
            "epoch: [2/50] train_loss: 0.13136 train_acc: 96.05000\n",
            "epoch: [3/50] train_loss: 0.08810 train_acc: 97.10000\n",
            "epoch: [4/50] train_loss: 0.06947 train_acc: 97.58750\n",
            "epoch: [5/50] train_loss: 0.05158 train_acc: 98.32500\n",
            "epoch: [6/50] train_loss: 0.02962 train_acc: 99.40000\n",
            "epoch: [7/50] train_loss: 0.03626 train_acc: 98.63750\n",
            "epoch: [8/50] train_loss: 0.03079 train_acc: 99.25000\n",
            "epoch: [9/50] train_loss: 0.01778 train_acc: 99.40000\n",
            "epoch: [10/50] train_loss: 0.00542 train_acc: 100.00000\n",
            "epoch: [11/50] train_loss: 0.00572 train_acc: 100.00000\n",
            "epoch: [12/50] train_loss: 0.00304 train_acc: 100.00000\n",
            "epoch: [13/50] train_loss: 0.00159 train_acc: 100.00000\n",
            "epoch: [14/50] train_loss: 0.00261 train_acc: 100.00000\n",
            "epoch: [15/50] train_loss: 0.00118 train_acc: 100.00000\n",
            "epoch: [16/50] train_loss: 0.00100 train_acc: 100.00000\n",
            "epoch: [17/50] train_loss: 0.00083 train_acc: 100.00000\n",
            "epoch: [18/50] train_loss: 0.00053 train_acc: 100.00000\n",
            "epoch: [19/50] train_loss: 0.00075 train_acc: 100.00000\n",
            "epoch: [20/50] train_loss: 0.00049 train_acc: 100.00000\n",
            "epoch: [21/50] train_loss: 0.00047 train_acc: 100.00000\n",
            "epoch: [22/50] train_loss: 0.00030 train_acc: 100.00000\n",
            "epoch: [23/50] train_loss: 0.00028 train_acc: 100.00000\n",
            "epoch: [24/50] train_loss: 0.00042 train_acc: 100.00000\n",
            "epoch: [25/50] train_loss: 0.00028 train_acc: 100.00000\n",
            "epoch: [26/50] train_loss: 0.00028 train_acc: 100.00000\n",
            "epoch: [27/50] train_loss: 0.00024 train_acc: 100.00000\n",
            "epoch: [28/50] train_loss: 0.00020 train_acc: 100.00000\n",
            "epoch: [29/50] train_loss: 0.00020 train_acc: 100.00000\n",
            "epoch: [30/50] train_loss: 0.00018 train_acc: 100.00000\n",
            "epoch: [31/50] train_loss: 0.00015 train_acc: 100.00000\n",
            "epoch: [32/50] train_loss: 0.00010 train_acc: 100.00000\n",
            "epoch: [33/50] train_loss: 0.00013 train_acc: 100.00000\n",
            "epoch: [34/50] train_loss: 0.00006 train_acc: 100.00000\n",
            "epoch: [35/50] train_loss: 0.00008 train_acc: 100.00000\n",
            "epoch: [36/50] train_loss: 0.00009 train_acc: 100.00000\n",
            "epoch: [37/50] train_loss: 0.00008 train_acc: 100.00000\n",
            "epoch: [38/50] train_loss: 0.00005 train_acc: 100.00000\n",
            "epoch: [39/50] train_loss: 0.00006 train_acc: 100.00000\n",
            "epoch: [40/50] train_loss: 0.00006 train_acc: 100.00000\n",
            "epoch: [41/50] train_loss: 0.00003 train_acc: 100.00000\n",
            "epoch: [42/50] train_loss: 0.00005 train_acc: 100.00000\n",
            "epoch: [43/50] train_loss: 0.00004 train_acc: 100.00000\n",
            "epoch: [44/50] train_loss: 0.00003 train_acc: 100.00000\n",
            "epoch: [45/50] train_loss: 0.00002 train_acc: 100.00000\n",
            "epoch: [46/50] train_loss: 0.00001 train_acc: 100.00000\n",
            "epoch: [47/50] train_loss: 0.00002 train_acc: 100.00000\n",
            "epoch: [48/50] train_loss: 0.00002 train_acc: 100.00000\n",
            "epoch: [49/50] train_loss: 0.00002 train_acc: 100.00000\n",
            "epoch: [50/50] train_loss: 0.00002 train_acc: 100.00000\n",
            "learning finish\n"
          ]
        }
      ]
    },
    {
      "cell_type": "markdown",
      "source": [
        "test"
      ],
      "metadata": {
        "id": "Kzr1XYZRPKla"
      }
    },
    {
      "cell_type": "code",
      "source": [
        "PATH = '/content/drive/MyDrive/22-1 숙탯2기딥러닝/trained.pth'\n",
        "\n",
        "test_transform = transforms.Compose([\n",
        "    transforms.ToTensor()\n",
        "])\n",
        "\n",
        "test_dataset = eyes_dataset(X_test, y_test, transform=test_transform)\n",
        "\n",
        "test_dataloader = DataLoader(test_dataset, batch_size=1, shuffle=False, num_workers=0)\n",
        "\n",
        "model = Net()\n",
        "model.to('cuda')\n",
        "model.load_state_dict(torch.load(PATH))\n",
        "model.eval()\n",
        "\n",
        "count = 0"
      ],
      "metadata": {
        "id": "4wLAcaKILEji"
      },
      "execution_count": null,
      "outputs": []
    },
    {
      "cell_type": "code",
      "source": [
        "with torch.no_grad():\n",
        "    total_acc = 0.0\n",
        "    acc = 0.0\n",
        "    for i, test_data in enumerate(test_dataloader, 0):\n",
        "        data, labels = test_data[0].to('cuda'), test_data[1].to('cuda')\n",
        "\n",
        "        data = data.transpose(1, 3).transpose(2, 3)\n",
        "\n",
        "        outputs = model(data)\n",
        "\n",
        "        acc = accuracy(outputs, labels)\n",
        "        total_acc += acc\n",
        "\n",
        "        count = i\n",
        "\n",
        "    print('avarage acc: %.5f' % (total_acc/count),'%')\n",
        "\n",
        "print('test finish!')"
      ],
      "metadata": {
        "colab": {
          "base_uri": "https://localhost:8080/"
        },
        "id": "JLevKfsMPa_H",
        "outputId": "c9c17f06-2ca3-4de8-fd9f-f95669102075"
      },
      "execution_count": null,
      "outputs": [
        {
          "output_type": "stream",
          "name": "stdout",
          "text": [
            "avarage acc: 98.85057 %\n",
            "test finish!\n"
          ]
        }
      ]
    },
    {
      "cell_type": "code",
      "source": [
        ""
      ],
      "metadata": {
        "id": "PPdROZEELEc4"
      },
      "execution_count": null,
      "outputs": []
    },
    {
      "cell_type": "code",
      "source": [
        ""
      ],
      "metadata": {
        "id": "yzwZQ_4TQrp2"
      },
      "execution_count": null,
      "outputs": []
    },
    {
      "cell_type": "code",
      "source": [
        "!nvcc --version"
      ],
      "metadata": {
        "id": "glj9NanHrBGZ",
        "outputId": "704f581f-5936-4065-dd1a-f57df2dacc8d",
        "colab": {
          "base_uri": "https://localhost:8080/"
        }
      },
      "execution_count": null,
      "outputs": [
        {
          "output_type": "stream",
          "name": "stdout",
          "text": [
            "nvcc: NVIDIA (R) Cuda compiler driver\n",
            "Copyright (c) 2005-2020 NVIDIA Corporation\n",
            "Built on Mon_Oct_12_20:09:46_PDT_2020\n",
            "Cuda compilation tools, release 11.1, V11.1.105\n",
            "Build cuda_11.1.TC455_06.29190527_0\n"
          ]
        }
      ]
    },
    {
      "cell_type": "markdown",
      "source": [
        "### 0723\n",
        "\n",
        "이미지 불러와서 저장할 공간 생성\n",
        "\n",
        "이미지 전처리\n",
        "\n",
        "모델 공부"
      ],
      "metadata": {
        "id": "YoCHH3i7ZdcZ"
      }
    },
    {
      "cell_type": "code",
      "source": [
        "#가보자고"
      ],
      "metadata": {
        "id": "yQImjpk9Zkd2"
      },
      "execution_count": null,
      "outputs": []
    },
    {
      "cell_type": "code",
      "source": [
        "import numpy as np\n",
        "import pandas as pd\n",
        "\n",
        "import os\n",
        "import cv2\n",
        "\n",
        "from PIL import Image\n",
        "from IPython.display import Image\n",
        "import torch\n",
        "import PIL\n"
      ],
      "metadata": {
        "id": "QYK95-XS1nnB"
      },
      "execution_count": null,
      "outputs": []
    },
    {
      "cell_type": "markdown",
      "source": [
        "labels"
      ],
      "metadata": {
        "id": "au8XCpI97gbB"
      }
    },
    {
      "cell_type": "code",
      "source": [
        "#from google.colab import drive\n",
        "#drive.mount('/content/drive', force_remount=True)"
      ],
      "metadata": {
        "id": "GWu4plupfVtT"
      },
      "execution_count": null,
      "outputs": []
    },
    {
      "cell_type": "code",
      "source": [
        "labels = os.listdir(\"/content/drive/MyDrive/22-1 숙탯2기딥러닝/train\")   #os.listdir은 파일 경로없이 디렉토리의 모든 파일을 나열\n",
        "labels = labels \n",
        "labels              "
      ],
      "metadata": {
        "colab": {
          "base_uri": "https://localhost:8080/"
        },
        "id": "ttKkMwOy5jMa",
        "outputId": "6628310a-49b2-4d79-98ee-501e76c0f54d"
      },
      "execution_count": null,
      "outputs": [
        {
          "output_type": "execute_result",
          "data": {
            "text/plain": [
              "['no_yawn', 'yawn', 'Open', 'Closed']"
            ]
          },
          "metadata": {},
          "execution_count": 2
        }
      ]
    },
    {
      "cell_type": "markdown",
      "source": [
        "visualize random 1 image"
      ],
      "metadata": {
        "id": "r4DAPiw77oz5"
      }
    },
    {
      "cell_type": "code",
      "source": [
        "import matplotlib.pyplot as plt\n",
        "\n",
        "#closedEye\n",
        "plt.imshow(plt.imread(\"/content/drive/MyDrive/22-1 숙탯2기딥러닝/train/Closed/_10.jpg\"))"
      ],
      "metadata": {
        "colab": {
          "base_uri": "https://localhost:8080/",
          "height": 286
        },
        "id": "UECxp6sg5jgy",
        "outputId": "21b6ceb1-54ea-4001-ba79-e3ca2a1b9d79"
      },
      "execution_count": null,
      "outputs": [
        {
          "output_type": "execute_result",
          "data": {
            "text/plain": [
              "<matplotlib.image.AxesImage at 0x7f2509043a10>"
            ]
          },
          "metadata": {},
          "execution_count": 20
        },
        {
          "output_type": "display_data",
          "data": {
            "text/plain": [
              "<Figure size 432x288 with 1 Axes>"
            ],
            "image/png": "[encoded data removed]"
          },
          "metadata": {
            "needs_background": "light"
          }
        }
      ]
    },
    {
      "cell_type": "code",
      "source": [
        "#openEye\n",
        "plt.imshow(plt.imread(\"/content/drive/MyDrive/22-1 숙탯2기딥러닝/train/Open/_100.jpg\"))"
      ],
      "metadata": {
        "colab": {
          "base_uri": "https://localhost:8080/",
          "height": 287
        },
        "id": "Ruft_qId5jon",
        "outputId": "a50e4ab9-9474-43dc-ff50-961e4b888279"
      },
      "execution_count": null,
      "outputs": [
        {
          "output_type": "execute_result",
          "data": {
            "text/plain": [
              "<matplotlib.image.AxesImage at 0x7f250732f350>"
            ]
          },
          "metadata": {},
          "execution_count": 21
        },
        {
          "output_type": "display_data",
          "data": {
            "text/plain": [
              "<Figure size 432x288 with 1 Axes>"
            ],
            "image/png": "[encoded data removed]"
          },
          "metadata": {
            "needs_background": "light"
          }
        }
      ]
    },
    {
      "cell_type": "markdown",
      "source": [
        "image array & image shape"
      ],
      "metadata": {
        "id": "yWBqIYWg8Ckg"
      }
    },
    {
      "cell_type": "code",
      "source": [
        "a = plt.imread(\"/content/drive/MyDrive/22-1 숙탯2기딥러닝/train/Closed/_10.jpg\")\n",
        "a.shape                                                                          #결과는 (127,131,3)으로 가로 127,세로131,컬러이기 때문에 3이 나왔습니다."
      ],
      "metadata": {
        "colab": {
          "base_uri": "https://localhost:8080/"
        },
        "id": "TlNJQ2kZ5jsE",
        "outputId": "dba04603-cb5a-49cc-d50b-bc587b72988c"
      },
      "execution_count": null,
      "outputs": [
        {
          "output_type": "execute_result",
          "data": {
            "text/plain": [
              "(127, 131, 3)"
            ]
          },
          "metadata": {},
          "execution_count": 22
        }
      ]
    },
    {
      "cell_type": "markdown",
      "source": [
        "for closed and open eye"
      ],
      "metadata": {
        "id": "t0D23ALk8i2b"
      }
    },
    {
      "cell_type": "code",
      "source": [
        "#컬러로 읽어온 이미지의 크기를 재정의하여 인덱스와 함께 리스트에 저장하는 함수\n",
        "\n",
        "def get_data(dir_path=\"/content/drive/MyDrive/22-1 숙탯2기딥러닝/train/\"):\n",
        "\n",
        "    labels = ['Closed', 'Open']\n",
        "    IMG_SIZE = 145    \n",
        "    data = []         #이미지와 인덱스를 넣을 공간\n",
        "\n",
        "\n",
        "    for label in labels:\n",
        "        path = os.path.join(dir_path, label)      #path는 /content/drive/MyDrive/22-1 숙탯2기딥러닝/train/Closed(Open)이 됩니다.\n",
        "        class_num = labels.index(label)           #Closed의 인덱스는 0, Open의 인덱스는 1입니다.\n",
        "        #class_num +=2                            #각각의 인덱스에 2를 더해준 것은 이전에 하품을 하거나 하지 않은 경우의 인덱스가 0,1이기 때문입니다.\n",
        "        print(class_num)      #인덱스 출력\n",
        "\n",
        "        for img in os.listdir(path):              #Closed와 Open 안의 이미지 파일 이름을 의미합니다.\n",
        "           \n",
        "            #이걸 실행하고\n",
        "            try:                        \n",
        "                img_array = cv2.imread(os.path.join(path, img), cv2.IMREAD_COLOR)  #이미지 파일을 컬러로 읽은 다음 변수에 저장\n",
        "                resized_array = cv2.resize(img_array, (IMG_SIZE, IMG_SIZE))        #읽어들인 이미지의 크기를 (145,145)로 변경\n",
        "                data.append([resized_array, class_num])                            #데이터를 저장할 공간에 사이즈를 바꾼 이미지와 인덱스를 저장\n",
        "\n",
        "            #오류가 나면 이걸 실행해라\n",
        "            except Exception as e:      \n",
        "                print(e)\n",
        "\n",
        "    return data\n",
        "\n",
        "data_train = get_data()                   #Closed의 인덱스 : 0, Open의 인덱스 : 1"
      ],
      "metadata": {
        "id": "sZvUzXXt5jvE",
        "colab": {
          "base_uri": "https://localhost:8080/"
        },
        "outputId": "d55f689b-fde5-4140-d1cd-b310df15aa8f"
      },
      "execution_count": null,
      "outputs": [
        {
          "output_type": "stream",
          "name": "stdout",
          "text": [
            "0\n",
            "1\n"
          ]
        }
      ]
    },
    {
      "cell_type": "markdown",
      "source": [
        "separate label and features"
      ],
      "metadata": {
        "id": "EphuEU80-KRd"
      }
    },
    {
      "cell_type": "code",
      "source": [
        "X = []          #독립변수; 모델링에 넣어야 할 feature 값\n",
        "y = []          #종속변수; 눈을 떴는지, 감았는지에 대한 label을 넣어야겠군\n",
        "for feature, label in data_train:\n",
        "    X.append(feature)\n",
        "    y.append(label)"
      ],
      "metadata": {
        "id": "3Dh4xPe-88F5"
      },
      "execution_count": null,
      "outputs": []
    },
    {
      "cell_type": "code",
      "source": [
        "X = np.array(X)   #이미지 데이터 처리를 위해 클래스 객체를 Numpy배열로 변환합니다.\n",
        "X.shape           #(총 이미지 개수, 가로, 세로, 컬러)"
      ],
      "metadata": {
        "colab": {
          "base_uri": "https://localhost:8080/"
        },
        "id": "DCMwaOmV88Ij",
        "outputId": "85b4949a-1e07-4797-d3a6-20fa32f90b7a"
      },
      "execution_count": null,
      "outputs": [
        {
          "output_type": "execute_result",
          "data": {
            "text/plain": [
              "(1452, 145, 145, 3)"
            ]
          },
          "metadata": {},
          "execution_count": 23
        }
      ]
    },
    {
      "cell_type": "markdown",
      "source": [
        "reshape the array"
      ],
      "metadata": {
        "id": "CB8AGs68-r2U"
      }
    },
    {
      "cell_type": "code",
      "source": [
        "X = np.array(X)\n",
        "#X = X.reshape(-1,145,145,3)    #3차원 배열을 1차원 배열로 변경하기 위해 첫 번째 인자에 -1을 넣어줍니다."
      ],
      "metadata": {
        "id": "IxRHy2ip88Kv"
      },
      "execution_count": null,
      "outputs": []
    },
    {
      "cell_type": "markdown",
      "source": [
        "LabelBinarizer"
      ],
      "metadata": {
        "id": "M69wKkj1-_Z3"
      }
    },
    {
      "cell_type": "code",
      "source": [
        "from sklearn.preprocessing import LabelBinarizer\n",
        "\n",
        "label_bin = LabelBinarizer()    #이진 레이블로 변환시키는 라이브러리\n",
        "y = label_bin.fit_transform(y)"
      ],
      "metadata": {
        "id": "wS8MqKMp88NG"
      },
      "execution_count": null,
      "outputs": []
    },
    {
      "cell_type": "markdown",
      "source": [
        "label array"
      ],
      "metadata": {
        "id": "uBeow4rA_E-C"
      }
    },
    {
      "cell_type": "code",
      "source": [
        "y = np.array(y)     #array배열로 변환\n",
        "                    #list에서는 shape을 확인할 수 없기 때문에 array로 변환"
      ],
      "metadata": {
        "id": "t6WgcOMf88Pm"
      },
      "execution_count": null,
      "outputs": []
    },
    {
      "cell_type": "markdown",
      "source": [
        "train test split"
      ],
      "metadata": {
        "id": "xDN-x4xc_L-4"
      }
    },
    {
      "cell_type": "code",
      "source": [
        "from sklearn.model_selection import train_test_split\n",
        "seed = 42\n",
        "test_size = 0.30\n",
        "X_train, X_test, y_train, y_test = train_test_split(X, y, random_state=seed, test_size=test_size)"
      ],
      "metadata": {
        "id": "4NzJ-u5388SG"
      },
      "execution_count": null,
      "outputs": []
    },
    {
      "cell_type": "markdown",
      "source": [
        "length of X"
      ],
      "metadata": {
        "id": "cLPg3fMy_Qha"
      }
    },
    {
      "cell_type": "code",
      "source": [
        "len(X_test)"
      ],
      "metadata": {
        "colab": {
          "base_uri": "https://localhost:8080/"
        },
        "id": "wJWEQzXy88UQ",
        "outputId": "c311e9e1-2323-4bf0-edff-07b8239718d3"
      },
      "execution_count": null,
      "outputs": [
        {
          "output_type": "execute_result",
          "data": {
            "text/plain": [
              "436"
            ]
          },
          "metadata": {},
          "execution_count": 28
        }
      ]
    },
    {
      "cell_type": "code",
      "source": [
        "len(X_train)"
      ],
      "metadata": {
        "colab": {
          "base_uri": "https://localhost:8080/"
        },
        "id": "f7XeWFF4Xlup",
        "outputId": "8cd35499-5650-4677-d701-cfbe68c096c7"
      },
      "execution_count": null,
      "outputs": [
        {
          "output_type": "execute_result",
          "data": {
            "text/plain": [
              "1016"
            ]
          },
          "metadata": {},
          "execution_count": 29
        }
      ]
    },
    {
      "cell_type": "markdown",
      "source": [
        "length of y"
      ],
      "metadata": {
        "id": "y8Y7TdiJ_WJt"
      }
    },
    {
      "cell_type": "code",
      "source": [
        "len(y_test)"
      ],
      "metadata": {
        "colab": {
          "base_uri": "https://localhost:8080/"
        },
        "id": "BU1m8A7i88Ye",
        "outputId": "08cbdf33-42e4-4ef3-9256-2da04e59d46c"
      },
      "execution_count": null,
      "outputs": [
        {
          "output_type": "execute_result",
          "data": {
            "text/plain": [
              "436"
            ]
          },
          "metadata": {},
          "execution_count": 30
        }
      ]
    },
    {
      "cell_type": "code",
      "source": [
        "len(y_train)"
      ],
      "metadata": {
        "colab": {
          "base_uri": "https://localhost:8080/"
        },
        "id": "_WVb1-0eXpxa",
        "outputId": "9fba846b-191d-4a1d-9ba2-8543516054a7"
      },
      "execution_count": null,
      "outputs": [
        {
          "output_type": "execute_result",
          "data": {
            "text/plain": [
              "1016"
            ]
          },
          "metadata": {},
          "execution_count": 31
        }
      ]
    },
    {
      "cell_type": "markdown",
      "source": [
        "shape of X & y"
      ],
      "metadata": {
        "id": "eUjckbidYMeD"
      }
    },
    {
      "cell_type": "code",
      "source": [
        "X_train.shape    #1016개의 데이터, width=145, height=145, channel=3"
      ],
      "metadata": {
        "colab": {
          "base_uri": "https://localhost:8080/"
        },
        "id": "ZZSLUb6_YLwk",
        "outputId": "5fccb4cd-ea12-4c84-c045-6d7006209011"
      },
      "execution_count": null,
      "outputs": [
        {
          "output_type": "execute_result",
          "data": {
            "text/plain": [
              "(1016, 145, 145, 3)"
            ]
          },
          "metadata": {},
          "execution_count": 32
        }
      ]
    },
    {
      "cell_type": "code",
      "source": [
        "y_train.shape    #1016개의 데이터, 각각 라벨링 되어잇음"
      ],
      "metadata": {
        "colab": {
          "base_uri": "https://localhost:8080/"
        },
        "id": "Ad40yagbYrmD",
        "outputId": "8e8d1587-2da7-4189-f5ba-ca120ec271e0"
      },
      "execution_count": null,
      "outputs": [
        {
          "output_type": "execute_result",
          "data": {
            "text/plain": [
              "(1016, 1)"
            ]
          },
          "metadata": {},
          "execution_count": 33
        }
      ]
    },
    {
      "cell_type": "markdown",
      "source": [
        "grayscale"
      ],
      "metadata": {
        "id": "IdosmtTFeTel"
      }
    },
    {
      "cell_type": "code",
      "source": [
        "#흑백처리?"
      ],
      "metadata": {
        "id": "290KaCi4eSx4"
      },
      "execution_count": null,
      "outputs": []
    },
    {
      "cell_type": "code",
      "source": [
        ""
      ],
      "metadata": {
        "id": "fg97ZjcYeS6Q"
      },
      "execution_count": null,
      "outputs": []
    },
    {
      "cell_type": "code",
      "source": [
        ""
      ],
      "metadata": {
        "id": "EvynE1eIeS-3"
      },
      "execution_count": null,
      "outputs": []
    },
    {
      "cell_type": "markdown",
      "source": [
        "### 0730\n",
        "train 데이터 모델 돌려보기"
      ],
      "metadata": {
        "id": "78XkRj68EZi2"
      }
    },
    {
      "cell_type": "markdown",
      "source": [
        "#### tistory"
      ],
      "metadata": {
        "id": "tmz9h0wLpe0A"
      }
    },
    {
      "cell_type": "markdown",
      "source": [
        "data_loader"
      ],
      "metadata": {
        "id": "JDq96bQIpwWP"
      }
    },
    {
      "cell_type": "code",
      "source": [
        "from torch.utils.data import Dataset\n",
        "import torch\n",
        "\n",
        "class eyes_dataset(Dataset):\n",
        "    def __init__(self, x_file_paths, y_file_path, transform=None):\n",
        "        self.x_files = x_file_paths\n",
        "        self.y_files = y_file_path\n",
        "        self.transform = transform\n",
        "\n",
        "    def __getitem__(self, idx):\n",
        "        x = self.x_files[idx]\n",
        "        x = torch.from_numpy(x).float()\n",
        "\n",
        "        y = self.y_files[idx]\n",
        "        y = torch.from_numpy(y).float()\n",
        "\n",
        "        return x, y\n",
        "\n",
        "    def __len__(self):\n",
        "        return len(self.x_files)"
      ],
      "metadata": {
        "id": "FN59zTJppx0s"
      },
      "execution_count": null,
      "outputs": []
    },
    {
      "cell_type": "markdown",
      "source": [
        "train"
      ],
      "metadata": {
        "id": "d29QXRlr77t4"
      }
    },
    {
      "cell_type": "code",
      "source": [
        "import numpy as np\n",
        "import matplotlib.pyplot as plt\n",
        "import torch\n",
        "import torch.nn as nn\n",
        "from torchvision.transforms import transforms\n",
        "from torch.utils.data import DataLoader\n",
        "import torch.optim as optim\n",
        "\n",
        "\n",
        "#tensor로 변경\n",
        "train_transform = transforms.Compose([\n",
        "    transforms.ToTensor(),  \n",
        "    transforms.RandomRotation(10),\n",
        "    transforms.RandomHorizontalFlip(),\n",
        "])\n",
        "\n",
        "\n",
        "train_dataset = eyes_dataset(X_train, y_train, transform=train_transform)"
      ],
      "metadata": {
        "id": "0y46e3rcYr1A"
      },
      "execution_count": null,
      "outputs": []
    },
    {
      "cell_type": "code",
      "source": [
        "X_train.shape"
      ],
      "metadata": {
        "id": "YVNvXL425j4A",
        "colab": {
          "base_uri": "https://localhost:8080/"
        },
        "outputId": "90b8406a-b56a-41d8-96d8-b38228cdf360"
      },
      "execution_count": null,
      "outputs": [
        {
          "output_type": "execute_result",
          "data": {
            "text/plain": [
              "(1016, 145, 145, 3)"
            ]
          },
          "metadata": {},
          "execution_count": 36
        }
      ]
    },
    {
      "cell_type": "code",
      "source": [
        "y_train.shape"
      ],
      "metadata": {
        "id": "69QcEl9q8X_e",
        "colab": {
          "base_uri": "https://localhost:8080/"
        },
        "outputId": "9059444b-34cc-4d26-9a32-f4b27ced96f0"
      },
      "execution_count": null,
      "outputs": [
        {
          "output_type": "execute_result",
          "data": {
            "text/plain": [
              "(1016, 1)"
            ]
          },
          "metadata": {},
          "execution_count": 37
        }
      ]
    },
    {
      "cell_type": "markdown",
      "source": [
        "model"
      ],
      "metadata": {
        "id": "dtztpJB5hg3l"
      }
    },
    {
      "cell_type": "code",
      "source": [
        "import torch.nn as nn\n",
        "import torch.nn.functional as F\n",
        "from torchsummary import summary\n",
        "\n",
        "class Net(nn.Module):\n",
        "    def __init__(self):\n",
        "        super(Net, self).__init__()\n",
        "\n",
        "        # 1. Conv2d\n",
        "        self.conv1 = nn.Conv2d(3, 32, kernel_size=3, stride=1, padding=1)\n",
        "        self.conv2 = nn.Conv2d(32, 64, kernel_size=3, stride=1, padding=1)\n",
        "        self.conv3 = nn.Conv2d(64, 128, kernel_size=3, stride=1, padding=1)\n",
        "\n",
        "        # 2. activation\n",
        "        self.fc1 = nn.Linear(1536, 512)\n",
        "        self.fc2 = nn.Linear(512, 1)\n",
        "\n",
        "    def forward(self, x):\n",
        "        # 3. pool\n",
        "        x = F.max_pool2d(F.relu(self.conv1(x)),2)\n",
        "        x = F.max_pool2d(F.relu(self.conv2(x)), 2)\n",
        "        x = F.max_pool2d(F.relu(self.conv3(x)), 2)\n",
        "        x = x.reshape(-1, 1536)\n",
        "        x = F.relu(self.fc1(x))\n",
        "        x = self.fc2(x)\n",
        "\n",
        "\n",
        "        return x"
      ],
      "metadata": {
        "id": "rAugmL4Jl2c9"
      },
      "execution_count": null,
      "outputs": []
    },
    {
      "cell_type": "markdown",
      "source": [
        ""
      ],
      "metadata": {
        "id": "2Lm4DFSbqW08"
      }
    },
    {
      "cell_type": "code",
      "source": [
        "# trained parameter를 저장할 PATH\n",
        "PATH = '/content/drive/MyDrive/22-1 숙탯2기딥러닝/train/'\n",
        "\n",
        "#train_dataloader\n",
        "train_dataloader = DataLoader(train_dataset, batch_size=32, shuffle=True, num_workers=0)\n",
        "\n",
        "model = Net()\n",
        "model.to('cuda')  #GPU\n",
        "\n",
        "criterion = nn.BCEWithLogitsLoss()\n",
        "optimizer = optim.Adam(model.parameters(), lr=0.0001)\n",
        "\n",
        "epochs = 50"
      ],
      "metadata": {
        "id": "U8VpeRZVl2lC"
      },
      "execution_count": null,
      "outputs": []
    },
    {
      "cell_type": "markdown",
      "source": [
        ""
      ],
      "metadata": {
        "id": "bOUhtKB6rOU-"
      }
    },
    {
      "cell_type": "code",
      "source": [
        "def accuracy(y_pred, y_test):\n",
        "    y_pred_tag = torch.round(torch.sigmoid(y_pred))\n",
        "\n",
        "    correct_results_sum = (y_pred_tag == y_test).sum().float()\n",
        "    acc = correct_results_sum / y_test.shape[0]\n",
        "    acc = torch.round(acc * 100)\n",
        "\n",
        "    return acc"
      ],
      "metadata": {
        "id": "9eVu_M3brOm9"
      },
      "execution_count": null,
      "outputs": []
    },
    {
      "cell_type": "markdown",
      "source": [
        ""
      ],
      "metadata": {
        "id": "FFI3CULkrPVP"
      }
    },
    {
      "cell_type": "code",
      "source": [
        "for epoch in range(epochs):\n",
        "    running_loss = 0.0\n",
        "    running_acc = 0.0\n",
        "\n",
        "    model.train()\n",
        "\n",
        "    for i, data in enumerate(train_dataloader, 0):\n",
        "        input_1, labels = data[0].to('cuda'), data[1].to('cuda')\n",
        "\n",
        "        input = input_1.transpose(1, 3).transpose(2, 3)\n",
        "\n",
        "        optimizer.zero_grad()\n",
        "\n",
        "        outputs = model(input)\n",
        "\n",
        "        loss = criterion(outputs, labels)\n",
        "        loss.backward()\n",
        "        optimizer.step()\n",
        "\n",
        "        running_loss += loss.item()\n",
        "        running_acc += accuracy(outputs, labels)\n",
        "\n",
        "        if i % 80 == 79:\n",
        "            print('epoch: [%d/%d] train_loss: %.5f train_acc: %.5f' % (\n",
        "                epoch + 1, epochs, running_loss / 80, running_acc / 80))\n",
        "            running_loss = 0.0\n",
        "\n",
        "print(\"learning finish\")\n",
        "torch.save(model.state_dict(), PATH)"
      ],
      "metadata": {
        "id": "G4FFa523Ekua",
        "colab": {
          "base_uri": "https://localhost:8080/",
          "height": 397
        },
        "outputId": "fd416a49-a76b-4c8d-e8c9-8d544e559697"
      },
      "execution_count": null,
      "outputs": [
        {
          "output_type": "error",
          "ename": "ValueError",
          "evalue": "ignored",
          "traceback": [
            "\u001b[0;31m---------------------------------------------------------------------------\u001b[0m",
            "\u001b[0;31mValueError\u001b[0m                                Traceback (most recent call last)",
            "\u001b[0;32m<ipython-input-41-5582f49c1963>\u001b[0m in \u001b[0;36m<module>\u001b[0;34m()\u001b[0m\n\u001b[1;32m     14\u001b[0m         \u001b[0moutputs\u001b[0m \u001b[0;34m=\u001b[0m \u001b[0mmodel\u001b[0m\u001b[0;34m(\u001b[0m\u001b[0minput\u001b[0m\u001b[0;34m)\u001b[0m\u001b[0;34m\u001b[0m\u001b[0;34m\u001b[0m\u001b[0m\n\u001b[1;32m     15\u001b[0m \u001b[0;34m\u001b[0m\u001b[0m\n\u001b[0;32m---> 16\u001b[0;31m         \u001b[0mloss\u001b[0m \u001b[0;34m=\u001b[0m \u001b[0mcriterion\u001b[0m\u001b[0;34m(\u001b[0m\u001b[0moutputs\u001b[0m\u001b[0;34m,\u001b[0m \u001b[0mlabels\u001b[0m\u001b[0;34m)\u001b[0m\u001b[0;34m\u001b[0m\u001b[0;34m\u001b[0m\u001b[0m\n\u001b[0m\u001b[1;32m     17\u001b[0m         \u001b[0mloss\u001b[0m\u001b[0;34m.\u001b[0m\u001b[0mbackward\u001b[0m\u001b[0;34m(\u001b[0m\u001b[0;34m)\u001b[0m\u001b[0;34m\u001b[0m\u001b[0;34m\u001b[0m\u001b[0m\n\u001b[1;32m     18\u001b[0m         \u001b[0moptimizer\u001b[0m\u001b[0;34m.\u001b[0m\u001b[0mstep\u001b[0m\u001b[0;34m(\u001b[0m\u001b[0;34m)\u001b[0m\u001b[0;34m\u001b[0m\u001b[0;34m\u001b[0m\u001b[0m\n",
            "\u001b[0;32m/usr/local/lib/python3.7/dist-packages/torch/nn/modules/module.py\u001b[0m in \u001b[0;36m_call_impl\u001b[0;34m(self, *input, **kwargs)\u001b[0m\n\u001b[1;32m   1128\u001b[0m         if not (self._backward_hooks or self._forward_hooks or self._forward_pre_hooks or _global_backward_hooks\n\u001b[1;32m   1129\u001b[0m                 or _global_forward_hooks or _global_forward_pre_hooks):\n\u001b[0;32m-> 1130\u001b[0;31m             \u001b[0;32mreturn\u001b[0m \u001b[0mforward_call\u001b[0m\u001b[0;34m(\u001b[0m\u001b[0;34m*\u001b[0m\u001b[0minput\u001b[0m\u001b[0;34m,\u001b[0m \u001b[0;34m**\u001b[0m\u001b[0mkwargs\u001b[0m\u001b[0;34m)\u001b[0m\u001b[0;34m\u001b[0m\u001b[0;34m\u001b[0m\u001b[0m\n\u001b[0m\u001b[1;32m   1131\u001b[0m         \u001b[0;31m# Do not call functions when jit is used\u001b[0m\u001b[0;34m\u001b[0m\u001b[0;34m\u001b[0m\u001b[0;34m\u001b[0m\u001b[0m\n\u001b[1;32m   1132\u001b[0m         \u001b[0mfull_backward_hooks\u001b[0m\u001b[0;34m,\u001b[0m \u001b[0mnon_full_backward_hooks\u001b[0m \u001b[0;34m=\u001b[0m \u001b[0;34m[\u001b[0m\u001b[0;34m]\u001b[0m\u001b[0;34m,\u001b[0m \u001b[0;34m[\u001b[0m\u001b[0;34m]\u001b[0m\u001b[0;34m\u001b[0m\u001b[0;34m\u001b[0m\u001b[0m\n",
            "\u001b[0;32m/usr/local/lib/python3.7/dist-packages/torch/nn/modules/loss.py\u001b[0m in \u001b[0;36mforward\u001b[0;34m(self, input, target)\u001b[0m\n\u001b[1;32m    715\u001b[0m                                                   \u001b[0mself\u001b[0m\u001b[0;34m.\u001b[0m\u001b[0mweight\u001b[0m\u001b[0;34m,\u001b[0m\u001b[0;34m\u001b[0m\u001b[0;34m\u001b[0m\u001b[0m\n\u001b[1;32m    716\u001b[0m                                                   \u001b[0mpos_weight\u001b[0m\u001b[0;34m=\u001b[0m\u001b[0mself\u001b[0m\u001b[0;34m.\u001b[0m\u001b[0mpos_weight\u001b[0m\u001b[0;34m,\u001b[0m\u001b[0;34m\u001b[0m\u001b[0;34m\u001b[0m\u001b[0m\n\u001b[0;32m--> 717\u001b[0;31m                                                   reduction=self.reduction)\n\u001b[0m\u001b[1;32m    718\u001b[0m \u001b[0;34m\u001b[0m\u001b[0m\n\u001b[1;32m    719\u001b[0m \u001b[0;34m\u001b[0m\u001b[0m\n",
            "\u001b[0;32m/usr/local/lib/python3.7/dist-packages/torch/nn/functional.py\u001b[0m in \u001b[0;36mbinary_cross_entropy_with_logits\u001b[0;34m(input, target, weight, size_average, reduce, reduction, pos_weight)\u001b[0m\n\u001b[1;32m   3146\u001b[0m \u001b[0;34m\u001b[0m\u001b[0m\n\u001b[1;32m   3147\u001b[0m     \u001b[0;32mif\u001b[0m \u001b[0;32mnot\u001b[0m \u001b[0;34m(\u001b[0m\u001b[0mtarget\u001b[0m\u001b[0;34m.\u001b[0m\u001b[0msize\u001b[0m\u001b[0;34m(\u001b[0m\u001b[0;34m)\u001b[0m \u001b[0;34m==\u001b[0m \u001b[0minput\u001b[0m\u001b[0;34m.\u001b[0m\u001b[0msize\u001b[0m\u001b[0;34m(\u001b[0m\u001b[0;34m)\u001b[0m\u001b[0;34m)\u001b[0m\u001b[0;34m:\u001b[0m\u001b[0;34m\u001b[0m\u001b[0;34m\u001b[0m\u001b[0m\n\u001b[0;32m-> 3148\u001b[0;31m         \u001b[0;32mraise\u001b[0m \u001b[0mValueError\u001b[0m\u001b[0;34m(\u001b[0m\u001b[0;34m\"Target size ({}) must be the same as input size ({})\"\u001b[0m\u001b[0;34m.\u001b[0m\u001b[0mformat\u001b[0m\u001b[0;34m(\u001b[0m\u001b[0mtarget\u001b[0m\u001b[0;34m.\u001b[0m\u001b[0msize\u001b[0m\u001b[0;34m(\u001b[0m\u001b[0;34m)\u001b[0m\u001b[0;34m,\u001b[0m \u001b[0minput\u001b[0m\u001b[0;34m.\u001b[0m\u001b[0msize\u001b[0m\u001b[0;34m(\u001b[0m\u001b[0;34m)\u001b[0m\u001b[0;34m)\u001b[0m\u001b[0;34m)\u001b[0m\u001b[0;34m\u001b[0m\u001b[0;34m\u001b[0m\u001b[0m\n\u001b[0m\u001b[1;32m   3149\u001b[0m \u001b[0;34m\u001b[0m\u001b[0m\n\u001b[1;32m   3150\u001b[0m     \u001b[0;32mreturn\u001b[0m \u001b[0mtorch\u001b[0m\u001b[0;34m.\u001b[0m\u001b[0mbinary_cross_entropy_with_logits\u001b[0m\u001b[0;34m(\u001b[0m\u001b[0minput\u001b[0m\u001b[0;34m,\u001b[0m \u001b[0mtarget\u001b[0m\u001b[0;34m,\u001b[0m \u001b[0mweight\u001b[0m\u001b[0;34m,\u001b[0m \u001b[0mpos_weight\u001b[0m\u001b[0;34m,\u001b[0m \u001b[0mreduction_enum\u001b[0m\u001b[0;34m)\u001b[0m\u001b[0;34m\u001b[0m\u001b[0;34m\u001b[0m\u001b[0m\n",
            "\u001b[0;31mValueError\u001b[0m: Target size (torch.Size([32, 1])) must be the same as input size (torch.Size([864, 1]))"
          ]
        }
      ]
    },
    {
      "cell_type": "markdown",
      "source": [
        "grayscale"
      ],
      "metadata": {
        "id": "EQrSSTzpq5d1"
      }
    },
    {
      "cell_type": "code",
      "source": [
        "import tensorflow as tf\n",
        "import cv2\n",
        "import os\n",
        "import matplotlib.pyplot as plt\n",
        "import numpy as np\n",
        "\n",
        "\n",
        "img_array = cv2.imread(\"/content/drive/MyDrive/22-1 숙탯2기딥러닝/train/Closed/_0.jpg\", cv2.IMREAD_GRAYSCALE)\n",
        "plt.imshow(img_array,cmap=\"gray\")"
      ],
      "metadata": {
        "id": "MJmiHYMPqDMH",
        "colab": {
          "base_uri": "https://localhost:8080/",
          "height": 287
        },
        "outputId": "f946da53-236a-4ea3-98fb-89207b671157"
      },
      "execution_count": null,
      "outputs": [
        {
          "output_type": "execute_result",
          "data": {
            "text/plain": [
              "<matplotlib.image.AxesImage at 0x7effa4381a50>"
            ]
          },
          "metadata": {},
          "execution_count": 26
        },
        {
          "output_type": "display_data",
          "data": {
            "text/plain": [
              "<Figure size 432x288 with 1 Axes>"
            ],
            "image/png": "[encoded data removed]"
          },
          "metadata": {
            "needs_background": "light"
          }
        }
      ]
    },
    {
      "cell_type": "code",
      "source": [
        "img_array.shape"
      ],
      "metadata": {
        "colab": {
          "base_uri": "https://localhost:8080/"
        },
        "id": "XhKr-cBSsGE9",
        "outputId": "f4227220-e3a8-4304-b48c-194328b45dfe"
      },
      "execution_count": null,
      "outputs": [
        {
          "output_type": "execute_result",
          "data": {
            "text/plain": [
              "(145, 145)"
            ]
          },
          "metadata": {},
          "execution_count": 27
        }
      ]
    },
    {
      "cell_type": "code",
      "source": [
        "Datadirectory = \"/content/drive/MyDrive/22-1 숙탯2기딥러닝/train\"\n",
        "Classes = [\"Closed\",\"Open\"]\n",
        "for category in Classes:\n",
        "    path = os.path.join(Datadirectory, category)\n",
        "    for img in os.listdir(path):\n",
        "        img_array = cv2.imread(os.path.join(path,img), cv2.IMREAD_GRAYSCALE)\n",
        "        backtorgb = cv2.cvtColor(img_array,cv2.COLOR_GRAY2RGB)\n",
        "        plt.imshow(img_array, cmap=\"gray\")\n",
        "        plt.show()\n",
        "        break\n",
        "    break"
      ],
      "metadata": {
        "colab": {
          "base_uri": "https://localhost:8080/",
          "height": 268
        },
        "id": "6M5Q0bn_sGHW",
        "outputId": "bf38df97-d4e6-489a-8d47-18abb65bea0a"
      },
      "execution_count": null,
      "outputs": [
        {
          "output_type": "display_data",
          "data": {
            "text/plain": [
              "<Figure size 432x288 with 1 Axes>"
            ],
            "image/png": "[encoded data removed]"
          },
          "metadata": {
            "needs_background": "light"
          }
        }
      ]
    },
    {
      "cell_type": "code",
      "source": [
        "img_size = 224\n",
        "new_array= cv2.resize(backtorgb, (img_size,img_size))\n",
        "plt.imshow(new_array, cmap=\"gray\")\n",
        "plt.show()"
      ],
      "metadata": {
        "colab": {
          "base_uri": "https://localhost:8080/",
          "height": 269
        },
        "id": "6MexBdjlsGJ6",
        "outputId": "c2c4f699-9a5c-4c85-bb43-ad855c577460"
      },
      "execution_count": null,
      "outputs": [
        {
          "output_type": "display_data",
          "data": {
            "text/plain": [
              "<Figure size 432x288 with 1 Axes>"
            ],
            "image/png": "[encoded data removed]"
          },
          "metadata": {
            "needs_background": "light"
          }
        }
      ]
    },
    {
      "cell_type": "code",
      "source": [
        "img_array.shape"
      ],
      "metadata": {
        "colab": {
          "base_uri": "https://localhost:8080/"
        },
        "id": "COQ72BXNsGMe",
        "outputId": "8d651d88-2803-479e-a409-f020284bc31b"
      },
      "execution_count": null,
      "outputs": [
        {
          "output_type": "execute_result",
          "data": {
            "text/plain": [
              "(127, 131)"
            ]
          },
          "metadata": {},
          "execution_count": 30
        }
      ]
    },
    {
      "cell_type": "code",
      "source": [
        "training_Data = []\n",
        "\n",
        "def create_training_Data():\n",
        "    for category in Classes:\n",
        "        path = os.path.join(Datadirectory, category)\n",
        "        class_num = Classes.index(category)\n",
        "        for img in os.listdir(path):\n",
        "            try:\n",
        "                img_array = cv2.imread(os.path.join(path,img), cv2.IMREAD_GRAYSCALE)\n",
        "                backtorgb = cv2.cvtColor(img_array,cv2.COLOR_GRAY2RGB)\n",
        "                new_array = cv2.resize(backtorgb, (img_size,img_size))\n",
        "                training_Data.append([new_array,class_num])\n",
        "            except Exception as e:\n",
        "                pass"
      ],
      "metadata": {
        "id": "C8QWcXgqsGSy"
      },
      "execution_count": null,
      "outputs": []
    },
    {
      "cell_type": "code",
      "source": [
        "create_training_Data()"
      ],
      "metadata": {
        "id": "V6lh6LVWsGVv"
      },
      "execution_count": null,
      "outputs": []
    },
    {
      "cell_type": "code",
      "source": [
        "print(len(training_Data))"
      ],
      "metadata": {
        "colab": {
          "base_uri": "https://localhost:8080/"
        },
        "id": "a8F_Ds65sdp5",
        "outputId": "f88a32f6-e72d-4d5d-e01c-02e82c1ed373"
      },
      "execution_count": null,
      "outputs": [
        {
          "output_type": "stream",
          "name": "stdout",
          "text": [
            "1452\n"
          ]
        }
      ]
    },
    {
      "cell_type": "code",
      "source": [
        "X=[]\n",
        "y=[]\n",
        "\n",
        "for features,label in training_Data:\n",
        "    X.append(features)\n",
        "    y.append(label)\n",
        "    \n",
        "X = np.array(X).reshape(-1,img_size, img_size,3)"
      ],
      "metadata": {
        "id": "2dkxwEuwsds_"
      },
      "execution_count": null,
      "outputs": []
    },
    {
      "cell_type": "code",
      "source": [
        "X.shape"
      ],
      "metadata": {
        "colab": {
          "base_uri": "https://localhost:8080/"
        },
        "id": "c7v250B2sdvt",
        "outputId": "bae117e3-e019-4a29-eaea-c159b75ca52b"
      },
      "execution_count": null,
      "outputs": [
        {
          "output_type": "execute_result",
          "data": {
            "text/plain": [
              "(1452, 224, 224, 3)"
            ]
          },
          "metadata": {},
          "execution_count": 35
        }
      ]
    },
    {
      "cell_type": "code",
      "source": [
        "X=X/255.0;"
      ],
      "metadata": {
        "id": "Md_I0c0Msdy1"
      },
      "execution_count": null,
      "outputs": []
    },
    {
      "cell_type": "code",
      "source": [
        "Y= np.array(y)"
      ],
      "metadata": {
        "id": "G2lZQZlwsGYl"
      },
      "execution_count": null,
      "outputs": []
    },
    {
      "cell_type": "code",
      "source": [
        "X.shape"
      ],
      "metadata": {
        "colab": {
          "base_uri": "https://localhost:8080/"
        },
        "id": "_nJMtgPFssfB",
        "outputId": "219d2581-8c20-41f1-e678-442f491e2324"
      },
      "execution_count": null,
      "outputs": [
        {
          "output_type": "execute_result",
          "data": {
            "text/plain": [
              "(1452, 224, 224, 3)"
            ]
          },
          "metadata": {},
          "execution_count": 38
        }
      ]
    },
    {
      "cell_type": "code",
      "source": [
        ""
      ],
      "metadata": {
        "id": "qtFnbkT9sshn"
      },
      "execution_count": null,
      "outputs": []
    },
    {
      "cell_type": "code",
      "source": [
        ""
      ],
      "metadata": {
        "id": "ejM9N6H0sskf"
      },
      "execution_count": null,
      "outputs": []
    },
    {
      "cell_type": "code",
      "source": [
        ""
      ],
      "metadata": {
        "id": "hxw016W2ssm7"
      },
      "execution_count": null,
      "outputs": []
    },
    {
      "cell_type": "code",
      "source": [
        ""
      ],
      "metadata": {
        "id": "wl69uIw1sspU"
      },
      "execution_count": null,
      "outputs": []
    },
    {
      "cell_type": "code",
      "source": [
        ""
      ],
      "metadata": {
        "id": "iMKAI1ETssr_"
      },
      "execution_count": null,
      "outputs": []
    },
    {
      "cell_type": "markdown",
      "source": [
        "#### kaggle"
      ],
      "metadata": {
        "id": "7h9btD6jpjLm"
      }
    },
    {
      "cell_type": "markdown",
      "source": [
        "Libraries"
      ],
      "metadata": {
        "id": "mgRRnaSzlD0o"
      }
    },
    {
      "cell_type": "code",
      "source": [
        "from tensorflow.keras.layers import Input, Lambda, Dense, Flatten, Conv2D, MaxPooling2D, Dropout\n",
        "from tensorflow.keras.models import Model\n",
        "from tensorflow.keras.models import Sequential\n",
        "from keras.preprocessing.image import ImageDataGenerator\n",
        "import tensorflow as tf"
      ],
      "metadata": {
        "id": "blozKrqDpmvx"
      },
      "execution_count": null,
      "outputs": []
    },
    {
      "cell_type": "markdown",
      "source": [
        "Data Augmentation(데이터 증식)\n",
        "- 학습 이미지의 수가 적어서 overfitting이 발생할 가능성을 줄이기 위해 기존 데이터로부터 그럴듯한 이미지를 랜덤하게 생성하여 데이터의 수를 늘린다.\n",
        "  - zoom_range: 확대 비율([lower,upper]=[1-zoom_range,1+zoom_range])\n",
        "  - horizontal_flip: 수평으로 뒤집음(mirror image)\n",
        "  - rotation_range: random rotation 각도 범위(0-180)"
      ],
      "metadata": {
        "id": "EdB2wImplINL"
      }
    },
    {
      "cell_type": "code",
      "source": [
        "train_generator = ImageDataGenerator(rescale=1/255, zoom_range=0.2, horizontal_flip=True, rotation_range=30)\n",
        "test_generator = ImageDataGenerator(rescale=1/255)\n",
        "\n",
        "train_generator = train_generator.flow(np.array(X_train), y_train, shuffle=False)\n",
        "test_generator = test_generator.flow(np.array(X_test), y_test, shuffle=False)"
      ],
      "metadata": {
        "id": "FxPUfFtnpmyw"
      },
      "execution_count": null,
      "outputs": []
    },
    {
      "cell_type": "code",
      "source": [
        "train_generator"
      ],
      "metadata": {
        "colab": {
          "base_uri": "https://localhost:8080/"
        },
        "id": "O0shXkNAJAZ2",
        "outputId": "d0f0031f-4c45-49ee-a628-354904d975bc"
      },
      "execution_count": null,
      "outputs": [
        {
          "output_type": "execute_result",
          "data": {
            "text/plain": [
              "<keras.preprocessing.image.NumpyArrayIterator at 0x7f60eb648790>"
            ]
          },
          "metadata": {},
          "execution_count": 44
        }
      ]
    },
    {
      "cell_type": "markdown",
      "source": [
        "model"
      ],
      "metadata": {
        "id": "xgQjK4MUkUKv"
      }
    },
    {
      "cell_type": "code",
      "source": [
        "model = Sequential()\n",
        "\n",
        "model.add(Conv2D(256, (3, 3), activation=\"relu\", input_shape=X_train.shape[1:]))\n",
        "model.add(MaxPooling2D(2, 2))\n",
        "\n",
        "model.add(Conv2D(128, (3, 3), activation=\"relu\"))\n",
        "model.add(MaxPooling2D(2, 2))\n",
        "\n",
        "model.add(Conv2D(64, (3, 3), activation=\"relu\"))\n",
        "model.add(MaxPooling2D(2, 2))\n",
        "\n",
        "model.add(Conv2D(32, (3, 3), activation=\"relu\"))\n",
        "model.add(MaxPooling2D(2, 2))\n",
        "\n",
        "model.add(Flatten())\n",
        "model.add(Dropout(0.5))\n",
        "\n",
        "model.add(Dense(64, activation=\"relu\"))\n",
        "model.add(Dense(4, activation=\"softmax\"))\n",
        "\n",
        "model.compile(loss=\"categorical_crossentropy\", metrics=[\"accuracy\"], optimizer=\"adam\")\n",
        "\n",
        "model.summary()"
      ],
      "metadata": {
        "id": "R43Xftz2pm3o",
        "colab": {
          "base_uri": "https://localhost:8080/"
        },
        "outputId": "1518e707-8bc3-4f24-aaf6-ca4a7065cb19"
      },
      "execution_count": null,
      "outputs": [
        {
          "output_type": "stream",
          "name": "stdout",
          "text": [
            "Model: \"sequential\"\n",
            "_________________________________________________________________\n",
            " Layer (type)                Output Shape              Param #   \n",
            "=================================================================\n",
            " conv2d (Conv2D)             (None, 143, 143, 256)     7168      \n",
            "                                                                 \n",
            " max_pooling2d (MaxPooling2D  (None, 71, 71, 256)      0         \n",
            " )                                                               \n",
            "                                                                 \n",
            " conv2d_1 (Conv2D)           (None, 69, 69, 128)       295040    \n",
            "                                                                 \n",
            " max_pooling2d_1 (MaxPooling  (None, 34, 34, 128)      0         \n",
            " 2D)                                                             \n",
            "                                                                 \n",
            " conv2d_2 (Conv2D)           (None, 32, 32, 64)        73792     \n",
            "                                                                 \n",
            " max_pooling2d_2 (MaxPooling  (None, 16, 16, 64)       0         \n",
            " 2D)                                                             \n",
            "                                                                 \n",
            " conv2d_3 (Conv2D)           (None, 14, 14, 32)        18464     \n",
            "                                                                 \n",
            " max_pooling2d_3 (MaxPooling  (None, 7, 7, 32)         0         \n",
            " 2D)                                                             \n",
            "                                                                 \n",
            " flatten (Flatten)           (None, 1568)              0         \n",
            "                                                                 \n",
            " dropout (Dropout)           (None, 1568)              0         \n",
            "                                                                 \n",
            " dense (Dense)               (None, 64)                100416    \n",
            "                                                                 \n",
            " dense_1 (Dense)             (None, 4)                 260       \n",
            "                                                                 \n",
            "=================================================================\n",
            "Total params: 495,140\n",
            "Trainable params: 495,140\n",
            "Non-trainable params: 0\n",
            "_________________________________________________________________\n"
          ]
        }
      ]
    },
    {
      "cell_type": "code",
      "source": [
        "history = model.fit(train_generator, epochs=50, validation_data=test_generator, shuffle=True, validation_steps=len(test_generator))"
      ],
      "metadata": {
        "id": "gCnmMA00Ek2U",
        "colab": {
          "base_uri": "https://localhost:8080/"
        },
        "outputId": "72016cdd-c4d9-42b1-ccc3-46a89c36121b"
      },
      "execution_count": null,
      "outputs": [
        {
          "output_type": "stream",
          "name": "stdout",
          "text": [
            "Epoch 1/50\n",
            "32/32 [==============================] - 19s 245ms/step - loss: 1072.4973 - accuracy: 0.1870 - val_loss: 4235.4663 - val_accuracy: 0.0000e+00\n",
            "Epoch 2/50\n",
            "32/32 [==============================] - 6s 188ms/step - loss: 83797.0469 - accuracy: 0.2175 - val_loss: 137857.8594 - val_accuracy: 0.0138\n",
            "Epoch 3/50\n",
            "32/32 [==============================] - 6s 186ms/step - loss: 1521151.6250 - accuracy: 0.2451 - val_loss: 3375085.5000 - val_accuracy: 0.9885\n",
            "Epoch 4/50\n",
            "32/32 [==============================] - 6s 187ms/step - loss: 15029913.0000 - accuracy: 0.2766 - val_loss: 39424156.0000 - val_accuracy: 0.0000e+00\n",
            "Epoch 5/50\n",
            "32/32 [==============================] - 6s 185ms/step - loss: 68014728.0000 - accuracy: 0.2106 - val_loss: 217365088.0000 - val_accuracy: 0.0000e+00\n",
            "Epoch 6/50\n",
            "32/32 [==============================] - 6s 184ms/step - loss: 366345600.0000 - accuracy: 0.2372 - val_loss: 292935776.0000 - val_accuracy: 0.0000e+00\n",
            "Epoch 7/50\n",
            "32/32 [==============================] - 6s 186ms/step - loss: 1688803584.0000 - accuracy: 0.2411 - val_loss: 2502808832.0000 - val_accuracy: 1.0000\n",
            "Epoch 8/50\n",
            "32/32 [==============================] - 6s 185ms/step - loss: 4374970880.0000 - accuracy: 0.2785 - val_loss: 11528677376.0000 - val_accuracy: 0.0000e+00\n",
            "Epoch 9/50\n",
            "32/32 [==============================] - 6s 186ms/step - loss: 10946117632.0000 - accuracy: 0.2116 - val_loss: 7257039872.0000 - val_accuracy: 0.0000e+00\n",
            "Epoch 10/50\n",
            "32/32 [==============================] - 6s 186ms/step - loss: 18068727808.0000 - accuracy: 0.2559 - val_loss: 19864127488.0000 - val_accuracy: 0.0000e+00\n",
            "Epoch 11/50\n",
            "32/32 [==============================] - 6s 187ms/step - loss: 41475518464.0000 - accuracy: 0.2746 - val_loss: 40576614400.0000 - val_accuracy: 0.0000e+00\n",
            "Epoch 12/50\n",
            "32/32 [==============================] - 6s 186ms/step - loss: 48000249856.0000 - accuracy: 0.2421 - val_loss: 87835033600.0000 - val_accuracy: 0.0000e+00\n",
            "Epoch 13/50\n",
            "32/32 [==============================] - 6s 186ms/step - loss: 109110509568.0000 - accuracy: 0.2293 - val_loss: 184433016832.0000 - val_accuracy: 0.0000e+00\n",
            "Epoch 14/50\n",
            "32/32 [==============================] - 10s 311ms/step - loss: 181120712704.0000 - accuracy: 0.2589 - val_loss: 147292012544.0000 - val_accuracy: 1.0000\n",
            "Epoch 15/50\n",
            "32/32 [==============================] - 6s 187ms/step - loss: 258396667904.0000 - accuracy: 0.2618 - val_loss: 267006869504.0000 - val_accuracy: 1.0000\n",
            "Epoch 16/50\n",
            "32/32 [==============================] - 6s 186ms/step - loss: 480454344704.0000 - accuracy: 0.2431 - val_loss: 889798328320.0000 - val_accuracy: 0.0000e+00\n",
            "Epoch 17/50\n",
            "32/32 [==============================] - 6s 186ms/step - loss: 430737981440.0000 - accuracy: 0.2274 - val_loss: 386547351552.0000 - val_accuracy: 0.9954\n",
            "Epoch 18/50\n",
            "32/32 [==============================] - 6s 185ms/step - loss: 658167234560.0000 - accuracy: 0.2687 - val_loss: 1026859663360.0000 - val_accuracy: 0.0000e+00\n",
            "Epoch 19/50\n",
            "32/32 [==============================] - 6s 187ms/step - loss: 1044179451904.0000 - accuracy: 0.2362 - val_loss: 1496454397952.0000 - val_accuracy: 1.0000\n",
            "Epoch 20/50\n",
            "32/32 [==============================] - 6s 186ms/step - loss: 1122498117632.0000 - accuracy: 0.2559 - val_loss: 786063491072.0000 - val_accuracy: 0.0000e+00\n",
            "Epoch 21/50\n",
            "32/32 [==============================] - 6s 185ms/step - loss: 1531833483264.0000 - accuracy: 0.2224 - val_loss: 1332286717952.0000 - val_accuracy: 0.9702\n",
            "Epoch 22/50\n",
            "32/32 [==============================] - 6s 185ms/step - loss: 1476762664960.0000 - accuracy: 0.3110 - val_loss: 2043054915584.0000 - val_accuracy: 0.0000e+00\n",
            "Epoch 23/50\n",
            "32/32 [==============================] - 6s 188ms/step - loss: 4115107151872.0000 - accuracy: 0.1959 - val_loss: 3982917632000.0000 - val_accuracy: 1.0000\n",
            "Epoch 24/50\n",
            "32/32 [==============================] - 7s 212ms/step - loss: 4046436433920.0000 - accuracy: 0.2244 - val_loss: 3315474628608.0000 - val_accuracy: 0.0000e+00\n",
            "Epoch 25/50\n",
            "32/32 [==============================] - 6s 186ms/step - loss: 4465555931136.0000 - accuracy: 0.2785 - val_loss: 9259724046336.0000 - val_accuracy: 1.0000\n",
            "Epoch 26/50\n",
            "32/32 [==============================] - 6s 191ms/step - loss: 6406347423744.0000 - accuracy: 0.2490 - val_loss: 8113213145088.0000 - val_accuracy: 0.0000e+00\n",
            "Epoch 27/50\n",
            "32/32 [==============================] - 7s 209ms/step - loss: 7694259322880.0000 - accuracy: 0.2510 - val_loss: 6563362766848.0000 - val_accuracy: 0.0000e+00\n",
            "Epoch 28/50\n",
            "32/32 [==============================] - 6s 187ms/step - loss: 7919040462848.0000 - accuracy: 0.2421 - val_loss: 6625418543104.0000 - val_accuracy: 0.0000e+00\n",
            "Epoch 29/50\n",
            "32/32 [==============================] - 6s 187ms/step - loss: 9025956610048.0000 - accuracy: 0.2441 - val_loss: 5078375727104.0000 - val_accuracy: 0.0000e+00\n",
            "Epoch 30/50\n",
            "32/32 [==============================] - 7s 217ms/step - loss: 10660894212096.0000 - accuracy: 0.2766 - val_loss: 19926811148288.0000 - val_accuracy: 0.0000e+00\n",
            "Epoch 31/50\n",
            "32/32 [==============================] - 6s 185ms/step - loss: 12340839841792.0000 - accuracy: 0.2205 - val_loss: 6102607462400.0000 - val_accuracy: 0.0000e+00\n",
            "Epoch 32/50\n",
            "32/32 [==============================] - 6s 186ms/step - loss: 12348208185344.0000 - accuracy: 0.2392 - val_loss: 8283465711616.0000 - val_accuracy: 0.0000e+00\n",
            "Epoch 33/50\n",
            "32/32 [==============================] - 6s 187ms/step - loss: 14909544857600.0000 - accuracy: 0.2441 - val_loss: 23083882643456.0000 - val_accuracy: 1.0000\n",
            "Epoch 34/50\n",
            "32/32 [==============================] - 6s 184ms/step - loss: 25158238601216.0000 - accuracy: 0.3061 - val_loss: 38281420996608.0000 - val_accuracy: 0.0000e+00\n",
            "Epoch 35/50\n",
            "32/32 [==============================] - 6s 185ms/step - loss: 27726788427776.0000 - accuracy: 0.2244 - val_loss: 37161197895680.0000 - val_accuracy: 0.0000e+00\n",
            "Epoch 36/50\n",
            "32/32 [==============================] - 6s 187ms/step - loss: 20511390171136.0000 - accuracy: 0.2490 - val_loss: 30544477814784.0000 - val_accuracy: 0.0000e+00\n",
            "Epoch 37/50\n",
            "32/32 [==============================] - 6s 188ms/step - loss: 35424697319424.0000 - accuracy: 0.2205 - val_loss: 60628030980096.0000 - val_accuracy: 1.0000\n",
            "Epoch 38/50\n",
            "32/32 [==============================] - 6s 186ms/step - loss: 50922273112064.0000 - accuracy: 0.2835 - val_loss: 53349319704576.0000 - val_accuracy: 0.0000e+00\n",
            "Epoch 39/50\n",
            "32/32 [==============================] - 6s 185ms/step - loss: 46072894324736.0000 - accuracy: 0.2520 - val_loss: 13398360195072.0000 - val_accuracy: 0.0000e+00\n",
            "Epoch 40/50\n",
            "32/32 [==============================] - 6s 186ms/step - loss: 36454499614720.0000 - accuracy: 0.2539 - val_loss: 45313758855168.0000 - val_accuracy: 1.0000\n",
            "Epoch 41/50\n",
            "32/32 [==============================] - 6s 186ms/step - loss: 61209919356928.0000 - accuracy: 0.2205 - val_loss: 44344727830528.0000 - val_accuracy: 1.0000\n",
            "Epoch 42/50\n",
            "32/32 [==============================] - 6s 185ms/step - loss: 55274480074752.0000 - accuracy: 0.2667 - val_loss: 28307582091264.0000 - val_accuracy: 0.0000e+00\n",
            "Epoch 43/50\n",
            "32/32 [==============================] - 7s 206ms/step - loss: 52458004938752.0000 - accuracy: 0.2608 - val_loss: 47907839410176.0000 - val_accuracy: 0.0000e+00\n",
            "Epoch 44/50\n",
            "32/32 [==============================] - 6s 184ms/step - loss: 76202626777088.0000 - accuracy: 0.2539 - val_loss: 91130498646016.0000 - val_accuracy: 0.0000e+00\n",
            "Epoch 45/50\n",
            "32/32 [==============================] - 6s 185ms/step - loss: 96836245258240.0000 - accuracy: 0.2618 - val_loss: 167346404589568.0000 - val_accuracy: 0.0000e+00\n",
            "Epoch 46/50\n",
            "32/32 [==============================] - 6s 186ms/step - loss: 87367318765568.0000 - accuracy: 0.2421 - val_loss: 110280860237824.0000 - val_accuracy: 0.0000e+00\n",
            "Epoch 47/50\n",
            "32/32 [==============================] - 6s 186ms/step - loss: 85598454939648.0000 - accuracy: 0.1988 - val_loss: 121415235796992.0000 - val_accuracy: 1.0000\n",
            "Epoch 48/50\n",
            "32/32 [==============================] - 6s 185ms/step - loss: 111089043898368.0000 - accuracy: 0.3110 - val_loss: 182016200933376.0000 - val_accuracy: 0.0000e+00\n",
            "Epoch 49/50\n",
            "32/32 [==============================] - 6s 188ms/step - loss: 133045235482624.0000 - accuracy: 0.2224 - val_loss: 29865891856384.0000 - val_accuracy: 0.0000e+00\n",
            "Epoch 50/50\n",
            "32/32 [==============================] - 6s 187ms/step - loss: 98375437385728.0000 - accuracy: 0.2392 - val_loss: 82064770596864.0000 - val_accuracy: 0.0000e+00\n"
          ]
        }
      ]
    },
    {
      "cell_type": "markdown",
      "source": [
        "hitory"
      ],
      "metadata": {
        "id": "eewWWzPxkynQ"
      }
    },
    {
      "cell_type": "code",
      "source": [
        "accuracy = history.history['accuracy']\n",
        "val_accuracy = history.history['val_accuracy']\n",
        "loss = history.history['loss']\n",
        "val_loss = history.history['val_loss']\n",
        "epochs = range(len(accuracy))\n",
        "\n",
        "plt.plot(epochs, accuracy, \"b\", label=\"trainning accuracy\")\n",
        "plt.plot(epochs, val_accuracy, \"r\", label=\"validation accuracy\")\n",
        "plt.legend()\n",
        "plt.show()\n",
        "\n",
        "plt.plot(epochs, loss, \"b\", label=\"trainning loss\")\n",
        "plt.plot(epochs, val_loss, \"r\", label=\"validation loss\")\n",
        "plt.legend()\n",
        "plt.show()"
      ],
      "metadata": {
        "id": "C2FQLCOHEk5t",
        "colab": {
          "base_uri": "https://localhost:8080/",
          "height": 524
        },
        "outputId": "81894f5b-2bfd-4487-fb27-58859bd16843"
      },
      "execution_count": null,
      "outputs": [
        {
          "output_type": "display_data",
          "data": {
            "text/plain": [
              "<Figure size 432x288 with 1 Axes>"
            ],
            "image/png": "[encoded data removed]"
          },
          "metadata": {
            "needs_background": "light"
          }
        },
        {
          "output_type": "display_data",
          "data": {
            "text/plain": [
              "<Figure size 432x288 with 1 Axes>"
            ],
            "image/png": "[encoded data removed]"
          },
          "metadata": {
            "needs_background": "light"
          }
        }
      ]
    },
    {
      "cell_type": "code",
      "source": [
        ""
      ],
      "metadata": {
        "id": "dN-UMz9xEk8I"
      },
      "execution_count": null,
      "outputs": []
    },
    {
      "cell_type": "code",
      "source": [
        ""
      ],
      "metadata": {
        "id": "Cd5-FOQDElCj"
      },
      "execution_count": null,
      "outputs": []
    },
    {
      "cell_type": "code",
      "source": [
        ""
      ],
      "metadata": {
        "id": "HDWhgJO38YCI"
      },
      "execution_count": null,
      "outputs": []
    },
    {
      "cell_type": "markdown",
      "source": [
        "###0803"
      ],
      "metadata": {
        "id": "uvZbZvfDJHKi"
      }
    },
    {
      "cell_type": "markdown",
      "source": [
        "####Tistory로 크기 통일 및 GRAYSCALE"
      ],
      "metadata": {
        "id": "CkwiaJrtBkMz"
      }
    },
    {
      "cell_type": "code",
      "source": [
        "import os\n",
        "import cv2"
      ],
      "metadata": {
        "id": "FRo7H3XSb96Z"
      },
      "execution_count": null,
      "outputs": []
    },
    {
      "cell_type": "code",
      "source": [
        "def get_data(dir_path=\"/content/drive/MyDrive/22-1 숙탯2기딥러닝/train\"):\n",
        "    labels = ['Closed', 'Open']\n",
        "    IMG_SIZE = 145\n",
        "    data = []\n",
        "    for label in labels:\n",
        "        path = os.path.join(dir_path, label)\n",
        "        class_num = labels.index(label)\n",
        "        print(class_num)\n",
        "        for img in os.listdir(path):\n",
        "            try:\n",
        "                img_array = cv2.imread(os.path.join(path, img), cv2.IMREAD_GRAYSCALE)   ### 변경1\n",
        "                resized_array = cv2.resize(img_array, (34, 26))                         ### 변경2\n",
        "                data.append([resized_array, class_num])\n",
        "            except Exception as e:\n",
        "                print(e)\n",
        "    return data"
      ],
      "metadata": {
        "id": "N9sKwitIN5Lc"
      },
      "execution_count": null,
      "outputs": []
    },
    {
      "cell_type": "code",
      "source": [
        "data_train = get_data()"
      ],
      "metadata": {
        "colab": {
          "base_uri": "https://localhost:8080/"
        },
        "id": "P-qCZEDwN5JF",
        "outputId": "41adf204-2ceb-4c70-dc28-123b098df751"
      },
      "execution_count": null,
      "outputs": [
        {
          "output_type": "stream",
          "name": "stdout",
          "text": [
            "0\n",
            "1\n"
          ]
        }
      ]
    },
    {
      "cell_type": "code",
      "source": [
        "X = []\n",
        "y = []\n",
        "for feature, label in data_train:\n",
        "    X.append(feature)\n",
        "    y.append(label)"
      ],
      "metadata": {
        "id": "mknO9WJjN5GM"
      },
      "execution_count": null,
      "outputs": []
    },
    {
      "cell_type": "code",
      "source": [
        "import numpy as np\n",
        "X = np.array(X)\n",
        "y = np.array(y)"
      ],
      "metadata": {
        "id": "C944fLvkN5BO"
      },
      "execution_count": null,
      "outputs": []
    },
    {
      "cell_type": "code",
      "source": [
        "from sklearn.preprocessing import LabelBinarizer\n",
        "label_bin = LabelBinarizer()\n",
        "y = label_bin.fit_transform(y)"
      ],
      "metadata": {
        "id": "MErh6-2yN4-R"
      },
      "execution_count": null,
      "outputs": []
    },
    {
      "cell_type": "code",
      "source": [
        "X = X.reshape(1452, 26, 34,1)    ### 변경3"
      ],
      "metadata": {
        "id": "XpGOtQNhTT3-"
      },
      "execution_count": null,
      "outputs": []
    },
    {
      "cell_type": "code",
      "source": [
        "from sklearn.model_selection import train_test_split\n",
        "seed = 42\n",
        "test_size = 0.30\n",
        "X_train, X_test, y_train, y_test = train_test_split(X, y, random_state=seed, test_size=test_size)"
      ],
      "metadata": {
        "id": "Ju_5BrzvN47g"
      },
      "execution_count": null,
      "outputs": []
    },
    {
      "cell_type": "markdown",
      "source": [
        "train"
      ],
      "metadata": {
        "id": "hA2mSW6NOJHP"
      }
    },
    {
      "cell_type": "code",
      "source": [
        "import numpy as np\n",
        "import matplotlib.pyplot as plt\n",
        "import torch\n",
        "import torch.nn as nn\n",
        "from torchvision.transforms import transforms\n",
        "import torch.optim as optim"
      ],
      "metadata": {
        "id": "YLRrPcfYOKqQ"
      },
      "execution_count": null,
      "outputs": []
    },
    {
      "cell_type": "code",
      "source": [
        "# train_transform = transforms.Compose([\n",
        "#     transforms.ToTensor(),\n",
        "#     transforms.RandomRotation(10),\n",
        "#     transforms.RandomHorizontalFlip(),\n",
        "# ])"
      ],
      "metadata": {
        "id": "X_y_Vp7ZOKny"
      },
      "execution_count": null,
      "outputs": []
    },
    {
      "cell_type": "code",
      "source": [
        "from torch.utils.data import Dataset\n",
        "import torch\n",
        "\n",
        "\n",
        "class eyes_dataset(Dataset):\n",
        "    def __init__(self, x_file_paths, y_file_path, transform=None):\n",
        "        self.x_files = x_file_paths\n",
        "        self.y_files = y_file_path\n",
        "        self.transform = transform\n",
        "\n",
        "    def __getitem__(self, idx):\n",
        "        x = self.x_files[idx]\n",
        "        x = torch.from_numpy(x).float()   ##tensor로 변환하는거 아닌가..?\n",
        "\n",
        "        y = self.y_files[idx]\n",
        "        y = torch.from_numpy(y).float()\n",
        "\n",
        "        return x, y\n",
        "\n",
        "    def __len__(self):\n",
        "        return len(self.x_files)"
      ],
      "metadata": {
        "id": "8i6jtLkQOKk7"
      },
      "execution_count": null,
      "outputs": []
    },
    {
      "cell_type": "code",
      "source": [
        "train_dataset = eyes_dataset(X_train, y_train)    ###변경4"
      ],
      "metadata": {
        "id": "a2CnEJwYOKiA"
      },
      "execution_count": null,
      "outputs": []
    },
    {
      "cell_type": "code",
      "source": [
        "type(y_train)    ##흠.. 넘파이 배열로 해야 작동이 됩니다. 텐서로 변환하면 넘파이로 변경하라는 오류가 나옵니다."
      ],
      "metadata": {
        "colab": {
          "base_uri": "https://localhost:8080/"
        },
        "id": "Kd6wk2ehQxTf",
        "outputId": "48b53273-a39c-4427-efd7-9c84e3aa0a24"
      },
      "execution_count": null,
      "outputs": [
        {
          "output_type": "execute_result",
          "data": {
            "text/plain": [
              "numpy.ndarray"
            ]
          },
          "metadata": {},
          "execution_count": 34
        }
      ]
    },
    {
      "cell_type": "code",
      "source": [
        "# X_train = torch.tensor(X_train)\n",
        "# print(X_train.shape)\n",
        "\n",
        "# y_train = torch.tensor(y_train)\n",
        "# y_train.shape\n",
        "\n",
        "# train_dataset = eyes_dataset(X_train, y_train, transform=train_transform)"
      ],
      "metadata": {
        "id": "SSX93x7zQ9rY"
      },
      "execution_count": null,
      "outputs": []
    },
    {
      "cell_type": "markdown",
      "source": [
        "model"
      ],
      "metadata": {
        "id": "S7mbOpm0OPzc"
      }
    },
    {
      "cell_type": "code",
      "source": [
        "import torch.nn as nn\n",
        "import torch.nn.functional as F\n",
        "from torchsummary import summary\n",
        "\n",
        "class Net(nn.Module):\n",
        "    def __init__(self):\n",
        "        super(Net, self).__init__()\n",
        "\n",
        "        self.conv1 = nn.Conv2d(1, 32, kernel_size=3, stride=1, padding=1)\n",
        "        self.conv2 = nn.Conv2d(32, 64, kernel_size=3, stride=1, padding=1)\n",
        "        self.conv3 = nn.Conv2d(64, 128, kernel_size=3, stride=1, padding=1)\n",
        "        self.fc1 = nn.Linear(1536, 512)\n",
        "        self.fc2 = nn.Linear(512, 1)\n",
        "\n",
        "    def forward(self, x):\n",
        "        x = F.max_pool2d(F.relu(self.conv1(x)),2)\n",
        "        x = F.max_pool2d(F.relu(self.conv2(x)), 2)\n",
        "        x = F.max_pool2d(F.relu(self.conv3(x)), 2)\n",
        "        x = x.reshape(-1, 1536)\n",
        "        x = F.relu(self.fc1(x))\n",
        "        x = self.fc2(x)\n",
        "\n",
        "\n",
        "        return x"
      ],
      "metadata": {
        "id": "7kCvFydqOKbu"
      },
      "execution_count": null,
      "outputs": []
    },
    {
      "cell_type": "code",
      "source": [
        "from torch.utils.data import DataLoader\n",
        "\n",
        "train_dataloader = DataLoader(train_dataset, batch_size=8, shuffle=True, num_workers=0)"
      ],
      "metadata": {
        "id": "0hgBYdEVOKY3"
      },
      "execution_count": null,
      "outputs": []
    },
    {
      "cell_type": "code",
      "source": [
        "model = Net()\n",
        "model.to('cuda')\n",
        "\n",
        "#os.environ[\"CUDA_VISIBLE_DEVICES\"]\n",
        "\n",
        "criterion = nn.BCEWithLogitsLoss()\n",
        "optimizer = optim.Adam(model.parameters(), lr=0.0001)\n",
        "\n",
        "epochs = 50"
      ],
      "metadata": {
        "id": "DAFScJlHN45Q"
      },
      "execution_count": null,
      "outputs": []
    },
    {
      "cell_type": "code",
      "source": [
        "def accuracy(y_pred, y_test):\n",
        "    y_pred_tag = torch.round(torch.sigmoid(y_pred))\n",
        "\n",
        "    correct_results_sum = (y_pred_tag == y_test).sum().float()\n",
        "    acc = correct_results_sum / y_test.shape[0]\n",
        "    acc = torch.round(acc * 100)\n",
        "\n",
        "    return acc"
      ],
      "metadata": {
        "id": "KhmAPVPTW1cN"
      },
      "execution_count": null,
      "outputs": []
    },
    {
      "cell_type": "code",
      "source": [
        "for epoch in range(epochs):\n",
        "    running_loss = 0.0\n",
        "    running_acc = 0.0\n",
        "\n",
        "    model.train()\n",
        "\n",
        "    for i, data in enumerate(train_dataloader, 0):\n",
        "        input_1, labels = data[0].to('cuda'), data[1].to('cuda')\n",
        "\n",
        "        input = input_1.transpose(1, 3).transpose(2, 3)\n",
        "\n",
        "        optimizer.zero_grad()\n",
        "\n",
        "        outputs = model(input)\n",
        "\n",
        "        loss = criterion(outputs, labels)\n",
        "        loss.backward()\n",
        "        optimizer.step()\n",
        "\n",
        "        running_loss += loss.item()\n",
        "        running_acc += accuracy(outputs, labels)\n",
        "\n",
        "        if i % 80 == 79:\n",
        "            print('epoch: [%d/%d] train_loss: %.5f train_acc: %.5f' % (\n",
        "                epoch + 1, epochs, running_loss / 80, running_acc / 80))\n",
        "            running_loss = 0.0\n",
        "\n",
        "print(\"learning finish\")      ##하드웨어에 맞게 batch size를 변경해야 결과가 나옵니다. 저는 8로 설정했습니다."
      ],
      "metadata": {
        "colab": {
          "base_uri": "https://localhost:8080/"
        },
        "id": "z8W8wuE7N43A",
        "outputId": "ad4d20b7-e2e7-4b05-feb4-ca455f85dfaf"
      },
      "execution_count": null,
      "outputs": [
        {
          "output_type": "stream",
          "name": "stdout",
          "text": [
            "epoch: [1/50] train_loss: 0.40663 train_acc: 84.48750\n",
            "epoch: [2/50] train_loss: 0.15447 train_acc: 95.13750\n",
            "epoch: [3/50] train_loss: 0.11570 train_acc: 95.87500\n",
            "epoch: [4/50] train_loss: 0.08453 train_acc: 96.65000\n",
            "epoch: [5/50] train_loss: 0.03493 train_acc: 99.10000\n",
            "epoch: [6/50] train_loss: 0.05166 train_acc: 97.86250\n",
            "epoch: [7/50] train_loss: 0.01735 train_acc: 99.70000\n",
            "epoch: [8/50] train_loss: 0.02417 train_acc: 99.23750\n",
            "epoch: [9/50] train_loss: 0.01051 train_acc: 99.70000\n",
            "epoch: [10/50] train_loss: 0.00713 train_acc: 100.00000\n",
            "epoch: [11/50] train_loss: 0.00376 train_acc: 100.00000\n",
            "epoch: [12/50] train_loss: 0.00290 train_acc: 100.00000\n",
            "epoch: [13/50] train_loss: 0.00205 train_acc: 100.00000\n",
            "epoch: [14/50] train_loss: 0.00194 train_acc: 100.00000\n",
            "epoch: [15/50] train_loss: 0.00112 train_acc: 100.00000\n",
            "epoch: [16/50] train_loss: 0.00111 train_acc: 100.00000\n",
            "epoch: [17/50] train_loss: 0.00100 train_acc: 100.00000\n",
            "epoch: [18/50] train_loss: 0.00121 train_acc: 100.00000\n",
            "epoch: [19/50] train_loss: 0.00069 train_acc: 100.00000\n",
            "epoch: [20/50] train_loss: 0.00045 train_acc: 100.00000\n",
            "epoch: [21/50] train_loss: 0.00059 train_acc: 100.00000\n",
            "epoch: [22/50] train_loss: 0.00036 train_acc: 100.00000\n",
            "epoch: [23/50] train_loss: 0.00038 train_acc: 100.00000\n",
            "epoch: [24/50] train_loss: 0.00031 train_acc: 100.00000\n",
            "epoch: [25/50] train_loss: 0.00026 train_acc: 100.00000\n",
            "epoch: [26/50] train_loss: 0.00025 train_acc: 100.00000\n",
            "epoch: [27/50] train_loss: 0.00014 train_acc: 100.00000\n",
            "epoch: [28/50] train_loss: 0.00017 train_acc: 100.00000\n",
            "epoch: [29/50] train_loss: 0.00021 train_acc: 100.00000\n",
            "epoch: [30/50] train_loss: 0.00011 train_acc: 100.00000\n",
            "epoch: [31/50] train_loss: 0.00008 train_acc: 100.00000\n",
            "epoch: [32/50] train_loss: 0.00009 train_acc: 100.00000\n",
            "epoch: [33/50] train_loss: 0.00010 train_acc: 100.00000\n",
            "epoch: [34/50] train_loss: 0.00009 train_acc: 100.00000\n",
            "epoch: [35/50] train_loss: 0.00006 train_acc: 100.00000\n",
            "epoch: [36/50] train_loss: 0.00007 train_acc: 100.00000\n",
            "epoch: [37/50] train_loss: 0.00006 train_acc: 100.00000\n",
            "epoch: [38/50] train_loss: 0.00006 train_acc: 100.00000\n",
            "epoch: [39/50] train_loss: 0.00003 train_acc: 100.00000\n",
            "epoch: [40/50] train_loss: 0.00006 train_acc: 100.00000\n",
            "epoch: [41/50] train_loss: 0.00004 train_acc: 100.00000\n",
            "epoch: [42/50] train_loss: 0.00002 train_acc: 100.00000\n",
            "epoch: [43/50] train_loss: 0.00003 train_acc: 100.00000\n",
            "epoch: [44/50] train_loss: 0.00003 train_acc: 100.00000\n",
            "epoch: [45/50] train_loss: 0.00001 train_acc: 100.00000\n",
            "epoch: [46/50] train_loss: 0.00001 train_acc: 100.00000\n",
            "epoch: [47/50] train_loss: 0.00002 train_acc: 100.00000\n",
            "epoch: [48/50] train_loss: 0.00002 train_acc: 100.00000\n",
            "epoch: [49/50] train_loss: 0.00001 train_acc: 100.00000\n",
            "epoch: [50/50] train_loss: 0.00001 train_acc: 100.00000\n",
            "learning finish\n"
          ]
        }
      ]
    },
    {
      "cell_type": "code",
      "source": [
        "# plt.style.use('dark_background')\n",
        "# fig = plt.figure()\n",
        "\n",
        "# for i in range(len(train_dataset)):\n",
        "#     x, y = train_dataset[i]\n",
        "\n",
        "#     plt.subplot(2, 1, 1)\n",
        "#     plt.title(str(y_train[i]))\n",
        "#     plt.imshow(X_train[i].reshape((26, 34)), cmap='gray')\n",
        "\n",
        "#     plt.show()"
      ],
      "metadata": {
        "id": "5lqaWHTkT3t4"
      },
      "execution_count": null,
      "outputs": []
    },
    {
      "cell_type": "markdown",
      "source": [
        "test"
      ],
      "metadata": {
        "id": "reTyxgjybvJX"
      }
    },
    {
      "cell_type": "code",
      "source": [
        "test_transform = transforms.Compose([\n",
        "    transforms.ToTensor()\n",
        "])\n",
        "\n",
        "test_dataset = eyes_dataset(X_test, y_test, transform=test_transform)\n",
        "\n",
        "test_dataloader = DataLoader(test_dataset, batch_size=1, shuffle=False, num_workers=0)\n",
        "\n",
        "model = Net()\n",
        "model.to('cuda')\n",
        "model.eval()\n",
        "\n",
        "count = 0"
      ],
      "metadata": {
        "id": "ZNN0gs5uT3rR"
      },
      "execution_count": null,
      "outputs": []
    },
    {
      "cell_type": "code",
      "source": [
        "with torch.no_grad():\n",
        "    total_acc = 0.0\n",
        "    acc = 0.0\n",
        "    for i, test_data in enumerate(test_dataloader, 0):\n",
        "        data, labels = test_data[0].to('cuda'), test_data[1].to('cuda')\n",
        "\n",
        "        data = data.transpose(1, 3).transpose(2, 3)\n",
        "\n",
        "        outputs = model(data)\n",
        "\n",
        "        acc = accuracy(outputs, labels)\n",
        "        total_acc += acc\n",
        "\n",
        "        count = i\n",
        "\n",
        "    print('avarage acc: %.5f' % (total_acc/count),'%')\n",
        "\n",
        "print('test finish!')"
      ],
      "metadata": {
        "id": "c5mu4v3qT3ma",
        "colab": {
          "base_uri": "https://localhost:8080/"
        },
        "outputId": "065ad894-a070-4f17-f946-b078874d79c7"
      },
      "execution_count": null,
      "outputs": [
        {
          "output_type": "stream",
          "name": "stdout",
          "text": [
            "avarage acc: 51.26437 %\n",
            "test finish!\n"
          ]
        }
      ]
    },
    {
      "cell_type": "code",
      "source": [
        ""
      ],
      "metadata": {
        "id": "yu6e8TddT3iI"
      },
      "execution_count": null,
      "outputs": []
    },
    {
      "cell_type": "code",
      "source": [
        ""
      ],
      "metadata": {
        "id": "3GkPvqwDT3Zq"
      },
      "execution_count": null,
      "outputs": []
    },
    {
      "cell_type": "markdown",
      "source": [
        "#### Tistory 크기 통일 및 GRAYSCALE + 텐서로 돌려보기"
      ],
      "metadata": {
        "id": "nZzntQA7LEEL"
      }
    },
    {
      "cell_type": "code",
      "source": [
        "import os\n",
        "import cv2"
      ],
      "metadata": {
        "id": "xA-Z4Eq2HwV5"
      },
      "execution_count": null,
      "outputs": []
    },
    {
      "cell_type": "code",
      "source": [
        "def get_data(dir_path=\"/content/drive/MyDrive/22-1 숙탯2기딥러닝/train\"):\n",
        "    labels = ['Closed', 'Open']\n",
        "    IMG_SIZE = 145\n",
        "    data = []\n",
        "    for label in labels:\n",
        "        path = os.path.join(dir_path, label)\n",
        "        class_num = labels.index(label)\n",
        "        print(class_num)\n",
        "        for img in os.listdir(path):\n",
        "            try:\n",
        "                img_array = cv2.imread(os.path.join(path, img), cv2.IMREAD_GRAYSCALE)   ### 변경1\n",
        "                resized_array = cv2.resize(img_array, (34, 26))                         ### 변경2\n",
        "                data.append([resized_array, class_num])\n",
        "            except Exception as e:\n",
        "                print(e)\n",
        "    return data"
      ],
      "metadata": {
        "id": "oc9AyJtILSI9"
      },
      "execution_count": null,
      "outputs": []
    },
    {
      "cell_type": "code",
      "source": [
        "data_train = get_data()"
      ],
      "metadata": {
        "colab": {
          "base_uri": "https://localhost:8080/"
        },
        "id": "iLiDinidLSF5",
        "outputId": "6fb1fc9a-6f03-43d3-e327-28af7c75d0f7"
      },
      "execution_count": null,
      "outputs": [
        {
          "output_type": "stream",
          "name": "stdout",
          "text": [
            "0\n",
            "1\n"
          ]
        }
      ]
    },
    {
      "cell_type": "code",
      "source": [
        "X = []\n",
        "y = []\n",
        "for feature, label in data_train:\n",
        "    X.append(feature)\n",
        "    y.append(label)"
      ],
      "metadata": {
        "id": "kATflbmRLSCt"
      },
      "execution_count": null,
      "outputs": []
    },
    {
      "cell_type": "code",
      "source": [
        "import numpy as np\n",
        "X = np.array(X)\n",
        "y = np.array(y)"
      ],
      "metadata": {
        "id": "trTFGUqNLSAJ"
      },
      "execution_count": null,
      "outputs": []
    },
    {
      "cell_type": "code",
      "source": [
        "X.shape"
      ],
      "metadata": {
        "colab": {
          "base_uri": "https://localhost:8080/"
        },
        "id": "KiCF9Np_eHiA",
        "outputId": "efefad0e-ccf5-420f-e03f-3ef0e5703a4b"
      },
      "execution_count": null,
      "outputs": [
        {
          "output_type": "execute_result",
          "data": {
            "text/plain": [
              "(1452, 26, 34)"
            ]
          },
          "metadata": {},
          "execution_count": 83
        }
      ]
    },
    {
      "cell_type": "code",
      "source": [
        "from sklearn.preprocessing import LabelBinarizer\n",
        "label_bin = LabelBinarizer()\n",
        "y = label_bin.fit_transform(y)"
      ],
      "metadata": {
        "id": "7MZJTd0-LR9h"
      },
      "execution_count": null,
      "outputs": []
    },
    {
      "cell_type": "code",
      "source": [
        "X = X.reshape(1452,1, 26, 34)    ### 변경3"
      ],
      "metadata": {
        "id": "ypIqhVnFLR69"
      },
      "execution_count": null,
      "outputs": []
    },
    {
      "cell_type": "code",
      "source": [
        "X.shape"
      ],
      "metadata": {
        "colab": {
          "base_uri": "https://localhost:8080/"
        },
        "id": "ctprGKJIeDyw",
        "outputId": "637e905e-57c3-492a-e30d-d99773d12eda"
      },
      "execution_count": null,
      "outputs": [
        {
          "output_type": "execute_result",
          "data": {
            "text/plain": [
              "(1452, 1, 26, 34)"
            ]
          },
          "metadata": {},
          "execution_count": 86
        }
      ]
    },
    {
      "cell_type": "code",
      "source": [
        ""
      ],
      "metadata": {
        "id": "aEbIDWHxeDwg"
      },
      "execution_count": null,
      "outputs": []
    },
    {
      "cell_type": "code",
      "source": [
        "from sklearn.model_selection import train_test_split\n",
        "seed = 42\n",
        "test_size = 0.30\n",
        "X_train, X_test, y_train, y_test = train_test_split(X, y, random_state=seed, test_size=test_size)"
      ],
      "metadata": {
        "id": "g75eaPfGLR35"
      },
      "execution_count": null,
      "outputs": []
    },
    {
      "cell_type": "markdown",
      "source": [
        "train"
      ],
      "metadata": {
        "id": "StR0pcEFLhab"
      }
    },
    {
      "cell_type": "code",
      "source": [
        "import numpy as np\n",
        "import matplotlib.pyplot as plt\n",
        "import torch\n",
        "import torch.nn as nn\n",
        "from torchvision.transforms import transforms\n",
        "import torch.optim as optim"
      ],
      "metadata": {
        "id": "XUTeAUWBLR1Q"
      },
      "execution_count": null,
      "outputs": []
    },
    {
      "cell_type": "code",
      "source": [
        "train_transform = transforms.Compose([\n",
        "    transforms.ToTensor(),\n",
        "    transforms.RandomRotation(10),\n",
        "    transforms.RandomHorizontalFlip(),\n",
        "])"
      ],
      "metadata": {
        "id": "Vcyp_AhaLRy9"
      },
      "execution_count": null,
      "outputs": []
    },
    {
      "cell_type": "code",
      "source": [
        "from torch.utils.data import Dataset\n",
        "import torch\n",
        "\n",
        "\n",
        "class eyes_dataset(Dataset):\n",
        "    def __init__(self, x_file_paths, y_file_path, transform=None):\n",
        "        self.x_files = x_file_paths\n",
        "        self.y_files = y_file_path\n",
        "        self.transform = transform\n",
        "\n",
        "    def __getitem__(self, idx):\n",
        "        x = self.x_files[idx]\n",
        "        x = torch.from_numpy(np.asarray(x)).float()   ##np.asaray(x)로 변경\n",
        "\n",
        "        y = self.y_files[idx]\n",
        "        y = torch.from_numpy(np.asarray(y)).float()\n",
        "\n",
        "        return x, y\n",
        "\n",
        "    def __len__(self):\n",
        "        return len(self.x_files)"
      ],
      "metadata": {
        "id": "z4Cs2XHDLngu"
      },
      "execution_count": null,
      "outputs": []
    },
    {
      "cell_type": "code",
      "source": [
        "train_dataset = eyes_dataset(X_train, y_train, transform=train_transform) "
      ],
      "metadata": {
        "id": "wad9aht8LneZ"
      },
      "execution_count": null,
      "outputs": []
    },
    {
      "cell_type": "code",
      "source": [
        "type(y_train)    ##transform을 해줘도 넘파이 배열이 나옵니다."
      ],
      "metadata": {
        "colab": {
          "base_uri": "https://localhost:8080/"
        },
        "id": "iHLQcV3_LncJ",
        "outputId": "e0f4e2fd-3926-4342-f87e-274768f76fe8"
      },
      "execution_count": null,
      "outputs": [
        {
          "output_type": "execute_result",
          "data": {
            "text/plain": [
              "numpy.ndarray"
            ]
          },
          "metadata": {},
          "execution_count": 92
        }
      ]
    },
    {
      "cell_type": "code",
      "source": [
        "X_train = torch.tensor(X_train)  ###텐서로 변경\n",
        "print(X_train.shape)\n",
        "\n",
        "y_train = torch.tensor(y_train)\n",
        "print(y_train.shape)\n",
        "\n",
        "train_dataset = eyes_dataset(X_train, y_train, transform=train_transform)"
      ],
      "metadata": {
        "colab": {
          "base_uri": "https://localhost:8080/"
        },
        "id": "fI2bg-afLnZx",
        "outputId": "b0cbe9fc-cb97-4962-f756-c5b80b8708e8"
      },
      "execution_count": null,
      "outputs": [
        {
          "output_type": "stream",
          "name": "stdout",
          "text": [
            "torch.Size([1016, 1, 26, 34])\n",
            "torch.Size([1016, 1])\n"
          ]
        }
      ]
    },
    {
      "cell_type": "markdown",
      "source": [
        "model"
      ],
      "metadata": {
        "id": "yeP7SsW_MDXe"
      }
    },
    {
      "cell_type": "code",
      "source": [
        "import torch.nn as nn\n",
        "import torch.nn.functional as F\n",
        "from torchsummary import summary\n",
        "\n",
        "class Net(nn.Module):\n",
        "    def __init__(self):\n",
        "        super(Net, self).__init__()\n",
        "\n",
        "        self.conv1 = nn.Conv2d(1, 32, kernel_size=3, stride=1, padding=1)\n",
        "        self.conv2 = nn.Conv2d(32, 64, kernel_size=3, stride=1, padding=1)\n",
        "        self.conv3 = nn.Conv2d(64, 128, kernel_size=3, stride=1, padding=1)\n",
        "        self.fc1 = nn.Linear(1536, 512)\n",
        "        self.fc2 = nn.Linear(512, 1)\n",
        "\n",
        "    def forward(self, x):\n",
        "        x = F.max_pool2d(F.relu(self.conv1(x)),2)\n",
        "        x = F.max_pool2d(F.relu(self.conv2(x)), 2)\n",
        "        x = F.max_pool2d(F.relu(self.conv3(x)), 2)\n",
        "        x = x.reshape(-1, 1536)\n",
        "        x = F.relu(self.fc1(x))\n",
        "        x = self.fc2(x)\n",
        "\n",
        "\n",
        "        return x"
      ],
      "metadata": {
        "id": "qh2-MhbhLnXL"
      },
      "execution_count": null,
      "outputs": []
    },
    {
      "cell_type": "code",
      "source": [
        "from torch.utils.data import DataLoader\n",
        "\n",
        "train_dataloader = DataLoader(train_dataset, batch_size=8, shuffle=True, num_workers=0)"
      ],
      "metadata": {
        "id": "hcZ3EFD4LnUl"
      },
      "execution_count": null,
      "outputs": []
    },
    {
      "cell_type": "code",
      "source": [
        "from torch.utils.data import DataLoader\n",
        "\n",
        "train_dataloader = DataLoader(train_dataset, batch_size=8, shuffle=True, num_workers=0)"
      ],
      "metadata": {
        "id": "yZvprqWiLRwJ"
      },
      "execution_count": null,
      "outputs": []
    },
    {
      "cell_type": "code",
      "source": [
        "model = Net()\n",
        "model.to('cuda')\n",
        "\n",
        "#os.environ[\"CUDA_VISIBLE_DEVICES\"]\n",
        "\n",
        "criterion = nn.BCEWithLogitsLoss()\n",
        "optimizer = optim.Adam(model.parameters(), lr=0.0001)\n",
        "\n",
        "epochs = 50"
      ],
      "metadata": {
        "id": "0ruR1FSPMNK2"
      },
      "execution_count": null,
      "outputs": []
    },
    {
      "cell_type": "code",
      "source": [
        "def accuracy(y_pred, y_test):\n",
        "    y_pred_tag = torch.round(torch.sigmoid(y_pred))\n",
        "\n",
        "    correct_results_sum = (y_pred_tag == y_test).sum().float()\n",
        "    acc = correct_results_sum / y_test.shape[0]\n",
        "    acc = torch.round(acc * 100)\n",
        "\n",
        "    return acc"
      ],
      "metadata": {
        "id": "cugWt_SWMNFn"
      },
      "execution_count": null,
      "outputs": []
    },
    {
      "cell_type": "code",
      "source": [
        "for epoch in range(epochs):\n",
        "    running_loss = 0.0\n",
        "    running_acc = 0.0\n",
        "\n",
        "    model.train()\n",
        "\n",
        "    for i, data in enumerate(train_dataloader, 0):\n",
        "        input_1, labels = data[0].to('cuda'), data[1].to('cuda')\n",
        "\n",
        "        input = input_1.transpose(1, 3).transpose(2, 3)\n",
        "\n",
        "        optimizer.zero_grad()\n",
        "\n",
        "        outputs = model(input)\n",
        "\n",
        "        loss = criterion(outputs, labels)\n",
        "        loss.backward()\n",
        "        optimizer.step()\n",
        "\n",
        "        running_loss += loss.item()\n",
        "        running_acc += accuracy(outputs, labels)\n",
        "\n",
        "        if i % 80 == 79:\n",
        "            print('epoch: [%d/%d] train_loss: %.5f train_acc: %.5f' % (\n",
        "                epoch + 1, epochs, running_loss / 80, running_acc / 80))\n",
        "            running_loss = 0.0\n",
        "\n",
        "print(\"learning finish\")      ##하드웨어에 맞게 batch size를 변경해야 결과가 나옵니다. 저는 8로 설정했습니다."
      ],
      "metadata": {
        "colab": {
          "base_uri": "https://localhost:8080/",
          "height": 397
        },
        "id": "Yb7XIZ9HMNC_",
        "outputId": "0778f9d3-da6d-4d34-825d-b21da630dd00"
      },
      "execution_count": null,
      "outputs": [
        {
          "output_type": "error",
          "ename": "RuntimeError",
          "evalue": "ignored",
          "traceback": [
            "\u001b[0;31m---------------------------------------------------------------------------\u001b[0m",
            "\u001b[0;31mRuntimeError\u001b[0m                              Traceback (most recent call last)",
            "\u001b[0;32m<ipython-input-99-06e6aea5ab47>\u001b[0m in \u001b[0;36m<module>\u001b[0;34m()\u001b[0m\n\u001b[1;32m     12\u001b[0m         \u001b[0moptimizer\u001b[0m\u001b[0;34m.\u001b[0m\u001b[0mzero_grad\u001b[0m\u001b[0;34m(\u001b[0m\u001b[0;34m)\u001b[0m\u001b[0;34m\u001b[0m\u001b[0;34m\u001b[0m\u001b[0m\n\u001b[1;32m     13\u001b[0m \u001b[0;34m\u001b[0m\u001b[0m\n\u001b[0;32m---> 14\u001b[0;31m         \u001b[0moutputs\u001b[0m \u001b[0;34m=\u001b[0m \u001b[0mmodel\u001b[0m\u001b[0;34m(\u001b[0m\u001b[0minput\u001b[0m\u001b[0;34m)\u001b[0m\u001b[0;34m\u001b[0m\u001b[0;34m\u001b[0m\u001b[0m\n\u001b[0m\u001b[1;32m     15\u001b[0m \u001b[0;34m\u001b[0m\u001b[0m\n\u001b[1;32m     16\u001b[0m         \u001b[0mloss\u001b[0m \u001b[0;34m=\u001b[0m \u001b[0mcriterion\u001b[0m\u001b[0;34m(\u001b[0m\u001b[0moutputs\u001b[0m\u001b[0;34m,\u001b[0m \u001b[0mlabels\u001b[0m\u001b[0;34m)\u001b[0m\u001b[0;34m\u001b[0m\u001b[0;34m\u001b[0m\u001b[0m\n",
            "\u001b[0;32m/usr/local/lib/python3.7/dist-packages/torch/nn/modules/module.py\u001b[0m in \u001b[0;36m_call_impl\u001b[0;34m(self, *input, **kwargs)\u001b[0m\n\u001b[1;32m   1128\u001b[0m         if not (self._backward_hooks or self._forward_hooks or self._forward_pre_hooks or _global_backward_hooks\n\u001b[1;32m   1129\u001b[0m                 or _global_forward_hooks or _global_forward_pre_hooks):\n\u001b[0;32m-> 1130\u001b[0;31m             \u001b[0;32mreturn\u001b[0m \u001b[0mforward_call\u001b[0m\u001b[0;34m(\u001b[0m\u001b[0;34m*\u001b[0m\u001b[0minput\u001b[0m\u001b[0;34m,\u001b[0m \u001b[0;34m**\u001b[0m\u001b[0mkwargs\u001b[0m\u001b[0;34m)\u001b[0m\u001b[0;34m\u001b[0m\u001b[0;34m\u001b[0m\u001b[0m\n\u001b[0m\u001b[1;32m   1131\u001b[0m         \u001b[0;31m# Do not call functions when jit is used\u001b[0m\u001b[0;34m\u001b[0m\u001b[0;34m\u001b[0m\u001b[0;34m\u001b[0m\u001b[0m\n\u001b[1;32m   1132\u001b[0m         \u001b[0mfull_backward_hooks\u001b[0m\u001b[0;34m,\u001b[0m \u001b[0mnon_full_backward_hooks\u001b[0m \u001b[0;34m=\u001b[0m \u001b[0;34m[\u001b[0m\u001b[0;34m]\u001b[0m\u001b[0;34m,\u001b[0m \u001b[0;34m[\u001b[0m\u001b[0;34m]\u001b[0m\u001b[0;34m\u001b[0m\u001b[0;34m\u001b[0m\u001b[0m\n",
            "\u001b[0;32m<ipython-input-94-bb44252635a6>\u001b[0m in \u001b[0;36mforward\u001b[0;34m(self, x)\u001b[0m\n\u001b[1;32m     14\u001b[0m \u001b[0;34m\u001b[0m\u001b[0m\n\u001b[1;32m     15\u001b[0m     \u001b[0;32mdef\u001b[0m \u001b[0mforward\u001b[0m\u001b[0;34m(\u001b[0m\u001b[0mself\u001b[0m\u001b[0;34m,\u001b[0m \u001b[0mx\u001b[0m\u001b[0;34m)\u001b[0m\u001b[0;34m:\u001b[0m\u001b[0;34m\u001b[0m\u001b[0;34m\u001b[0m\u001b[0m\n\u001b[0;32m---> 16\u001b[0;31m         \u001b[0mx\u001b[0m \u001b[0;34m=\u001b[0m \u001b[0mF\u001b[0m\u001b[0;34m.\u001b[0m\u001b[0mmax_pool2d\u001b[0m\u001b[0;34m(\u001b[0m\u001b[0mF\u001b[0m\u001b[0;34m.\u001b[0m\u001b[0mrelu\u001b[0m\u001b[0;34m(\u001b[0m\u001b[0mself\u001b[0m\u001b[0;34m.\u001b[0m\u001b[0mconv1\u001b[0m\u001b[0;34m(\u001b[0m\u001b[0mx\u001b[0m\u001b[0;34m)\u001b[0m\u001b[0;34m)\u001b[0m\u001b[0;34m,\u001b[0m\u001b[0;36m2\u001b[0m\u001b[0;34m)\u001b[0m\u001b[0;34m\u001b[0m\u001b[0;34m\u001b[0m\u001b[0m\n\u001b[0m\u001b[1;32m     17\u001b[0m         \u001b[0mx\u001b[0m \u001b[0;34m=\u001b[0m \u001b[0mF\u001b[0m\u001b[0;34m.\u001b[0m\u001b[0mmax_pool2d\u001b[0m\u001b[0;34m(\u001b[0m\u001b[0mF\u001b[0m\u001b[0;34m.\u001b[0m\u001b[0mrelu\u001b[0m\u001b[0;34m(\u001b[0m\u001b[0mself\u001b[0m\u001b[0;34m.\u001b[0m\u001b[0mconv2\u001b[0m\u001b[0;34m(\u001b[0m\u001b[0mx\u001b[0m\u001b[0;34m)\u001b[0m\u001b[0;34m)\u001b[0m\u001b[0;34m,\u001b[0m \u001b[0;36m2\u001b[0m\u001b[0;34m)\u001b[0m\u001b[0;34m\u001b[0m\u001b[0;34m\u001b[0m\u001b[0m\n\u001b[1;32m     18\u001b[0m         \u001b[0mx\u001b[0m \u001b[0;34m=\u001b[0m \u001b[0mF\u001b[0m\u001b[0;34m.\u001b[0m\u001b[0mmax_pool2d\u001b[0m\u001b[0;34m(\u001b[0m\u001b[0mF\u001b[0m\u001b[0;34m.\u001b[0m\u001b[0mrelu\u001b[0m\u001b[0;34m(\u001b[0m\u001b[0mself\u001b[0m\u001b[0;34m.\u001b[0m\u001b[0mconv3\u001b[0m\u001b[0;34m(\u001b[0m\u001b[0mx\u001b[0m\u001b[0;34m)\u001b[0m\u001b[0;34m)\u001b[0m\u001b[0;34m,\u001b[0m \u001b[0;36m2\u001b[0m\u001b[0;34m)\u001b[0m\u001b[0;34m\u001b[0m\u001b[0;34m\u001b[0m\u001b[0m\n",
            "\u001b[0;32m/usr/local/lib/python3.7/dist-packages/torch/nn/modules/module.py\u001b[0m in \u001b[0;36m_call_impl\u001b[0;34m(self, *input, **kwargs)\u001b[0m\n\u001b[1;32m   1128\u001b[0m         if not (self._backward_hooks or self._forward_hooks or self._forward_pre_hooks or _global_backward_hooks\n\u001b[1;32m   1129\u001b[0m                 or _global_forward_hooks or _global_forward_pre_hooks):\n\u001b[0;32m-> 1130\u001b[0;31m             \u001b[0;32mreturn\u001b[0m \u001b[0mforward_call\u001b[0m\u001b[0;34m(\u001b[0m\u001b[0;34m*\u001b[0m\u001b[0minput\u001b[0m\u001b[0;34m,\u001b[0m \u001b[0;34m**\u001b[0m\u001b[0mkwargs\u001b[0m\u001b[0;34m)\u001b[0m\u001b[0;34m\u001b[0m\u001b[0;34m\u001b[0m\u001b[0m\n\u001b[0m\u001b[1;32m   1131\u001b[0m         \u001b[0;31m# Do not call functions when jit is used\u001b[0m\u001b[0;34m\u001b[0m\u001b[0;34m\u001b[0m\u001b[0;34m\u001b[0m\u001b[0m\n\u001b[1;32m   1132\u001b[0m         \u001b[0mfull_backward_hooks\u001b[0m\u001b[0;34m,\u001b[0m \u001b[0mnon_full_backward_hooks\u001b[0m \u001b[0;34m=\u001b[0m \u001b[0;34m[\u001b[0m\u001b[0;34m]\u001b[0m\u001b[0;34m,\u001b[0m \u001b[0;34m[\u001b[0m\u001b[0;34m]\u001b[0m\u001b[0;34m\u001b[0m\u001b[0;34m\u001b[0m\u001b[0m\n",
            "\u001b[0;32m/usr/local/lib/python3.7/dist-packages/torch/nn/modules/conv.py\u001b[0m in \u001b[0;36mforward\u001b[0;34m(self, input)\u001b[0m\n\u001b[1;32m    455\u001b[0m \u001b[0;34m\u001b[0m\u001b[0m\n\u001b[1;32m    456\u001b[0m     \u001b[0;32mdef\u001b[0m \u001b[0mforward\u001b[0m\u001b[0;34m(\u001b[0m\u001b[0mself\u001b[0m\u001b[0;34m,\u001b[0m \u001b[0minput\u001b[0m\u001b[0;34m:\u001b[0m \u001b[0mTensor\u001b[0m\u001b[0;34m)\u001b[0m \u001b[0;34m->\u001b[0m \u001b[0mTensor\u001b[0m\u001b[0;34m:\u001b[0m\u001b[0;34m\u001b[0m\u001b[0;34m\u001b[0m\u001b[0m\n\u001b[0;32m--> 457\u001b[0;31m         \u001b[0;32mreturn\u001b[0m \u001b[0mself\u001b[0m\u001b[0;34m.\u001b[0m\u001b[0m_conv_forward\u001b[0m\u001b[0;34m(\u001b[0m\u001b[0minput\u001b[0m\u001b[0;34m,\u001b[0m \u001b[0mself\u001b[0m\u001b[0;34m.\u001b[0m\u001b[0mweight\u001b[0m\u001b[0;34m,\u001b[0m \u001b[0mself\u001b[0m\u001b[0;34m.\u001b[0m\u001b[0mbias\u001b[0m\u001b[0;34m)\u001b[0m\u001b[0;34m\u001b[0m\u001b[0;34m\u001b[0m\u001b[0m\n\u001b[0m\u001b[1;32m    458\u001b[0m \u001b[0;34m\u001b[0m\u001b[0m\n\u001b[1;32m    459\u001b[0m \u001b[0;32mclass\u001b[0m \u001b[0mConv3d\u001b[0m\u001b[0;34m(\u001b[0m\u001b[0m_ConvNd\u001b[0m\u001b[0;34m)\u001b[0m\u001b[0;34m:\u001b[0m\u001b[0;34m\u001b[0m\u001b[0;34m\u001b[0m\u001b[0m\n",
            "\u001b[0;32m/usr/local/lib/python3.7/dist-packages/torch/nn/modules/conv.py\u001b[0m in \u001b[0;36m_conv_forward\u001b[0;34m(self, input, weight, bias)\u001b[0m\n\u001b[1;32m    452\u001b[0m                             _pair(0), self.dilation, self.groups)\n\u001b[1;32m    453\u001b[0m         return F.conv2d(input, weight, bias, self.stride,\n\u001b[0;32m--> 454\u001b[0;31m                         self.padding, self.dilation, self.groups)\n\u001b[0m\u001b[1;32m    455\u001b[0m \u001b[0;34m\u001b[0m\u001b[0m\n\u001b[1;32m    456\u001b[0m     \u001b[0;32mdef\u001b[0m \u001b[0mforward\u001b[0m\u001b[0;34m(\u001b[0m\u001b[0mself\u001b[0m\u001b[0;34m,\u001b[0m \u001b[0minput\u001b[0m\u001b[0;34m:\u001b[0m \u001b[0mTensor\u001b[0m\u001b[0;34m)\u001b[0m \u001b[0;34m->\u001b[0m \u001b[0mTensor\u001b[0m\u001b[0;34m:\u001b[0m\u001b[0;34m\u001b[0m\u001b[0;34m\u001b[0m\u001b[0m\n",
            "\u001b[0;31mRuntimeError\u001b[0m: Given groups=1, weight of size [32, 1, 3, 3], expected input[8, 34, 1, 26] to have 1 channels, but got 34 channels instead"
          ]
        }
      ]
    },
    {
      "cell_type": "markdown",
      "source": [
        "test"
      ],
      "metadata": {
        "id": "6qx5H8yudTXE"
      }
    },
    {
      "cell_type": "code",
      "source": [
        ""
      ],
      "metadata": {
        "id": "y4TMjsugcyrZ"
      },
      "execution_count": null,
      "outputs": []
    },
    {
      "cell_type": "code",
      "source": [
        ""
      ],
      "metadata": {
        "id": "fn5HXPmIcyoT"
      },
      "execution_count": null,
      "outputs": []
    },
    {
      "cell_type": "markdown",
      "source": [
        "### 0716\n"
      ],
      "metadata": {
        "id": "LHwJILwE8_Uv"
      }
    },
    {
      "cell_type": "code",
      "source": [
        "##data_loader.py##\n",
        "from torch.utils.data import Dataset\n",
        "import torch\n",
        "\n",
        "\n",
        "class eyes_dataset(Dataset):\n",
        "    def __init__(self, x_file_paths, y_file_path, transform=None):\n",
        "        self.x_files = x_file_paths\n",
        "        self.y_files = y_file_path\n",
        "        self.transform = transform\n",
        "\n",
        "    def __getitem__(self, idx):\n",
        "        x = self.x_files[idx]\n",
        "        x = torch.from_numpy(x).float()\n",
        "\n",
        "        y = self.y_files[idx]\n",
        "        y = torch.from_numpy(y).float()  #GPU 연산을 위해 자료형을 tensor로 변환\n",
        "\n",
        "        return x, y\n",
        "\n",
        "    def __len__(self):\n",
        "        return len(self.x_files)\n",
        "\n",
        "#제가 찾은 예제에서 x_file과 y_file은 형식이 npy라는 확장자를 가진 이미지입니다.\n",
        "#npy는 numpy 자료형으로 이미지를 저장합니다.\n",
        "\n",
        "# x_file의 shape은 (2586,26,34,1) -> 2586개 데이터의 width=26, height=34, channel=1로 구성됩니다.\n",
        "# y_file의 shape은 (2586, 1) -> 2586개의 데이터 각각에 라벨링이 있습니다.\n",
        "  # 라벨링은 눈을 감으면 0, 뜨면 1로 구성됩니다."
      ],
      "metadata": {
        "id": "uRA_Zsdbl-TA"
      },
      "execution_count": null,
      "outputs": []
    },
    {
      "cell_type": "code",
      "source": [
        "##model.py##\n",
        "\n",
        "import torch.nn as nn\n",
        "import torch.nn.functional as F\n",
        "from torchsummary import summary\n",
        "\n",
        "class Net(nn.Module):\n",
        "    def __init__(self):\n",
        "        super(Net, self).__init__()\n",
        "\n",
        "        # 1. Conv2d(input_channel_size, output_volume_size, kernel_size)\n",
        "        \n",
        "        self.conv1 = nn.Conv2d(1, 32, kernel_size=3, stride=1, padding=1)\n",
        "        # 흑백 1장, 채널 수는 32, 채널 크기는 3\n",
        "        # 결과 : 32개의 필터(채널)은 32개의 특징맵 생성\n",
        "        self.conv2 = nn.Conv2d(32, 64, kernel_size=3, stride=1, padding=1)\n",
        "        # covn2에서 64개의 필터(채널)은 각각 conv1에서 나온 32개의 특징맵을 보고 다시 1개의 특징맵을 생성 → 총 64개의 특징맵 생성\n",
        "        self.conv3 = nn.Conv2d(64, 128, kernel_size=3, stride=1, padding=1)\n",
        "        # conv3도 마찬가지\n",
        "\n",
        "        # 2. activation\n",
        "        self.fc1 = nn.Linear(1536, 512)\n",
        "        self.fc2 = nn.Linear(512, 1)\n",
        "\n",
        "    def forward(self, x):\n",
        "        # 3. pool\n",
        "        x = F.max_pool2d(F.relu(self.conv1(x)),2)\n",
        "        x = F.max_pool2d(F.relu(self.conv2(x)), 2)\n",
        "        x = F.max_pool2d(F.relu(self.conv3(x)), 2)\n",
        "        x = x.reshape(-1, 1536)\n",
        "        x = F.relu(self.fc1(x))\n",
        "        x = self.fc2(x)\n",
        "\n",
        "\n",
        "        return x\n",
        "\n",
        "\n",
        "# model은 binary classification / 눈을 감으면 0, 뜨면 1\n",
        "# Conv, activation, pool의 3번의 과정을 거쳐 2번의 linear layer을 통해 최종적인 값이 나옴\n",
        "# 이 최종적인 값으로 loss를 구하고, Probability를 구해 boundary를 0.5로 잡고 눈을 감았는지 떴는지 판단\n",
        "\n",
        "# 컨브넷은 (image_height, image_width, image_channels) 크기의 입력 텐서 사용\n",
        "    # 여기서는 input_shape=(26,34,1)임\n"
      ],
      "metadata": {
        "id": "NOY0L6mwbX4Y"
      },
      "execution_count": null,
      "outputs": []
    },
    {
      "cell_type": "markdown",
      "source": [
        "![제목 없음.png](data:image/png;base64,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)"
      ],
      "metadata": {
        "id": "UvaAzUx0hHnN"
      }
    },
    {
      "cell_type": "code",
      "source": [
        "model = Net().to('cuda')\n",
        "summary(model, (1,26,34))"
      ],
      "metadata": {
        "colab": {
          "base_uri": "https://localhost:8080/"
        },
        "id": "dXbTmbcIbvNV",
        "outputId": "283d23c9-0506-450f-84b1-0f925c47b5cc"
      },
      "execution_count": null,
      "outputs": [
        {
          "output_type": "stream",
          "name": "stdout",
          "text": [
            "----------------------------------------------------------------\n",
            "        Layer (type)               Output Shape         Param #\n",
            "================================================================\n",
            "            Conv2d-1           [-1, 32, 26, 34]             320\n",
            "            Conv2d-2           [-1, 64, 13, 17]          18,496\n",
            "            Conv2d-3            [-1, 128, 6, 8]          73,856\n",
            "            Linear-4                  [-1, 512]         786,944\n",
            "            Linear-5                    [-1, 1]             513\n",
            "================================================================\n",
            "Total params: 880,129\n",
            "Trainable params: 880,129\n",
            "Non-trainable params: 0\n",
            "----------------------------------------------------------------\n",
            "Input size (MB): 0.00\n",
            "Forward/backward pass size (MB): 0.37\n",
            "Params size (MB): 3.36\n",
            "Estimated Total Size (MB): 3.74\n",
            "----------------------------------------------------------------\n"
          ]
        }
      ]
    },
    {
      "cell_type": "code",
      "source": [
        ""
      ],
      "metadata": {
        "id": "TILFuG_VhG2N"
      },
      "execution_count": null,
      "outputs": []
    },
    {
      "cell_type": "code",
      "source": [
        ""
      ],
      "metadata": {
        "id": "utAJjOz7c5kr"
      },
      "execution_count": null,
      "outputs": []
    }
  ]
}