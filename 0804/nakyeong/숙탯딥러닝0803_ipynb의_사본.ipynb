{
  "nbformat": 4,
  "nbformat_minor": 0,
  "metadata": {
    "colab": {
      "name": "숙탯딥러닝0803.ipynb의 사본",
      "provenance": [],
      "collapsed_sections": []
    },
    "kernelspec": {
      "name": "python3",
      "display_name": "Python 3"
    },
    "language_info": {
      "name": "python"
    },
    "accelerator": "GPU",
    "gpuClass": "standard"
  },
  "cells": [
    {
      "cell_type": "code",
      "source": [
        "import os\n",
        "import cv2"
      ],
      "metadata": {
        "id": "9joVFyA6sBNO"
      },
      "execution_count": 1,
      "outputs": []
    },
    {
      "cell_type": "code",
      "source": [
        "import os\n",
        "from PIL import Image\n",
        "import numpy as np\n",
        "from IPython.display import Image\n",
        "import torch\n",
        "import PIL"
      ],
      "metadata": {
        "id": "2LlERWIWEbyY"
      },
      "execution_count": 2,
      "outputs": []
    },
    {
      "cell_type": "code",
      "execution_count": 21,
      "metadata": {
        "id": "7VJFTQuNFkCa"
      },
      "outputs": [],
      "source": [
        "dir_path=\"/content/drive/MyDrive/2기 딥러닝 프로젝트/train\"\n",
        "labels = ['Closed', 'Open']\n",
        "x_data = []\n",
        "y_data = []\n",
        "for label in labels:\n",
        "   path = os.path.join(dir_path, label)\n",
        "   class_num = labels.index(label)\n",
        "   import torchvision.transforms as transforms\n",
        "   tf = transforms.ToTensor()\n",
        "   for img in os.listdir(path): # closed 폴더 안에 _1.jpg, open 폴더 안에 1.jpg \n",
        "       paths = os.path.join(path, img)\n",
        "       img =  PIL.Image.open(paths)\n",
        "       re_img = img.resize((64,64))\n",
        "       re_img = tf(re_img)\n",
        "       re_img = re_img.tolist()\n",
        "       if len(re_img) == 3:\n",
        "         x_data.append(re_img)\n",
        "         y_data.append(class_num)\n",
        "\n",
        "x_data = torch.tensor(x_data)\n",
        "y_data = torch.tensor(y_data)"
      ]
    },
    {
      "cell_type": "markdown",
      "source": [
        "자꾸 이런 expected sequence of length 3 at dim 1 (got 4) 오류가 나서\n",
        "\n",
        "if len(re_img) == 3: 코드를 추가해주었고 이걸 하고 나니까 원래는 x shape이 1451이었는데 1449로 줄어들었다 아마 2개의 x_data의 shape이 다른 사진들과 달랐던 것 같다"
      ],
      "metadata": {
        "id": "OVG7Gt0NrBVZ"
      }
    },
    {
      "cell_type": "code",
      "source": [
        "x_data.shape"
      ],
      "metadata": {
        "colab": {
          "base_uri": "https://localhost:8080/"
        },
        "id": "07RzMtRE8tvr",
        "outputId": "3496b711-11dc-485e-deb5-55af5695ee82"
      },
      "execution_count": 22,
      "outputs": [
        {
          "output_type": "execute_result",
          "data": {
            "text/plain": [
              "torch.Size([1449, 3, 64, 64])"
            ]
          },
          "metadata": {},
          "execution_count": 22
        }
      ]
    },
    {
      "cell_type": "code",
      "source": [
        "y_data.shape"
      ],
      "metadata": {
        "colab": {
          "base_uri": "https://localhost:8080/"
        },
        "id": "3oT-WZVn8v0m",
        "outputId": "dfb57498-9878-4cd5-d42e-caee364a4bee"
      },
      "execution_count": 23,
      "outputs": [
        {
          "output_type": "execute_result",
          "data": {
            "text/plain": [
              "torch.Size([1449])"
            ]
          },
          "metadata": {},
          "execution_count": 23
        }
      ]
    },
    {
      "cell_type": "code",
      "source": [
        "y_data = np.array(y_data)\n",
        "y_data = torch.tensor(y_data)\n",
        "y_data.shape"
      ],
      "metadata": {
        "colab": {
          "base_uri": "https://localhost:8080/"
        },
        "id": "0LF-_xWgIhnw",
        "outputId": "60abe874-a036-4172-e6db-4c2cd9ac9fea"
      },
      "execution_count": null,
      "outputs": [
        {
          "output_type": "execute_result",
          "data": {
            "text/plain": [
              "torch.Size([1451])"
            ]
          },
          "metadata": {},
          "execution_count": 14
        }
      ]
    },
    {
      "cell_type": "code",
      "source": [
        "from sklearn.model_selection import train_test_split\n",
        "x_train, x_test, y_train, y_test = train_test_split(x_data, y_data, test_size=0.2, random_state=42)"
      ],
      "metadata": {
        "id": "4UImVH3N85wY"
      },
      "execution_count": 24,
      "outputs": []
    },
    {
      "cell_type": "code",
      "source": [
        "x_train.shape"
      ],
      "metadata": {
        "colab": {
          "base_uri": "https://localhost:8080/"
        },
        "id": "LagbrK0JBcep",
        "outputId": "d8482cab-4321-45ca-d7ba-9543ff24bdb0"
      },
      "execution_count": null,
      "outputs": [
        {
          "output_type": "execute_result",
          "data": {
            "text/plain": [
              "torch.Size([1160, 3, 32, 32])"
            ]
          },
          "metadata": {},
          "execution_count": 16
        }
      ]
    },
    {
      "cell_type": "code",
      "source": [
        "y_train.shape"
      ],
      "metadata": {
        "colab": {
          "base_uri": "https://localhost:8080/"
        },
        "id": "Md2YgGRAgq1X",
        "outputId": "12b1857d-c16d-4178-f677-b8666ffc8f2d"
      },
      "execution_count": null,
      "outputs": [
        {
          "output_type": "execute_result",
          "data": {
            "text/plain": [
              "torch.Size([1160])"
            ]
          },
          "metadata": {},
          "execution_count": 17
        }
      ]
    },
    {
      "cell_type": "code",
      "source": [
        "X_train.type()"
      ],
      "metadata": {
        "colab": {
          "base_uri": "https://localhost:8080/",
          "height": 35
        },
        "id": "unKC-_qdhnil",
        "outputId": "3f54e60a-df7b-4c4c-c7a9-fe38dcd2db2c"
      },
      "execution_count": null,
      "outputs": [
        {
          "output_type": "execute_result",
          "data": {
            "text/plain": [
              "'torch.FloatTensor'"
            ],
            "application/vnd.google.colaboratory.intrinsic+json": {
              "type": "string"
            }
          },
          "metadata": {},
          "execution_count": 16
        }
      ]
    },
    {
      "cell_type": "markdown",
      "source": [
        "## **train**"
      ],
      "metadata": {
        "id": "yzpqlc4q0F6X"
      }
    },
    {
      "cell_type": "code",
      "source": [
        "import numpy as np\n",
        "import matplotlib.pyplot as plt\n",
        "import torch\n",
        "import torch.nn as nn\n",
        "from torchvision.transforms import transforms\n",
        "from torch.utils.data import DataLoader\n",
        "import torch.optim as optim"
      ],
      "metadata": {
        "id": "K-FZlyzeamkd"
      },
      "execution_count": 25,
      "outputs": []
    },
    {
      "cell_type": "code",
      "source": [
        "import torch.nn as nn\n",
        "import torch.nn.functional as F\n",
        "from torchsummary import summary\n",
        "\n",
        "class Net(nn.Module):\n",
        "    def __init__(self):\n",
        "        super(Net, self).__init__()\n",
        "\n",
        "        self.conv1 = nn.Conv2d(3, 16, kernel_size=3, stride=1, padding=1)\n",
        "        self.conv2 = nn.Conv2d(16, 32, kernel_size=3, stride=1, padding=1)\n",
        "        self.conv3 = nn.Conv2d(32, 64, kernel_size=3, stride=1, padding=1)\n",
        "        self.fc1 = nn.Linear(4096, 512) \n",
        "        self.fc2 = nn.Linear(512, 1)\n",
        "\n",
        "    def forward(self, x):\n",
        "        x = F.max_pool2d(F.relu(self.conv1(x)),2)\n",
        "        x = F.max_pool2d(F.relu(self.conv2(x)), 2)\n",
        "        x = F.max_pool2d(F.relu(self.conv3(x)), 2)\n",
        "        x = x.reshape(-1, 4096)\n",
        "        x = F.relu(self.fc1(x))\n",
        "        x = self.fc2(x)\n",
        "        return x"
      ],
      "metadata": {
        "id": "NgSaPWjrZ2pv"
      },
      "execution_count": 28,
      "outputs": []
    },
    {
      "cell_type": "code",
      "source": [
        "import torch.nn as nn\n",
        "import torch.nn.functional as F\n",
        "\n",
        "x = torch.ones([1,3,64,64])\n",
        "conv1 = nn.Conv2d(3, 16, kernel_size=3, stride=1, padding=1)\n",
        "output1 = conv1(x)\n",
        "print(output1.shape)\n",
        "x1 = F.max_pool2d(F.relu(output1),2)\n",
        "print(x1.shape)\n",
        "conv2 = nn.Conv2d(16, 32, kernel_size=3, stride=1, padding=1)\n",
        "output2 = conv2(x1)\n",
        "print(output2.shape)\n",
        "x2 = F.max_pool2d(F.relu(output2), 2)\n",
        "print(x2.shape)\n",
        "conv3 = nn.Conv2d(32, 64, kernel_size=3, stride=1, padding=1)\n",
        "output3 = conv3(x2)\n",
        "print(output3.shape)\n",
        "x3 = F.max_pool2d(F.relu(output3), 2)\n",
        "print(x3.shape)"
      ],
      "metadata": {
        "colab": {
          "base_uri": "https://localhost:8080/"
        },
        "id": "It9ZArZXQntW",
        "outputId": "641dd4f7-ad1c-48ff-d052-d204396476ed"
      },
      "execution_count": 27,
      "outputs": [
        {
          "output_type": "stream",
          "name": "stdout",
          "text": [
            "torch.Size([1, 16, 64, 64])\n",
            "torch.Size([1, 16, 32, 32])\n",
            "torch.Size([1, 32, 32, 32])\n",
            "torch.Size([1, 32, 16, 16])\n",
            "torch.Size([1, 64, 16, 16])\n",
            "torch.Size([1, 64, 8, 8])\n"
          ]
        }
      ]
    },
    {
      "cell_type": "code",
      "source": [
        "model = Net()\n",
        "x = torch.ones(1, 3,64,64)\n",
        "x = x.float()\n",
        "output = model(x)\n",
        "output.shape"
      ],
      "metadata": {
        "colab": {
          "base_uri": "https://localhost:8080/"
        },
        "id": "4sfrS83Hyiuh",
        "outputId": "0570e99e-2dd7-4431-b815-059142217680"
      },
      "execution_count": 30,
      "outputs": [
        {
          "output_type": "execute_result",
          "data": {
            "text/plain": [
              "torch.Size([1, 1])"
            ]
          },
          "metadata": {},
          "execution_count": 30
        }
      ]
    },
    {
      "cell_type": "code",
      "source": [
        "model = Net()\n",
        "model.to('cuda')\n",
        "criterion = nn.BCEWithLogitsLoss()\n",
        "optimizer = optim.Adam(model.parameters(), lr=0.0001)\n",
        "\n",
        "epochs = 50"
      ],
      "metadata": {
        "id": "fyL-8gqxZ4SX"
      },
      "execution_count": 31,
      "outputs": []
    },
    {
      "cell_type": "code",
      "source": [
        "def accuracy(y_pred, y_test):\n",
        "    y_pred_tag = torch.round(torch.sigmoid(y_pred))\n",
        "\n",
        "    correct_results_sum = (y_pred_tag == y_test).sum().float()\n",
        "    acc = correct_results_sum / y_test.shape[0]\n",
        "    acc = torch.round(acc * 100)\n",
        "\n",
        "    return acc"
      ],
      "metadata": {
        "id": "KYUTmbWtJLBc"
      },
      "execution_count": 32,
      "outputs": []
    },
    {
      "cell_type": "code",
      "source": [
        "for epoch in range(epochs):\n",
        "    running_loss = 0.0\n",
        "    running_acc = 0.0\n",
        "\n",
        "    model.train()\n",
        "\n",
        "    for i,data in enumerate(x_train, 0):\n",
        "        optimizer.zero_grad()\n",
        "\n",
        "        data = data.to('cuda')\n",
        "        labels = y_train.to('cuda')\n",
        "\n",
        "        k = torch.tensor(labels[i])\n",
        "        k = k.view(1,-1)\n",
        "        k = k.float()\n",
        "        k = k.to('cuda')\n",
        "        outputs = model(data)\n",
        "        #print(\"intpus_1 shape: \",input_1.shape)\n",
        "        #print(\"outputs shape: \",outputs.shape)\n",
        "        #print(\"labels shape\",labels.shape)\n",
        "         #labels = labels.view(len(labels),-1)\n",
        "        loss = criterion(outputs, k)\n",
        "        \n",
        "        loss.backward()\n",
        "        optimizer.step()\n",
        "\n",
        "        running_loss += loss.item()\n",
        "        running_acc += accuracy(outputs, k)\n",
        "\n",
        "        if i % 80 == 79:\n",
        "            print('epoch: [%d/%d] train_loss: %.5f train_acc: %.5f' % (\n",
        "                epoch + 1, epochs, running_loss / 80, running_acc / 80))\n",
        "            running_loss = 0.0\n",
        "\n",
        "print(\"learning finish\")"
      ],
      "metadata": {
        "colab": {
          "base_uri": "https://localhost:8080/"
        },
        "id": "-o8FzWGBnley",
        "outputId": "d11f2bfa-a130-4427-f408-30638082af4b"
      },
      "execution_count": 33,
      "outputs": [
        {
          "output_type": "stream",
          "name": "stderr",
          "text": [
            "/usr/local/lib/python3.7/dist-packages/ipykernel_launcher.py:13: UserWarning: To copy construct from a tensor, it is recommended to use sourceTensor.clone().detach() or sourceTensor.clone().detach().requires_grad_(True), rather than torch.tensor(sourceTensor).\n",
            "  del sys.path[0]\n"
          ]
        },
        {
          "output_type": "stream",
          "name": "stdout",
          "text": [
            "epoch: [1/50] train_loss: 0.69848 train_acc: 53.75000\n",
            "epoch: [1/50] train_loss: 0.69782 train_acc: 97.50000\n",
            "epoch: [1/50] train_loss: 0.69046 train_acc: 153.75000\n",
            "epoch: [1/50] train_loss: 0.67606 train_acc: 206.25000\n",
            "epoch: [1/50] train_loss: 0.67517 train_acc: 272.50000\n",
            "epoch: [1/50] train_loss: 0.56099 train_acc: 350.00000\n",
            "epoch: [1/50] train_loss: 0.45902 train_acc: 430.00000\n",
            "epoch: [1/50] train_loss: 0.36882 train_acc: 513.75000\n",
            "epoch: [1/50] train_loss: 0.31089 train_acc: 603.75000\n",
            "epoch: [1/50] train_loss: 0.20336 train_acc: 696.25000\n",
            "epoch: [1/50] train_loss: 0.14533 train_acc: 792.50000\n",
            "epoch: [1/50] train_loss: 0.14224 train_acc: 887.50000\n",
            "epoch: [1/50] train_loss: 0.21184 train_acc: 981.25000\n",
            "epoch: [1/50] train_loss: 0.18157 train_acc: 1072.50000\n",
            "epoch: [2/50] train_loss: 0.20138 train_acc: 91.25000\n",
            "epoch: [2/50] train_loss: 0.32283 train_acc: 177.50000\n",
            "epoch: [2/50] train_loss: 0.15229 train_acc: 273.75000\n",
            "epoch: [2/50] train_loss: 0.17959 train_acc: 367.50000\n",
            "epoch: [2/50] train_loss: 0.12569 train_acc: 463.75000\n",
            "epoch: [2/50] train_loss: 0.19046 train_acc: 556.25000\n",
            "epoch: [2/50] train_loss: 0.15383 train_acc: 650.00000\n",
            "epoch: [2/50] train_loss: 0.16724 train_acc: 745.00000\n",
            "epoch: [2/50] train_loss: 0.14448 train_acc: 841.25000\n",
            "epoch: [2/50] train_loss: 0.09695 train_acc: 936.25000\n",
            "epoch: [2/50] train_loss: 0.06871 train_acc: 1035.00000\n",
            "epoch: [2/50] train_loss: 0.05036 train_acc: 1133.75000\n",
            "epoch: [2/50] train_loss: 0.13477 train_acc: 1231.25000\n",
            "epoch: [2/50] train_loss: 0.09129 train_acc: 1326.25000\n",
            "epoch: [3/50] train_loss: 0.16604 train_acc: 93.75000\n",
            "epoch: [3/50] train_loss: 0.23958 train_acc: 183.75000\n",
            "epoch: [3/50] train_loss: 0.10887 train_acc: 278.75000\n",
            "epoch: [3/50] train_loss: 0.16062 train_acc: 372.50000\n",
            "epoch: [3/50] train_loss: 0.08114 train_acc: 471.25000\n",
            "epoch: [3/50] train_loss: 0.15322 train_acc: 566.25000\n",
            "epoch: [3/50] train_loss: 0.10284 train_acc: 662.50000\n",
            "epoch: [3/50] train_loss: 0.12884 train_acc: 758.75000\n",
            "epoch: [3/50] train_loss: 0.11789 train_acc: 855.00000\n",
            "epoch: [3/50] train_loss: 0.09038 train_acc: 950.00000\n",
            "epoch: [3/50] train_loss: 0.06360 train_acc: 1048.75000\n",
            "epoch: [3/50] train_loss: 0.03475 train_acc: 1147.50000\n",
            "epoch: [3/50] train_loss: 0.11119 train_acc: 1246.25000\n",
            "epoch: [3/50] train_loss: 0.05504 train_acc: 1345.00000\n",
            "epoch: [4/50] train_loss: 0.16024 train_acc: 95.00000\n",
            "epoch: [4/50] train_loss: 0.19780 train_acc: 188.75000\n",
            "epoch: [4/50] train_loss: 0.09083 train_acc: 287.50000\n",
            "epoch: [4/50] train_loss: 0.15095 train_acc: 380.00000\n",
            "epoch: [4/50] train_loss: 0.06761 train_acc: 478.75000\n",
            "epoch: [4/50] train_loss: 0.15197 train_acc: 573.75000\n",
            "epoch: [4/50] train_loss: 0.08156 train_acc: 672.50000\n",
            "epoch: [4/50] train_loss: 0.10948 train_acc: 768.75000\n",
            "epoch: [4/50] train_loss: 0.10025 train_acc: 865.00000\n",
            "epoch: [4/50] train_loss: 0.08034 train_acc: 961.25000\n",
            "epoch: [4/50] train_loss: 0.06138 train_acc: 1060.00000\n",
            "epoch: [4/50] train_loss: 0.02645 train_acc: 1160.00000\n",
            "epoch: [4/50] train_loss: 0.10669 train_acc: 1258.75000\n",
            "epoch: [4/50] train_loss: 0.04009 train_acc: 1357.50000\n",
            "epoch: [5/50] train_loss: 0.16053 train_acc: 93.75000\n",
            "epoch: [5/50] train_loss: 0.17322 train_acc: 187.50000\n",
            "epoch: [5/50] train_loss: 0.07723 train_acc: 286.25000\n",
            "epoch: [5/50] train_loss: 0.13971 train_acc: 380.00000\n",
            "epoch: [5/50] train_loss: 0.05877 train_acc: 478.75000\n",
            "epoch: [5/50] train_loss: 0.14794 train_acc: 573.75000\n",
            "epoch: [5/50] train_loss: 0.06691 train_acc: 672.50000\n",
            "epoch: [5/50] train_loss: 0.09354 train_acc: 768.75000\n",
            "epoch: [5/50] train_loss: 0.08431 train_acc: 866.25000\n",
            "epoch: [5/50] train_loss: 0.06632 train_acc: 962.50000\n",
            "epoch: [5/50] train_loss: 0.06276 train_acc: 1061.25000\n",
            "epoch: [5/50] train_loss: 0.02323 train_acc: 1160.00000\n",
            "epoch: [5/50] train_loss: 0.10296 train_acc: 1258.75000\n",
            "epoch: [5/50] train_loss: 0.03307 train_acc: 1358.75000\n",
            "epoch: [6/50] train_loss: 0.15231 train_acc: 93.75000\n",
            "epoch: [6/50] train_loss: 0.14919 train_acc: 187.50000\n",
            "epoch: [6/50] train_loss: 0.06864 train_acc: 286.25000\n",
            "epoch: [6/50] train_loss: 0.12357 train_acc: 381.25000\n",
            "epoch: [6/50] train_loss: 0.05342 train_acc: 480.00000\n",
            "epoch: [6/50] train_loss: 0.12619 train_acc: 575.00000\n",
            "epoch: [6/50] train_loss: 0.05571 train_acc: 673.75000\n",
            "epoch: [6/50] train_loss: 0.07367 train_acc: 770.00000\n",
            "epoch: [6/50] train_loss: 0.07554 train_acc: 867.50000\n",
            "epoch: [6/50] train_loss: 0.05385 train_acc: 963.75000\n",
            "epoch: [6/50] train_loss: 0.05517 train_acc: 1062.50000\n",
            "epoch: [6/50] train_loss: 0.02155 train_acc: 1161.25000\n",
            "epoch: [6/50] train_loss: 0.09636 train_acc: 1260.00000\n",
            "epoch: [6/50] train_loss: 0.02614 train_acc: 1360.00000\n",
            "epoch: [7/50] train_loss: 0.14974 train_acc: 95.00000\n",
            "epoch: [7/50] train_loss: 0.13483 train_acc: 190.00000\n",
            "epoch: [7/50] train_loss: 0.06210 train_acc: 288.75000\n",
            "epoch: [7/50] train_loss: 0.10932 train_acc: 383.75000\n",
            "epoch: [7/50] train_loss: 0.04243 train_acc: 482.50000\n",
            "epoch: [7/50] train_loss: 0.10695 train_acc: 577.50000\n",
            "epoch: [7/50] train_loss: 0.04704 train_acc: 676.25000\n",
            "epoch: [7/50] train_loss: 0.05873 train_acc: 773.75000\n",
            "epoch: [7/50] train_loss: 0.06530 train_acc: 871.25000\n",
            "epoch: [7/50] train_loss: 0.04004 train_acc: 970.00000\n",
            "epoch: [7/50] train_loss: 0.04735 train_acc: 1068.75000\n",
            "epoch: [7/50] train_loss: 0.02041 train_acc: 1167.50000\n",
            "epoch: [7/50] train_loss: 0.08962 train_acc: 1266.25000\n",
            "epoch: [7/50] train_loss: 0.02076 train_acc: 1366.25000\n",
            "epoch: [8/50] train_loss: 0.14362 train_acc: 95.00000\n",
            "epoch: [8/50] train_loss: 0.11500 train_acc: 190.00000\n",
            "epoch: [8/50] train_loss: 0.05206 train_acc: 288.75000\n",
            "epoch: [8/50] train_loss: 0.08912 train_acc: 386.25000\n",
            "epoch: [8/50] train_loss: 0.03525 train_acc: 485.00000\n",
            "epoch: [8/50] train_loss: 0.08236 train_acc: 581.25000\n",
            "epoch: [8/50] train_loss: 0.03699 train_acc: 680.00000\n",
            "epoch: [8/50] train_loss: 0.04167 train_acc: 778.75000\n",
            "epoch: [8/50] train_loss: 0.05502 train_acc: 876.25000\n",
            "epoch: [8/50] train_loss: 0.02734 train_acc: 976.25000\n",
            "epoch: [8/50] train_loss: 0.03532 train_acc: 1075.00000\n",
            "epoch: [8/50] train_loss: 0.01803 train_acc: 1175.00000\n",
            "epoch: [8/50] train_loss: 0.08692 train_acc: 1273.75000\n",
            "epoch: [8/50] train_loss: 0.01690 train_acc: 1373.75000\n",
            "epoch: [9/50] train_loss: 0.13502 train_acc: 95.00000\n",
            "epoch: [9/50] train_loss: 0.10241 train_acc: 190.00000\n",
            "epoch: [9/50] train_loss: 0.04615 train_acc: 288.75000\n",
            "epoch: [9/50] train_loss: 0.07327 train_acc: 387.50000\n",
            "epoch: [9/50] train_loss: 0.02851 train_acc: 486.25000\n",
            "epoch: [9/50] train_loss: 0.06533 train_acc: 583.75000\n",
            "epoch: [9/50] train_loss: 0.02871 train_acc: 683.75000\n",
            "epoch: [9/50] train_loss: 0.02701 train_acc: 783.75000\n",
            "epoch: [9/50] train_loss: 0.04716 train_acc: 882.50000\n",
            "epoch: [9/50] train_loss: 0.02053 train_acc: 982.50000\n",
            "epoch: [9/50] train_loss: 0.02264 train_acc: 1081.25000\n",
            "epoch: [9/50] train_loss: 0.02646 train_acc: 1180.00000\n",
            "epoch: [9/50] train_loss: 0.08293 train_acc: 1278.75000\n",
            "epoch: [9/50] train_loss: 0.01349 train_acc: 1378.75000\n",
            "epoch: [10/50] train_loss: 0.11234 train_acc: 95.00000\n",
            "epoch: [10/50] train_loss: 0.08839 train_acc: 190.00000\n",
            "epoch: [10/50] train_loss: 0.04196 train_acc: 288.75000\n",
            "epoch: [10/50] train_loss: 0.05705 train_acc: 387.50000\n",
            "epoch: [10/50] train_loss: 0.02438 train_acc: 486.25000\n",
            "epoch: [10/50] train_loss: 0.05949 train_acc: 585.00000\n",
            "epoch: [10/50] train_loss: 0.02077 train_acc: 685.00000\n",
            "epoch: [10/50] train_loss: 0.01885 train_acc: 785.00000\n",
            "epoch: [10/50] train_loss: 0.04130 train_acc: 882.50000\n",
            "epoch: [10/50] train_loss: 0.01335 train_acc: 982.50000\n",
            "epoch: [10/50] train_loss: 0.01430 train_acc: 1082.50000\n",
            "epoch: [10/50] train_loss: 0.04339 train_acc: 1180.00000\n",
            "epoch: [10/50] train_loss: 0.07287 train_acc: 1278.75000\n",
            "epoch: [10/50] train_loss: 0.01125 train_acc: 1378.75000\n",
            "epoch: [11/50] train_loss: 0.07947 train_acc: 97.50000\n",
            "epoch: [11/50] train_loss: 0.08582 train_acc: 192.50000\n",
            "epoch: [11/50] train_loss: 0.03652 train_acc: 291.25000\n",
            "epoch: [11/50] train_loss: 0.04227 train_acc: 390.00000\n",
            "epoch: [11/50] train_loss: 0.02161 train_acc: 488.75000\n",
            "epoch: [11/50] train_loss: 0.06183 train_acc: 587.50000\n",
            "epoch: [11/50] train_loss: 0.01571 train_acc: 687.50000\n",
            "epoch: [11/50] train_loss: 0.01443 train_acc: 787.50000\n",
            "epoch: [11/50] train_loss: 0.03440 train_acc: 886.25000\n",
            "epoch: [11/50] train_loss: 0.00949 train_acc: 986.25000\n",
            "epoch: [11/50] train_loss: 0.01281 train_acc: 1086.25000\n",
            "epoch: [11/50] train_loss: 0.01468 train_acc: 1186.25000\n",
            "epoch: [11/50] train_loss: 0.03929 train_acc: 1285.00000\n",
            "epoch: [11/50] train_loss: 0.00819 train_acc: 1385.00000\n",
            "epoch: [12/50] train_loss: 0.07336 train_acc: 97.50000\n",
            "epoch: [12/50] train_loss: 0.10814 train_acc: 192.50000\n",
            "epoch: [12/50] train_loss: 0.03622 train_acc: 291.25000\n",
            "epoch: [12/50] train_loss: 0.04175 train_acc: 390.00000\n",
            "epoch: [12/50] train_loss: 0.01877 train_acc: 488.75000\n",
            "epoch: [12/50] train_loss: 0.05775 train_acc: 586.25000\n",
            "epoch: [12/50] train_loss: 0.01344 train_acc: 686.25000\n",
            "epoch: [12/50] train_loss: 0.01149 train_acc: 786.25000\n",
            "epoch: [12/50] train_loss: 0.03153 train_acc: 885.00000\n",
            "epoch: [12/50] train_loss: 0.00831 train_acc: 985.00000\n",
            "epoch: [12/50] train_loss: 0.00917 train_acc: 1085.00000\n",
            "epoch: [12/50] train_loss: 0.00315 train_acc: 1185.00000\n",
            "epoch: [12/50] train_loss: 0.02065 train_acc: 1283.75000\n",
            "epoch: [12/50] train_loss: 0.00572 train_acc: 1383.75000\n",
            "epoch: [13/50] train_loss: 0.05922 train_acc: 98.75000\n",
            "epoch: [13/50] train_loss: 0.10535 train_acc: 193.75000\n",
            "epoch: [13/50] train_loss: 0.02179 train_acc: 293.75000\n",
            "epoch: [13/50] train_loss: 0.03734 train_acc: 392.50000\n",
            "epoch: [13/50] train_loss: 0.01643 train_acc: 491.25000\n",
            "epoch: [13/50] train_loss: 0.06624 train_acc: 588.75000\n",
            "epoch: [13/50] train_loss: 0.01174 train_acc: 688.75000\n",
            "epoch: [13/50] train_loss: 0.00752 train_acc: 788.75000\n",
            "epoch: [13/50] train_loss: 0.03176 train_acc: 887.50000\n",
            "epoch: [13/50] train_loss: 0.01064 train_acc: 987.50000\n",
            "epoch: [13/50] train_loss: 0.00960 train_acc: 1087.50000\n",
            "epoch: [13/50] train_loss: 0.00169 train_acc: 1187.50000\n",
            "epoch: [13/50] train_loss: 0.01448 train_acc: 1286.25000\n",
            "epoch: [13/50] train_loss: 0.00548 train_acc: 1386.25000\n",
            "epoch: [14/50] train_loss: 0.03940 train_acc: 98.75000\n",
            "epoch: [14/50] train_loss: 0.03048 train_acc: 197.50000\n",
            "epoch: [14/50] train_loss: 0.02590 train_acc: 296.25000\n",
            "epoch: [14/50] train_loss: 0.03509 train_acc: 393.75000\n",
            "epoch: [14/50] train_loss: 0.01453 train_acc: 492.50000\n",
            "epoch: [14/50] train_loss: 0.05351 train_acc: 591.25000\n",
            "epoch: [14/50] train_loss: 0.00730 train_acc: 691.25000\n",
            "epoch: [14/50] train_loss: 0.00813 train_acc: 791.25000\n",
            "epoch: [14/50] train_loss: 0.03201 train_acc: 890.00000\n",
            "epoch: [14/50] train_loss: 0.00649 train_acc: 990.00000\n",
            "epoch: [14/50] train_loss: 0.00532 train_acc: 1090.00000\n",
            "epoch: [14/50] train_loss: 0.00953 train_acc: 1190.00000\n",
            "epoch: [14/50] train_loss: 0.08023 train_acc: 1287.50000\n",
            "epoch: [14/50] train_loss: 0.00905 train_acc: 1387.50000\n",
            "epoch: [15/50] train_loss: 0.07178 train_acc: 98.75000\n",
            "epoch: [15/50] train_loss: 0.01977 train_acc: 197.50000\n",
            "epoch: [15/50] train_loss: 0.01710 train_acc: 297.50000\n",
            "epoch: [15/50] train_loss: 0.04166 train_acc: 396.25000\n",
            "epoch: [15/50] train_loss: 0.00739 train_acc: 496.25000\n",
            "epoch: [15/50] train_loss: 0.04488 train_acc: 595.00000\n",
            "epoch: [15/50] train_loss: 0.01052 train_acc: 695.00000\n",
            "epoch: [15/50] train_loss: 0.00649 train_acc: 795.00000\n",
            "epoch: [15/50] train_loss: 0.01573 train_acc: 895.00000\n",
            "epoch: [15/50] train_loss: 0.00533 train_acc: 995.00000\n",
            "epoch: [15/50] train_loss: 0.00419 train_acc: 1095.00000\n",
            "epoch: [15/50] train_loss: 0.00813 train_acc: 1195.00000\n",
            "epoch: [15/50] train_loss: 0.01687 train_acc: 1295.00000\n",
            "epoch: [15/50] train_loss: 0.00559 train_acc: 1395.00000\n",
            "epoch: [16/50] train_loss: 0.04548 train_acc: 98.75000\n",
            "epoch: [16/50] train_loss: 0.02425 train_acc: 197.50000\n",
            "epoch: [16/50] train_loss: 0.01243 train_acc: 297.50000\n",
            "epoch: [16/50] train_loss: 0.04018 train_acc: 396.25000\n",
            "epoch: [16/50] train_loss: 0.00855 train_acc: 496.25000\n",
            "epoch: [16/50] train_loss: 0.03776 train_acc: 595.00000\n",
            "epoch: [16/50] train_loss: 0.02099 train_acc: 695.00000\n",
            "epoch: [16/50] train_loss: 0.02564 train_acc: 793.75000\n",
            "epoch: [16/50] train_loss: 0.01512 train_acc: 893.75000\n",
            "epoch: [16/50] train_loss: 0.00659 train_acc: 993.75000\n",
            "epoch: [16/50] train_loss: 0.00196 train_acc: 1093.75000\n",
            "epoch: [16/50] train_loss: 0.00484 train_acc: 1193.75000\n",
            "epoch: [16/50] train_loss: 0.00847 train_acc: 1293.75000\n",
            "epoch: [16/50] train_loss: 0.00407 train_acc: 1393.75000\n",
            "epoch: [17/50] train_loss: 0.04052 train_acc: 98.75000\n",
            "epoch: [17/50] train_loss: 0.02223 train_acc: 197.50000\n",
            "epoch: [17/50] train_loss: 0.00792 train_acc: 297.50000\n",
            "epoch: [17/50] train_loss: 0.01701 train_acc: 396.25000\n",
            "epoch: [17/50] train_loss: 0.00318 train_acc: 496.25000\n",
            "epoch: [17/50] train_loss: 0.02257 train_acc: 595.00000\n",
            "epoch: [17/50] train_loss: 0.01409 train_acc: 695.00000\n",
            "epoch: [17/50] train_loss: 0.01884 train_acc: 793.75000\n",
            "epoch: [17/50] train_loss: 0.03539 train_acc: 891.25000\n",
            "epoch: [17/50] train_loss: 0.00626 train_acc: 991.25000\n",
            "epoch: [17/50] train_loss: 0.00167 train_acc: 1091.25000\n",
            "epoch: [17/50] train_loss: 0.00406 train_acc: 1191.25000\n",
            "epoch: [17/50] train_loss: 0.03590 train_acc: 1288.75000\n",
            "epoch: [17/50] train_loss: 0.01265 train_acc: 1387.50000\n",
            "epoch: [18/50] train_loss: 0.03004 train_acc: 98.75000\n",
            "epoch: [18/50] train_loss: 0.02357 train_acc: 198.75000\n",
            "epoch: [18/50] train_loss: 0.00852 train_acc: 298.75000\n",
            "epoch: [18/50] train_loss: 0.01097 train_acc: 398.75000\n",
            "epoch: [18/50] train_loss: 0.00556 train_acc: 498.75000\n",
            "epoch: [18/50] train_loss: 0.03801 train_acc: 597.50000\n",
            "epoch: [18/50] train_loss: 0.00895 train_acc: 697.50000\n",
            "epoch: [18/50] train_loss: 0.00217 train_acc: 797.50000\n",
            "epoch: [18/50] train_loss: 0.01168 train_acc: 897.50000\n",
            "epoch: [18/50] train_loss: 0.00422 train_acc: 997.50000\n",
            "epoch: [18/50] train_loss: 0.00171 train_acc: 1097.50000\n",
            "epoch: [18/50] train_loss: 0.00977 train_acc: 1196.25000\n",
            "epoch: [18/50] train_loss: 0.01726 train_acc: 1296.25000\n",
            "epoch: [18/50] train_loss: 0.00869 train_acc: 1396.25000\n",
            "epoch: [19/50] train_loss: 0.07507 train_acc: 98.75000\n",
            "epoch: [19/50] train_loss: 0.02495 train_acc: 197.50000\n",
            "epoch: [19/50] train_loss: 0.01040 train_acc: 297.50000\n",
            "epoch: [19/50] train_loss: 0.02112 train_acc: 396.25000\n",
            "epoch: [19/50] train_loss: 0.00342 train_acc: 496.25000\n",
            "epoch: [19/50] train_loss: 0.04382 train_acc: 595.00000\n",
            "epoch: [19/50] train_loss: 0.00842 train_acc: 695.00000\n",
            "epoch: [19/50] train_loss: 0.00236 train_acc: 795.00000\n",
            "epoch: [19/50] train_loss: 0.00507 train_acc: 895.00000\n",
            "epoch: [19/50] train_loss: 0.00244 train_acc: 995.00000\n",
            "epoch: [19/50] train_loss: 0.00097 train_acc: 1095.00000\n",
            "epoch: [19/50] train_loss: 0.00207 train_acc: 1195.00000\n",
            "epoch: [19/50] train_loss: 0.00664 train_acc: 1295.00000\n",
            "epoch: [19/50] train_loss: 0.00172 train_acc: 1395.00000\n",
            "epoch: [20/50] train_loss: 0.00398 train_acc: 100.00000\n",
            "epoch: [20/50] train_loss: 0.01720 train_acc: 198.75000\n",
            "epoch: [20/50] train_loss: 0.00394 train_acc: 298.75000\n",
            "epoch: [20/50] train_loss: 0.00838 train_acc: 398.75000\n",
            "epoch: [20/50] train_loss: 0.00513 train_acc: 498.75000\n",
            "epoch: [20/50] train_loss: 0.01110 train_acc: 598.75000\n",
            "epoch: [20/50] train_loss: 0.01285 train_acc: 698.75000\n",
            "epoch: [20/50] train_loss: 0.00206 train_acc: 798.75000\n",
            "epoch: [20/50] train_loss: 0.00755 train_acc: 898.75000\n",
            "epoch: [20/50] train_loss: 0.00783 train_acc: 998.75000\n",
            "epoch: [20/50] train_loss: 0.00427 train_acc: 1098.75000\n",
            "epoch: [20/50] train_loss: 0.00013 train_acc: 1198.75000\n",
            "epoch: [20/50] train_loss: 0.00116 train_acc: 1298.75000\n",
            "epoch: [20/50] train_loss: 0.00075 train_acc: 1398.75000\n",
            "epoch: [21/50] train_loss: 0.02242 train_acc: 98.75000\n",
            "epoch: [21/50] train_loss: 0.10153 train_acc: 195.00000\n",
            "epoch: [21/50] train_loss: 0.01245 train_acc: 295.00000\n",
            "epoch: [21/50] train_loss: 0.01145 train_acc: 395.00000\n",
            "epoch: [21/50] train_loss: 0.00535 train_acc: 495.00000\n",
            "epoch: [21/50] train_loss: 0.01866 train_acc: 593.75000\n",
            "epoch: [21/50] train_loss: 0.00150 train_acc: 693.75000\n",
            "epoch: [21/50] train_loss: 0.00145 train_acc: 793.75000\n",
            "epoch: [21/50] train_loss: 0.00314 train_acc: 893.75000\n",
            "epoch: [21/50] train_loss: 0.00135 train_acc: 993.75000\n",
            "epoch: [21/50] train_loss: 0.00032 train_acc: 1093.75000\n",
            "epoch: [21/50] train_loss: 0.00356 train_acc: 1193.75000\n",
            "epoch: [21/50] train_loss: 0.00779 train_acc: 1293.75000\n",
            "epoch: [21/50] train_loss: 0.00140 train_acc: 1393.75000\n",
            "epoch: [22/50] train_loss: 0.09444 train_acc: 98.75000\n",
            "epoch: [22/50] train_loss: 0.03432 train_acc: 196.25000\n",
            "epoch: [22/50] train_loss: 0.00476 train_acc: 296.25000\n",
            "epoch: [22/50] train_loss: 0.01632 train_acc: 396.25000\n",
            "epoch: [22/50] train_loss: 0.00518 train_acc: 496.25000\n",
            "epoch: [22/50] train_loss: 0.01531 train_acc: 595.00000\n",
            "epoch: [22/50] train_loss: 0.02587 train_acc: 693.75000\n",
            "epoch: [22/50] train_loss: 0.00122 train_acc: 793.75000\n",
            "epoch: [22/50] train_loss: 0.00935 train_acc: 893.75000\n",
            "epoch: [22/50] train_loss: 0.00324 train_acc: 993.75000\n",
            "epoch: [22/50] train_loss: 0.00052 train_acc: 1093.75000\n",
            "epoch: [22/50] train_loss: 0.00126 train_acc: 1193.75000\n",
            "epoch: [22/50] train_loss: 0.00062 train_acc: 1293.75000\n",
            "epoch: [22/50] train_loss: 0.00061 train_acc: 1393.75000\n",
            "epoch: [23/50] train_loss: 0.01855 train_acc: 100.00000\n",
            "epoch: [23/50] train_loss: 0.00937 train_acc: 200.00000\n",
            "epoch: [23/50] train_loss: 0.00588 train_acc: 300.00000\n",
            "epoch: [23/50] train_loss: 0.01201 train_acc: 398.75000\n",
            "epoch: [23/50] train_loss: 0.00104 train_acc: 498.75000\n",
            "epoch: [23/50] train_loss: 0.00302 train_acc: 598.75000\n",
            "epoch: [23/50] train_loss: 0.00179 train_acc: 698.75000\n",
            "epoch: [23/50] train_loss: 0.00192 train_acc: 798.75000\n",
            "epoch: [23/50] train_loss: 0.00330 train_acc: 898.75000\n",
            "epoch: [23/50] train_loss: 0.00043 train_acc: 998.75000\n",
            "epoch: [23/50] train_loss: 0.00022 train_acc: 1098.75000\n",
            "epoch: [23/50] train_loss: 0.00092 train_acc: 1198.75000\n",
            "epoch: [23/50] train_loss: 0.00151 train_acc: 1298.75000\n",
            "epoch: [23/50] train_loss: 0.00057 train_acc: 1398.75000\n",
            "epoch: [24/50] train_loss: 0.00304 train_acc: 100.00000\n",
            "epoch: [24/50] train_loss: 0.00741 train_acc: 200.00000\n",
            "epoch: [24/50] train_loss: 0.00081 train_acc: 300.00000\n",
            "epoch: [24/50] train_loss: 0.00482 train_acc: 400.00000\n",
            "epoch: [24/50] train_loss: 0.00190 train_acc: 500.00000\n",
            "epoch: [24/50] train_loss: 0.00181 train_acc: 600.00000\n",
            "epoch: [24/50] train_loss: 0.00289 train_acc: 700.00000\n",
            "epoch: [24/50] train_loss: 0.00276 train_acc: 800.00000\n",
            "epoch: [24/50] train_loss: 0.00485 train_acc: 900.00000\n",
            "epoch: [24/50] train_loss: 0.00134 train_acc: 1000.00000\n",
            "epoch: [24/50] train_loss: 0.00039 train_acc: 1100.00000\n",
            "epoch: [24/50] train_loss: 0.00287 train_acc: 1200.00000\n",
            "epoch: [24/50] train_loss: 0.08614 train_acc: 1298.75000\n",
            "epoch: [24/50] train_loss: 0.00196 train_acc: 1398.75000\n",
            "epoch: [25/50] train_loss: 0.03712 train_acc: 98.75000\n",
            "epoch: [25/50] train_loss: 0.01344 train_acc: 198.75000\n",
            "epoch: [25/50] train_loss: 0.04249 train_acc: 297.50000\n",
            "epoch: [25/50] train_loss: 0.04463 train_acc: 396.25000\n",
            "epoch: [25/50] train_loss: 0.01153 train_acc: 495.00000\n",
            "epoch: [25/50] train_loss: 0.02679 train_acc: 593.75000\n",
            "epoch: [25/50] train_loss: 0.00270 train_acc: 693.75000\n",
            "epoch: [25/50] train_loss: 0.00188 train_acc: 793.75000\n",
            "epoch: [25/50] train_loss: 0.00396 train_acc: 893.75000\n",
            "epoch: [25/50] train_loss: 0.00632 train_acc: 993.75000\n",
            "epoch: [25/50] train_loss: 0.00124 train_acc: 1093.75000\n",
            "epoch: [25/50] train_loss: 0.00027 train_acc: 1193.75000\n",
            "epoch: [25/50] train_loss: 0.00100 train_acc: 1293.75000\n",
            "epoch: [25/50] train_loss: 0.00042 train_acc: 1393.75000\n",
            "epoch: [26/50] train_loss: 0.00421 train_acc: 100.00000\n",
            "epoch: [26/50] train_loss: 0.00388 train_acc: 200.00000\n",
            "epoch: [26/50] train_loss: 0.00056 train_acc: 300.00000\n",
            "epoch: [26/50] train_loss: 0.00726 train_acc: 400.00000\n",
            "epoch: [26/50] train_loss: 0.00305 train_acc: 500.00000\n",
            "epoch: [26/50] train_loss: 0.00008 train_acc: 600.00000\n",
            "epoch: [26/50] train_loss: 0.00178 train_acc: 700.00000\n",
            "epoch: [26/50] train_loss: 0.00029 train_acc: 800.00000\n",
            "epoch: [26/50] train_loss: 0.00153 train_acc: 900.00000\n",
            "epoch: [26/50] train_loss: 0.00041 train_acc: 1000.00000\n",
            "epoch: [26/50] train_loss: 0.00009 train_acc: 1100.00000\n",
            "epoch: [26/50] train_loss: 0.00009 train_acc: 1200.00000\n",
            "epoch: [26/50] train_loss: 0.00065 train_acc: 1300.00000\n",
            "epoch: [26/50] train_loss: 0.00059 train_acc: 1400.00000\n",
            "epoch: [27/50] train_loss: 0.00076 train_acc: 100.00000\n",
            "epoch: [27/50] train_loss: 0.00368 train_acc: 200.00000\n",
            "epoch: [27/50] train_loss: 0.00029 train_acc: 300.00000\n",
            "epoch: [27/50] train_loss: 0.00203 train_acc: 400.00000\n",
            "epoch: [27/50] train_loss: 0.00174 train_acc: 500.00000\n",
            "epoch: [27/50] train_loss: 0.00046 train_acc: 600.00000\n",
            "epoch: [27/50] train_loss: 0.00070 train_acc: 700.00000\n",
            "epoch: [27/50] train_loss: 0.00017 train_acc: 800.00000\n",
            "epoch: [27/50] train_loss: 0.00077 train_acc: 900.00000\n",
            "epoch: [27/50] train_loss: 0.00041 train_acc: 1000.00000\n",
            "epoch: [27/50] train_loss: 0.00007 train_acc: 1100.00000\n",
            "epoch: [27/50] train_loss: 0.00011 train_acc: 1200.00000\n",
            "epoch: [27/50] train_loss: 0.00049 train_acc: 1300.00000\n",
            "epoch: [27/50] train_loss: 0.00034 train_acc: 1400.00000\n",
            "epoch: [28/50] train_loss: 0.00107 train_acc: 100.00000\n",
            "epoch: [28/50] train_loss: 0.00038 train_acc: 200.00000\n",
            "epoch: [28/50] train_loss: 0.00028 train_acc: 300.00000\n",
            "epoch: [28/50] train_loss: 0.00128 train_acc: 400.00000\n",
            "epoch: [28/50] train_loss: 0.00067 train_acc: 500.00000\n",
            "epoch: [28/50] train_loss: 0.00005 train_acc: 600.00000\n",
            "epoch: [28/50] train_loss: 0.00036 train_acc: 700.00000\n",
            "epoch: [28/50] train_loss: 0.00008 train_acc: 800.00000\n",
            "epoch: [28/50] train_loss: 0.00077 train_acc: 900.00000\n",
            "epoch: [28/50] train_loss: 0.00013 train_acc: 1000.00000\n",
            "epoch: [28/50] train_loss: 0.00004 train_acc: 1100.00000\n",
            "epoch: [28/50] train_loss: 0.00005 train_acc: 1200.00000\n",
            "epoch: [28/50] train_loss: 0.00007 train_acc: 1300.00000\n",
            "epoch: [28/50] train_loss: 0.00012 train_acc: 1400.00000\n",
            "epoch: [29/50] train_loss: 0.00045 train_acc: 100.00000\n",
            "epoch: [29/50] train_loss: 0.00112 train_acc: 200.00000\n",
            "epoch: [29/50] train_loss: 0.00022 train_acc: 300.00000\n",
            "epoch: [29/50] train_loss: 0.00075 train_acc: 400.00000\n",
            "epoch: [29/50] train_loss: 0.00040 train_acc: 500.00000\n",
            "epoch: [29/50] train_loss: 0.00018 train_acc: 600.00000\n",
            "epoch: [29/50] train_loss: 0.00018 train_acc: 700.00000\n",
            "epoch: [29/50] train_loss: 0.00007 train_acc: 800.00000\n",
            "epoch: [29/50] train_loss: 0.00051 train_acc: 900.00000\n",
            "epoch: [29/50] train_loss: 0.00027 train_acc: 1000.00000\n",
            "epoch: [29/50] train_loss: 0.00004 train_acc: 1100.00000\n",
            "epoch: [29/50] train_loss: 0.00003 train_acc: 1200.00000\n",
            "epoch: [29/50] train_loss: 0.00008 train_acc: 1300.00000\n",
            "epoch: [29/50] train_loss: 0.00011 train_acc: 1400.00000\n",
            "epoch: [30/50] train_loss: 0.00047 train_acc: 100.00000\n",
            "epoch: [30/50] train_loss: 0.00030 train_acc: 200.00000\n",
            "epoch: [30/50] train_loss: 0.00007 train_acc: 300.00000\n",
            "epoch: [30/50] train_loss: 0.00087 train_acc: 400.00000\n",
            "epoch: [30/50] train_loss: 0.00009 train_acc: 500.00000\n",
            "epoch: [30/50] train_loss: 0.00481 train_acc: 600.00000\n",
            "epoch: [30/50] train_loss: 0.14676 train_acc: 696.25000\n",
            "epoch: [30/50] train_loss: 0.04507 train_acc: 792.50000\n",
            "epoch: [30/50] train_loss: 0.13024 train_acc: 888.75000\n",
            "epoch: [30/50] train_loss: 0.01012 train_acc: 988.75000\n",
            "epoch: [30/50] train_loss: 0.01038 train_acc: 1088.75000\n",
            "epoch: [30/50] train_loss: 0.00010 train_acc: 1188.75000\n",
            "epoch: [30/50] train_loss: 0.00060 train_acc: 1288.75000\n",
            "epoch: [30/50] train_loss: 0.00331 train_acc: 1388.75000\n",
            "epoch: [31/50] train_loss: 0.02386 train_acc: 97.50000\n",
            "epoch: [31/50] train_loss: 0.04447 train_acc: 196.25000\n",
            "epoch: [31/50] train_loss: 0.01302 train_acc: 296.25000\n",
            "epoch: [31/50] train_loss: 0.00503 train_acc: 396.25000\n",
            "epoch: [31/50] train_loss: 0.00455 train_acc: 496.25000\n",
            "epoch: [31/50] train_loss: 0.00139 train_acc: 596.25000\n",
            "epoch: [31/50] train_loss: 0.00055 train_acc: 696.25000\n",
            "epoch: [31/50] train_loss: 0.00089 train_acc: 796.25000\n",
            "epoch: [31/50] train_loss: 0.00076 train_acc: 896.25000\n",
            "epoch: [31/50] train_loss: 0.00025 train_acc: 996.25000\n",
            "epoch: [31/50] train_loss: 0.00009 train_acc: 1096.25000\n",
            "epoch: [31/50] train_loss: 0.00012 train_acc: 1196.25000\n",
            "epoch: [31/50] train_loss: 0.00084 train_acc: 1296.25000\n",
            "epoch: [31/50] train_loss: 0.00026 train_acc: 1396.25000\n",
            "epoch: [32/50] train_loss: 0.01803 train_acc: 98.75000\n",
            "epoch: [32/50] train_loss: 0.00425 train_acc: 198.75000\n",
            "epoch: [32/50] train_loss: 0.00058 train_acc: 298.75000\n",
            "epoch: [32/50] train_loss: 0.00771 train_acc: 398.75000\n",
            "epoch: [32/50] train_loss: 0.00042 train_acc: 498.75000\n",
            "epoch: [32/50] train_loss: 0.00007 train_acc: 598.75000\n",
            "epoch: [32/50] train_loss: 0.00756 train_acc: 698.75000\n",
            "epoch: [32/50] train_loss: 0.00046 train_acc: 798.75000\n",
            "epoch: [32/50] train_loss: 0.00382 train_acc: 898.75000\n",
            "epoch: [32/50] train_loss: 0.00027 train_acc: 998.75000\n",
            "epoch: [32/50] train_loss: 0.00005 train_acc: 1098.75000\n",
            "epoch: [32/50] train_loss: 0.00781 train_acc: 1198.75000\n",
            "epoch: [32/50] train_loss: 0.02896 train_acc: 1297.50000\n",
            "epoch: [32/50] train_loss: 0.00081 train_acc: 1397.50000\n",
            "epoch: [33/50] train_loss: 0.03861 train_acc: 98.75000\n",
            "epoch: [33/50] train_loss: 0.03376 train_acc: 197.50000\n",
            "epoch: [33/50] train_loss: 0.00180 train_acc: 297.50000\n",
            "epoch: [33/50] train_loss: 0.01036 train_acc: 397.50000\n",
            "epoch: [33/50] train_loss: 0.00071 train_acc: 497.50000\n",
            "epoch: [33/50] train_loss: 0.00190 train_acc: 597.50000\n",
            "epoch: [33/50] train_loss: 0.13192 train_acc: 696.25000\n",
            "epoch: [33/50] train_loss: 0.00132 train_acc: 796.25000\n",
            "epoch: [33/50] train_loss: 0.00667 train_acc: 896.25000\n",
            "epoch: [33/50] train_loss: 0.01151 train_acc: 995.00000\n",
            "epoch: [33/50] train_loss: 0.00769 train_acc: 1095.00000\n",
            "epoch: [33/50] train_loss: 0.00007 train_acc: 1195.00000\n",
            "epoch: [33/50] train_loss: 0.00852 train_acc: 1295.00000\n",
            "epoch: [33/50] train_loss: 0.00679 train_acc: 1395.00000\n",
            "epoch: [34/50] train_loss: 0.00925 train_acc: 100.00000\n",
            "epoch: [34/50] train_loss: 0.00404 train_acc: 200.00000\n",
            "epoch: [34/50] train_loss: 0.00104 train_acc: 300.00000\n",
            "epoch: [34/50] train_loss: 0.00293 train_acc: 400.00000\n",
            "epoch: [34/50] train_loss: 0.00431 train_acc: 500.00000\n",
            "epoch: [34/50] train_loss: 0.00139 train_acc: 600.00000\n",
            "epoch: [34/50] train_loss: 0.00033 train_acc: 700.00000\n",
            "epoch: [34/50] train_loss: 0.00025 train_acc: 800.00000\n",
            "epoch: [34/50] train_loss: 0.00116 train_acc: 900.00000\n",
            "epoch: [34/50] train_loss: 0.00093 train_acc: 1000.00000\n",
            "epoch: [34/50] train_loss: 0.00004 train_acc: 1100.00000\n",
            "epoch: [34/50] train_loss: 0.00001 train_acc: 1200.00000\n",
            "epoch: [34/50] train_loss: 0.00037 train_acc: 1300.00000\n",
            "epoch: [34/50] train_loss: 0.00016 train_acc: 1400.00000\n",
            "epoch: [35/50] train_loss: 0.00051 train_acc: 100.00000\n",
            "epoch: [35/50] train_loss: 0.00067 train_acc: 200.00000\n",
            "epoch: [35/50] train_loss: 0.00098 train_acc: 300.00000\n",
            "epoch: [35/50] train_loss: 0.00131 train_acc: 400.00000\n",
            "epoch: [35/50] train_loss: 0.00017 train_acc: 500.00000\n",
            "epoch: [35/50] train_loss: 0.00001 train_acc: 600.00000\n",
            "epoch: [35/50] train_loss: 0.00007 train_acc: 700.00000\n",
            "epoch: [35/50] train_loss: 0.00003 train_acc: 800.00000\n",
            "epoch: [35/50] train_loss: 0.00084 train_acc: 900.00000\n",
            "epoch: [35/50] train_loss: 0.00010 train_acc: 1000.00000\n",
            "epoch: [35/50] train_loss: 0.00002 train_acc: 1100.00000\n",
            "epoch: [35/50] train_loss: 0.00000 train_acc: 1200.00000\n",
            "epoch: [35/50] train_loss: 0.00013 train_acc: 1300.00000\n",
            "epoch: [35/50] train_loss: 0.00010 train_acc: 1400.00000\n",
            "epoch: [36/50] train_loss: 0.00014 train_acc: 100.00000\n",
            "epoch: [36/50] train_loss: 0.00027 train_acc: 200.00000\n",
            "epoch: [36/50] train_loss: 0.00029 train_acc: 300.00000\n",
            "epoch: [36/50] train_loss: 0.00050 train_acc: 400.00000\n",
            "epoch: [36/50] train_loss: 0.00014 train_acc: 500.00000\n",
            "epoch: [36/50] train_loss: 0.00000 train_acc: 600.00000\n",
            "epoch: [36/50] train_loss: 0.00006 train_acc: 700.00000\n",
            "epoch: [36/50] train_loss: 0.00002 train_acc: 800.00000\n",
            "epoch: [36/50] train_loss: 0.00030 train_acc: 900.00000\n",
            "epoch: [36/50] train_loss: 0.00004 train_acc: 1000.00000\n",
            "epoch: [36/50] train_loss: 0.00002 train_acc: 1100.00000\n",
            "epoch: [36/50] train_loss: 0.00000 train_acc: 1200.00000\n",
            "epoch: [36/50] train_loss: 0.00006 train_acc: 1300.00000\n",
            "epoch: [36/50] train_loss: 0.00006 train_acc: 1400.00000\n",
            "epoch: [37/50] train_loss: 0.00006 train_acc: 100.00000\n",
            "epoch: [37/50] train_loss: 0.00023 train_acc: 200.00000\n",
            "epoch: [37/50] train_loss: 0.00012 train_acc: 300.00000\n",
            "epoch: [37/50] train_loss: 0.00032 train_acc: 400.00000\n",
            "epoch: [37/50] train_loss: 0.00008 train_acc: 500.00000\n",
            "epoch: [37/50] train_loss: 0.00000 train_acc: 600.00000\n",
            "epoch: [37/50] train_loss: 0.00005 train_acc: 700.00000\n",
            "epoch: [37/50] train_loss: 0.00001 train_acc: 800.00000\n",
            "epoch: [37/50] train_loss: 0.00015 train_acc: 900.00000\n",
            "epoch: [37/50] train_loss: 0.00003 train_acc: 1000.00000\n",
            "epoch: [37/50] train_loss: 0.00002 train_acc: 1100.00000\n",
            "epoch: [37/50] train_loss: 0.00000 train_acc: 1200.00000\n",
            "epoch: [37/50] train_loss: 0.00004 train_acc: 1300.00000\n",
            "epoch: [37/50] train_loss: 0.00005 train_acc: 1400.00000\n",
            "epoch: [38/50] train_loss: 0.00005 train_acc: 100.00000\n",
            "epoch: [38/50] train_loss: 0.00017 train_acc: 200.00000\n",
            "epoch: [38/50] train_loss: 0.00005 train_acc: 300.00000\n",
            "epoch: [38/50] train_loss: 0.00019 train_acc: 400.00000\n",
            "epoch: [38/50] train_loss: 0.00005 train_acc: 500.00000\n",
            "epoch: [38/50] train_loss: 0.00000 train_acc: 600.00000\n",
            "epoch: [38/50] train_loss: 0.00003 train_acc: 700.00000\n",
            "epoch: [38/50] train_loss: 0.00001 train_acc: 800.00000\n",
            "epoch: [38/50] train_loss: 0.00009 train_acc: 900.00000\n",
            "epoch: [38/50] train_loss: 0.00003 train_acc: 1000.00000\n",
            "epoch: [38/50] train_loss: 0.00001 train_acc: 1100.00000\n",
            "epoch: [38/50] train_loss: 0.00000 train_acc: 1200.00000\n",
            "epoch: [38/50] train_loss: 0.00003 train_acc: 1300.00000\n",
            "epoch: [38/50] train_loss: 0.00003 train_acc: 1400.00000\n",
            "epoch: [39/50] train_loss: 0.00004 train_acc: 100.00000\n",
            "epoch: [39/50] train_loss: 0.00010 train_acc: 200.00000\n",
            "epoch: [39/50] train_loss: 0.00003 train_acc: 300.00000\n",
            "epoch: [39/50] train_loss: 0.00011 train_acc: 400.00000\n",
            "epoch: [39/50] train_loss: 0.00003 train_acc: 500.00000\n",
            "epoch: [39/50] train_loss: 0.00000 train_acc: 600.00000\n",
            "epoch: [39/50] train_loss: 0.00003 train_acc: 700.00000\n",
            "epoch: [39/50] train_loss: 0.00001 train_acc: 800.00000\n",
            "epoch: [39/50] train_loss: 0.00006 train_acc: 900.00000\n",
            "epoch: [39/50] train_loss: 0.00002 train_acc: 1000.00000\n",
            "epoch: [39/50] train_loss: 0.00001 train_acc: 1100.00000\n",
            "epoch: [39/50] train_loss: 0.00000 train_acc: 1200.00000\n",
            "epoch: [39/50] train_loss: 0.00002 train_acc: 1300.00000\n",
            "epoch: [39/50] train_loss: 0.00002 train_acc: 1400.00000\n",
            "epoch: [40/50] train_loss: 0.00003 train_acc: 100.00000\n",
            "epoch: [40/50] train_loss: 0.00006 train_acc: 200.00000\n",
            "epoch: [40/50] train_loss: 0.00002 train_acc: 300.00000\n",
            "epoch: [40/50] train_loss: 0.00006 train_acc: 400.00000\n",
            "epoch: [40/50] train_loss: 0.00002 train_acc: 500.00000\n",
            "epoch: [40/50] train_loss: 0.00000 train_acc: 600.00000\n",
            "epoch: [40/50] train_loss: 0.00002 train_acc: 700.00000\n",
            "epoch: [40/50] train_loss: 0.00000 train_acc: 800.00000\n",
            "epoch: [40/50] train_loss: 0.00003 train_acc: 900.00000\n",
            "epoch: [40/50] train_loss: 0.00001 train_acc: 1000.00000\n",
            "epoch: [40/50] train_loss: 0.00001 train_acc: 1100.00000\n",
            "epoch: [40/50] train_loss: 0.00000 train_acc: 1200.00000\n",
            "epoch: [40/50] train_loss: 0.00001 train_acc: 1300.00000\n",
            "epoch: [40/50] train_loss: 0.00001 train_acc: 1400.00000\n",
            "epoch: [41/50] train_loss: 0.00002 train_acc: 100.00000\n",
            "epoch: [41/50] train_loss: 0.00003 train_acc: 200.00000\n",
            "epoch: [41/50] train_loss: 0.00001 train_acc: 300.00000\n",
            "epoch: [41/50] train_loss: 0.00003 train_acc: 400.00000\n",
            "epoch: [41/50] train_loss: 0.00001 train_acc: 500.00000\n",
            "epoch: [41/50] train_loss: 0.00000 train_acc: 600.00000\n",
            "epoch: [41/50] train_loss: 0.00002 train_acc: 700.00000\n",
            "epoch: [41/50] train_loss: 0.00000 train_acc: 800.00000\n",
            "epoch: [41/50] train_loss: 0.00002 train_acc: 900.00000\n",
            "epoch: [41/50] train_loss: 0.00001 train_acc: 1000.00000\n",
            "epoch: [41/50] train_loss: 0.00000 train_acc: 1100.00000\n",
            "epoch: [41/50] train_loss: 0.00000 train_acc: 1200.00000\n",
            "epoch: [41/50] train_loss: 0.00001 train_acc: 1300.00000\n",
            "epoch: [41/50] train_loss: 0.00000 train_acc: 1400.00000\n",
            "epoch: [42/50] train_loss: 0.00001 train_acc: 100.00000\n",
            "epoch: [42/50] train_loss: 0.00002 train_acc: 200.00000\n",
            "epoch: [42/50] train_loss: 0.00001 train_acc: 300.00000\n",
            "epoch: [42/50] train_loss: 0.00002 train_acc: 400.00000\n",
            "epoch: [42/50] train_loss: 0.00000 train_acc: 500.00000\n",
            "epoch: [42/50] train_loss: 0.00000 train_acc: 600.00000\n",
            "epoch: [42/50] train_loss: 0.00001 train_acc: 700.00000\n",
            "epoch: [42/50] train_loss: 0.00000 train_acc: 800.00000\n",
            "epoch: [42/50] train_loss: 0.00001 train_acc: 900.00000\n",
            "epoch: [42/50] train_loss: 0.00000 train_acc: 1000.00000\n",
            "epoch: [42/50] train_loss: 0.00000 train_acc: 1100.00000\n",
            "epoch: [42/50] train_loss: 0.00000 train_acc: 1200.00000\n",
            "epoch: [42/50] train_loss: 0.00000 train_acc: 1300.00000\n",
            "epoch: [42/50] train_loss: 0.00000 train_acc: 1400.00000\n",
            "epoch: [43/50] train_loss: 0.00001 train_acc: 100.00000\n",
            "epoch: [43/50] train_loss: 0.00001 train_acc: 200.00000\n",
            "epoch: [43/50] train_loss: 0.00000 train_acc: 300.00000\n",
            "epoch: [43/50] train_loss: 0.00001 train_acc: 400.00000\n",
            "epoch: [43/50] train_loss: 0.00000 train_acc: 500.00000\n",
            "epoch: [43/50] train_loss: 0.00000 train_acc: 600.00000\n",
            "epoch: [43/50] train_loss: 0.00001 train_acc: 700.00000\n",
            "epoch: [43/50] train_loss: 0.00000 train_acc: 800.00000\n",
            "epoch: [43/50] train_loss: 0.00001 train_acc: 900.00000\n",
            "epoch: [43/50] train_loss: 0.00000 train_acc: 1000.00000\n",
            "epoch: [43/50] train_loss: 0.00000 train_acc: 1100.00000\n",
            "epoch: [43/50] train_loss: 0.00000 train_acc: 1200.00000\n",
            "epoch: [43/50] train_loss: 0.00000 train_acc: 1300.00000\n",
            "epoch: [43/50] train_loss: 0.00000 train_acc: 1400.00000\n",
            "epoch: [44/50] train_loss: 0.00001 train_acc: 100.00000\n",
            "epoch: [44/50] train_loss: 0.00000 train_acc: 200.00000\n",
            "epoch: [44/50] train_loss: 0.00000 train_acc: 300.00000\n",
            "epoch: [44/50] train_loss: 0.00001 train_acc: 400.00000\n",
            "epoch: [44/50] train_loss: 0.00000 train_acc: 500.00000\n",
            "epoch: [44/50] train_loss: 0.00000 train_acc: 600.00000\n",
            "epoch: [44/50] train_loss: 0.00001 train_acc: 700.00000\n",
            "epoch: [44/50] train_loss: 0.00000 train_acc: 800.00000\n",
            "epoch: [44/50] train_loss: 0.00000 train_acc: 900.00000\n",
            "epoch: [44/50] train_loss: 0.00000 train_acc: 1000.00000\n",
            "epoch: [44/50] train_loss: 0.00000 train_acc: 1100.00000\n",
            "epoch: [44/50] train_loss: 0.00000 train_acc: 1200.00000\n",
            "epoch: [44/50] train_loss: 0.00000 train_acc: 1300.00000\n",
            "epoch: [44/50] train_loss: 0.00000 train_acc: 1400.00000\n",
            "epoch: [45/50] train_loss: 0.00000 train_acc: 100.00000\n",
            "epoch: [45/50] train_loss: 0.00000 train_acc: 200.00000\n",
            "epoch: [45/50] train_loss: 0.00000 train_acc: 300.00000\n",
            "epoch: [45/50] train_loss: 0.00000 train_acc: 400.00000\n",
            "epoch: [45/50] train_loss: 0.00000 train_acc: 500.00000\n",
            "epoch: [45/50] train_loss: 0.00000 train_acc: 600.00000\n",
            "epoch: [45/50] train_loss: 0.00000 train_acc: 700.00000\n",
            "epoch: [45/50] train_loss: 0.00000 train_acc: 800.00000\n",
            "epoch: [45/50] train_loss: 0.00000 train_acc: 900.00000\n",
            "epoch: [45/50] train_loss: 0.00000 train_acc: 1000.00000\n",
            "epoch: [45/50] train_loss: 0.00000 train_acc: 1100.00000\n",
            "epoch: [45/50] train_loss: 0.00000 train_acc: 1200.00000\n",
            "epoch: [45/50] train_loss: 0.00000 train_acc: 1300.00000\n",
            "epoch: [45/50] train_loss: 0.00000 train_acc: 1400.00000\n",
            "epoch: [46/50] train_loss: 0.00000 train_acc: 100.00000\n",
            "epoch: [46/50] train_loss: 0.00000 train_acc: 200.00000\n",
            "epoch: [46/50] train_loss: 0.00000 train_acc: 300.00000\n",
            "epoch: [46/50] train_loss: 0.00000 train_acc: 400.00000\n",
            "epoch: [46/50] train_loss: 0.00000 train_acc: 500.00000\n",
            "epoch: [46/50] train_loss: 0.00000 train_acc: 600.00000\n",
            "epoch: [46/50] train_loss: 0.00000 train_acc: 700.00000\n",
            "epoch: [46/50] train_loss: 0.00000 train_acc: 800.00000\n",
            "epoch: [46/50] train_loss: 0.00000 train_acc: 900.00000\n",
            "epoch: [46/50] train_loss: 0.00000 train_acc: 1000.00000\n",
            "epoch: [46/50] train_loss: 0.00000 train_acc: 1100.00000\n",
            "epoch: [46/50] train_loss: 0.00000 train_acc: 1200.00000\n",
            "epoch: [46/50] train_loss: 0.00000 train_acc: 1300.00000\n",
            "epoch: [46/50] train_loss: 0.00000 train_acc: 1400.00000\n",
            "epoch: [47/50] train_loss: 0.00000 train_acc: 100.00000\n",
            "epoch: [47/50] train_loss: 0.00000 train_acc: 200.00000\n",
            "epoch: [47/50] train_loss: 0.08330 train_acc: 298.75000\n",
            "epoch: [47/50] train_loss: 0.03166 train_acc: 396.25000\n",
            "epoch: [47/50] train_loss: 0.05360 train_acc: 495.00000\n",
            "epoch: [47/50] train_loss: 0.01507 train_acc: 593.75000\n",
            "epoch: [47/50] train_loss: 0.01005 train_acc: 693.75000\n",
            "epoch: [47/50] train_loss: 0.00004 train_acc: 793.75000\n",
            "epoch: [47/50] train_loss: 0.02719 train_acc: 891.25000\n",
            "epoch: [47/50] train_loss: 0.01080 train_acc: 990.00000\n",
            "epoch: [47/50] train_loss: 0.00000 train_acc: 1090.00000\n",
            "epoch: [47/50] train_loss: 0.00000 train_acc: 1190.00000\n",
            "epoch: [47/50] train_loss: 0.00005 train_acc: 1290.00000\n",
            "epoch: [47/50] train_loss: 0.00001 train_acc: 1390.00000\n",
            "epoch: [48/50] train_loss: 0.04210 train_acc: 98.75000\n",
            "epoch: [48/50] train_loss: 0.01404 train_acc: 197.50000\n",
            "epoch: [48/50] train_loss: 0.00774 train_acc: 297.50000\n",
            "epoch: [48/50] train_loss: 0.01969 train_acc: 396.25000\n",
            "epoch: [48/50] train_loss: 0.00001 train_acc: 496.25000\n",
            "epoch: [48/50] train_loss: 0.00000 train_acc: 596.25000\n",
            "epoch: [48/50] train_loss: 0.09670 train_acc: 695.00000\n",
            "epoch: [48/50] train_loss: 0.17114 train_acc: 791.25000\n",
            "epoch: [48/50] train_loss: 0.00402 train_acc: 891.25000\n",
            "epoch: [48/50] train_loss: 0.00259 train_acc: 991.25000\n",
            "epoch: [48/50] train_loss: 0.00006 train_acc: 1091.25000\n",
            "epoch: [48/50] train_loss: 0.00004 train_acc: 1191.25000\n",
            "epoch: [48/50] train_loss: 0.00141 train_acc: 1291.25000\n",
            "epoch: [48/50] train_loss: 0.00000 train_acc: 1391.25000\n",
            "epoch: [49/50] train_loss: 0.00165 train_acc: 100.00000\n",
            "epoch: [49/50] train_loss: 0.00465 train_acc: 200.00000\n",
            "epoch: [49/50] train_loss: 0.00058 train_acc: 300.00000\n",
            "epoch: [49/50] train_loss: 0.00005 train_acc: 400.00000\n",
            "epoch: [49/50] train_loss: 0.00103 train_acc: 500.00000\n",
            "epoch: [49/50] train_loss: 0.00001 train_acc: 600.00000\n",
            "epoch: [49/50] train_loss: 0.00031 train_acc: 700.00000\n",
            "epoch: [49/50] train_loss: 0.00010 train_acc: 800.00000\n",
            "epoch: [49/50] train_loss: 0.00078 train_acc: 900.00000\n",
            "epoch: [49/50] train_loss: 0.00001 train_acc: 1000.00000\n",
            "epoch: [49/50] train_loss: 0.00001 train_acc: 1100.00000\n",
            "epoch: [49/50] train_loss: 0.00000 train_acc: 1200.00000\n",
            "epoch: [49/50] train_loss: 0.00004 train_acc: 1300.00000\n",
            "epoch: [49/50] train_loss: 0.00001 train_acc: 1400.00000\n",
            "epoch: [50/50] train_loss: 0.00031 train_acc: 100.00000\n",
            "epoch: [50/50] train_loss: 0.00006 train_acc: 200.00000\n",
            "epoch: [50/50] train_loss: 0.00016 train_acc: 300.00000\n",
            "epoch: [50/50] train_loss: 0.00002 train_acc: 400.00000\n",
            "epoch: [50/50] train_loss: 0.00010 train_acc: 500.00000\n",
            "epoch: [50/50] train_loss: 0.00002 train_acc: 600.00000\n",
            "epoch: [50/50] train_loss: 0.00005 train_acc: 700.00000\n",
            "epoch: [50/50] train_loss: 0.00014 train_acc: 800.00000\n",
            "epoch: [50/50] train_loss: 0.00036 train_acc: 900.00000\n",
            "epoch: [50/50] train_loss: 0.00000 train_acc: 1000.00000\n",
            "epoch: [50/50] train_loss: 0.00001 train_acc: 1100.00000\n",
            "epoch: [50/50] train_loss: 0.00000 train_acc: 1200.00000\n",
            "epoch: [50/50] train_loss: 0.00003 train_acc: 1300.00000\n",
            "epoch: [50/50] train_loss: 0.00001 train_acc: 1400.00000\n",
            "learning finish\n"
          ]
        }
      ]
    },
    {
      "cell_type": "markdown",
      "source": [
        "# **test**"
      ],
      "metadata": {
        "id": "HFx3geHA-NxI"
      }
    },
    {
      "cell_type": "code",
      "source": [
        "with torch.no_grad():\n",
        "    total_acc = 0.0\n",
        "    acc = 0.0\n",
        "    data = x_test.to('cuda')\n",
        "    labels = y_test.to('cuda')\n",
        "\n",
        "    for i,data in enumerate(x_test, 0):\n",
        "        data = data.to('cuda')\n",
        "        labels = y_test.to('cuda')\n",
        "        k = torch.tensor(labels[i])\n",
        "        k = k.view(1,-1)\n",
        "        k = k.float()\n",
        "        k = k.to('cuda')\n",
        "        outputs = model(data)\n",
        "        acc = accuracy(outputs, k)\n",
        "        total_acc += acc\n",
        "\n",
        "        count = i\n",
        "\n",
        "    print('avarage acc: %.5f' % (total_acc/count),'%')\n",
        "\n",
        "print('test finish!')"
      ],
      "metadata": {
        "id": "pEQnYvCZKTLK",
        "colab": {
          "base_uri": "https://localhost:8080/"
        },
        "outputId": "2e51bafc-bc2c-4e5c-98fe-88b2cc82ed3d"
      },
      "execution_count": 34,
      "outputs": [
        {
          "output_type": "stream",
          "name": "stderr",
          "text": [
            "/usr/local/lib/python3.7/dist-packages/ipykernel_launcher.py:10: UserWarning: To copy construct from a tensor, it is recommended to use sourceTensor.clone().detach() or sourceTensor.clone().detach().requires_grad_(True), rather than torch.tensor(sourceTensor).\n",
            "  # Remove the CWD from sys.path while we load stuff.\n"
          ]
        },
        {
          "output_type": "stream",
          "name": "stdout",
          "text": [
            "avarage acc: 97.23183 %\n",
            "test finish!\n"
          ]
        }
      ]
    },
    {
      "cell_type": "code",
      "source": [
        "def predict(pred):\n",
        "  pred = pred\n",
        "  outputs = model(pred)\n",
        "  pred_tag = torch.round(torch.sigmoid(outputs))\n",
        "  #pred_tag = torch.sigmoid(outputs)\n",
        "  return pred_tag"
      ],
      "metadata": {
        "id": "ONF5FP-Ntl89"
      },
      "execution_count": 35,
      "outputs": []
    },
    {
      "cell_type": "code",
      "source": [
        "def predicts(pred):\n",
        "  pred = pred\n",
        "  outputs = model(pred)\n",
        "  pred_tag = torch.sigmoid(outputs)\n",
        "  return pred_tag"
      ],
      "metadata": {
        "id": "cpg9VSSVuQG8"
      },
      "execution_count": 38,
      "outputs": []
    },
    {
      "cell_type": "markdown",
      "source": [
        "# **test해보기**"
      ],
      "metadata": {
        "id": "M2Y6lvdYuAwD"
      }
    },
    {
      "cell_type": "code",
      "source": [
        "image = PIL.Image.open('/content/눈사진.jpg')\n",
        "img =image.resize((64,64))\n",
        "plt.imshow(img)\n",
        "re_img = tf(img) # 해주면 image의 shape는 (3,64,64) 이된다\n",
        "re_img = re_img.to('cuda')\n",
        "pred_tag = predict(re_img)\n",
        "print(\"눈사진: \", pred_tag)\n",
        "\n",
        "prediction = predicts(re_img)\n",
        " \n",
        "if prediction < 0.5: # 눈이 감으면\n",
        "   text = \"Closed ({:.2f}%)\".format((1 - prediction[0][0])*100)\n",
        "   print(text)\n",
        "\n",
        "else: #눈을 뜨면\n",
        "   text = \"Open ({:.2f}%)\".format(prediction[0][0]*100)\n",
        "   print(text)"
      ],
      "metadata": {
        "id": "J_2cXFaW-lp7",
        "colab": {
          "base_uri": "https://localhost:8080/",
          "height": 305
        },
        "outputId": "04b967a6-35b9-43b4-fbc7-35c211b62517"
      },
      "execution_count": 39,
      "outputs": [
        {
          "output_type": "stream",
          "name": "stdout",
          "text": [
            "눈사진:  tensor([[1.]], device='cuda:0', grad_fn=<RoundBackward0>)\n",
            "Open (100.00%)\n"
          ]
        },
        {
          "output_type": "display_data",
          "data": {
            "text/plain": [
              "<Figure size 432x288 with 1 Axes>"
            ],
            "image/png": "[encoded data removed]"
          },
          "metadata": {
            "needs_background": "light"
          }
        }
      ]
    },
    {
      "cell_type": "code",
      "source": [
        "image2 = PIL.Image.open('/content/눈감음.jpg')\n",
        "img2 =image2.resize((64,64))\n",
        "plt.imshow(img2)\n",
        "re_img2 = tf(img2) # 해주면 image의 shape는 (3,64,64) 이된다\n",
        "re_img2 = re_img2.to('cuda')\n",
        "pred_tag2 = predict(re_img2)\n",
        "print(\"눈사진: \", pred_tag2)\n",
        "\n",
        "prediction = predicts(re_img2)\n",
        " \n",
        "if prediction < 0.5: # 눈이 감으면\n",
        "   text = \"Closed ({:.2f}%)\".format((1 - prediction[0][0])*100)\n",
        "   print(text)\n",
        "\n",
        "else: #눈을 뜨면\n",
        "   text = \"Open ({:.2f}%)\".format(prediction[0][0]*100)\n",
        "   print(text)"
      ],
      "metadata": {
        "colab": {
          "base_uri": "https://localhost:8080/",
          "height": 305
        },
        "id": "BAIHvUA2tviH",
        "outputId": "dd2426a5-2d97-4424-85bc-ddb1ea550479"
      },
      "execution_count": 41,
      "outputs": [
        {
          "output_type": "stream",
          "name": "stdout",
          "text": [
            "눈사진:  tensor([[0.]], device='cuda:0', grad_fn=<RoundBackward0>)\n",
            "Closed (100.00%)\n"
          ]
        },
        {
          "output_type": "display_data",
          "data": {
            "text/plain": [
              "<Figure size 432x288 with 1 Axes>"
            ],
            "image/png": "[encoded data removed]"
          },
          "metadata": {
            "needs_background": "light"
          }
        }
      ]
    },
    {
      "cell_type": "code",
      "source": [
        ""
      ],
      "metadata": {
        "id": "2MnwY6m4uMM5"
      },
      "execution_count": null,
      "outputs": []
    }
  ]
}